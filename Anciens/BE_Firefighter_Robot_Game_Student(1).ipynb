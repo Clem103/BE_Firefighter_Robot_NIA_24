{
 "cells": [
  {
   "cell_type": "markdown",
   "metadata": {
    "id": "qMCwXrzH3zRt"
   },
   "source": [
    "<h1><center>Graded practical work (12h)</center></h1>\n",
    "\n",
    "William Angelier et Marine de Fontenay"
   ]
  },
  {
   "cell_type": "markdown",
   "metadata": {
    "id": "QjXYwsD_3zR0"
   },
   "source": [
    "# INTRODUCTION"
   ]
  },
  {
   "cell_type": "markdown",
   "metadata": {
    "id": "m_djfEOB3zR2"
   },
   "source": [
    "### Objective\n",
    "\n",
    "Set up a simple yet effective POMDP model in order to drive human-machine interaction in the Firefighter Robot Game study case. This POMDP model will be based on a dataset that has been collected during an experiment and that is provided to you."
   ]
  },
  {
   "cell_type": "markdown",
   "metadata": {
    "id": "4MZzZ-M63zR3"
   },
   "source": [
    "### Recall: the POMDP model\n",
    "\n",
    "Let's recall that a POMDP (Partially Observable Markov Decision Process) is a tuple $\\langle S, A, \\Omega, p(), o(), r(), b_0 \\rangle$, with $S$ (resp. $A$, $\\Omega$) the state (resp. action, observation) space.\n",
    "How does this probabilistic planning model work?\n",
    "1. At each time step $t \\in \\mathbb{N}$, the artificial agent has only a partial knowledge of the actual current state $s \\in S$. In order to still be able to reason about the state of the system, the agent maintains a probability distribution over $S$, called belief state, and denoted by $b_t$. The initial belief state is $b_0$ and takes part in the definition of the POMDP as a prior distribution about the initial state.\n",
    "2. When the artificial agent selects an action $a \\in A$, the probability that the state of the system switches from $s \\in S$ to $s' \\in S$, is $Pr(s'\\mid s,a) = p(s,a,s')$ given by the transition probability function $p()$ in the POMDP definition.\n",
    "3. The current state is not available to the artificial agent, but the latter still receives information given by the observation $o' \\in \\Omega$. The probability that the observation $o' \\in \\Omega$ is received, is $Pr(o'\\mid s',a) = o(a,s',o')$ given by the observation probability function $o()$. \n",
    "4. An action $a$ applied in a state $s$ is rewarded by $r(s,a) \\in \\mathbb{R}$ given by the reward function $r()$.\n",
    "\n",
    "![POMDP_for_HRI.png](attachment:POMDP_for_HRI.png)\n"
   ]
  },
  {
   "cell_type": "markdown",
   "metadata": {
    "id": "yfScf2tk3zR4"
   },
   "source": [
    "#### The belief state:\n",
    "1. In partially observable domains, only successive actions and observations are visible to the agent to implement the state estimation. These sequences can be seen as the agent's memory.\n",
    "2. Let's define the history of all observations received and actions performed at time step $t \\in \\mathbb{N}$: $h_t := \\{a_0, o_1,...,o_{t-1},a_{t-1},o_t\\}$. The size of the history grows with the time step $t \\in \\mathbb{N}$, so it can become huge very quickly.\n",
    "3. The definition of the belief state at time step $t \\in \\mathbb{N}$ is the probability of the current state $s_t \\in S$ given the history $h_t$: $b_t(s) = Pr(s_t = s \\mid h_t)$.\n",
    "\n",
    "However, in practice, it is not necessary to keep the history in memory to compute the belief state. It is indeed possible to simply update the previous belief state using the action performed, and the observation received:\n",
    "\\begin{eqnarray*}\n",
    "{b_{t+1}(s')} & = & Pr(s' \\mid h_{t+1}) = Pr(s' \\mid  h_t, a_t, o_{t+1})\n",
    " = \\dfrac{Pr(o_{t+1},s' \\mid h_t,a_t)}{Pr(o_{t+1} \\mid h_t,a_t)} \\nonumber \\\\\n",
    "& = & \\dfrac{Pr(o_{t+1} \\mid s', a_t) Pr(s' \\mid h_t,a_t) }{Pr(o_{t+1} \\mid h_t, a_t)} \n",
    "= \\dfrac{o(a_t, s', o_{t+1}) Pr(s' \\mid h_t,a_t) }{Pr(o_{t+1} \\mid h_t,a_t)} \\nonumber \\\\\n",
    "& = & \\dfrac{ o(a_t, s', o_{t+1}) \\sum_{s \\in S} Pr(s' \\mid s, a_t) Pr(s \\mid h_t) }{ Pr(o_{t+1} \\mid h_t,a_t)} \n",
    "= \\dfrac{ o(a_t, s', o_{t+1}) \\sum_{s \\in S}p(s,a_t,s') b_t(s) }{ Pr(o_{t+1} \\mid h_t,a_t)} \\nonumber \\\\\n",
    "& = & \\dfrac{ o(a_t, s', o_{t+1}) \\sum_{s \\in S}p(s,a_t,s') b_t(s) }{ \\sum_{(s,s') \\in S^2} o(a_t, s', o_{t+1}) p(s,a_t,s') b_t(s) } \\nonumber = U(b_t,a_t,o_{t+1})(s').\n",
    "%{b_o^a(s')} & = & p(s' \\mid b,a,o) = \\dfrac{p(o,s' \\mid b,a)}{p(o \\mid b,a)} \\nonumber \\\\\n",
    "%& = &\\dfrac{p(o \\mid s',a)p(s' \\mid b,a)}{p(o \\mid b,a)}\\nonumber \\\\\n",
    "%& = &\\dfrac{p(o \\mid s',a)p(s' \\mid b,a)}{\\sum_{s,s'}p(o \\mid b,a,s,s')p(s,s'\\mid b,a)}\\nonumber\\\\\n",
    "%& = &\\dfrac{p(o \\mid s',a)\\sum_{s\\in S} p(s' \\mid s,a)b(s)\n",
    "%}{\\sum_{s'\\in S}p(o \\mid s',a)\\sum_{s\\in S} p(s'\\mid s,a)b(s)}\n",
    "\\label{beliefupdate}\n",
    "\\end{eqnarray*}\n",
    "The belief update function $U$ can be defined using transition and observation functions $p()$ and $o()$. When the artificial agent uses action $a_t$ and receives observation $o_{t+1}$, it can use $b_{t+1} = U(a_t,o_{t+1},b_t)$ as belief on the system state $s_{t+1}$. Now, if the belief state is $b_t$, and the selected action is $a_t$, the probability of obtaining the belief state $b_{t+1} = U(b_t,a_t,o_{t+1})$ is the following:\n",
    "\\begin{eqnarray*}\n",
    "Pr(o_{t+1} \\mid  h_t, a_t) & = & \\sum_{s' \\in S} Pr(o_{t+1} \\mid s', a_t) Pr(s' \\mid h_t) = \\sum_{(s,s') \\in S^2} Pr(o_{t+1} \\mid s', a_t) Pr(s' \\mid s, a_t) Pr(s \\mid h_t)\\\\ \n",
    "& = & \\sum_{(s,s') \\in S^2} o(a_t, s', o') p(s, a_t, s') b_t(s).\n",
    "\\end{eqnarray*}\n",
    "Since the probability distribution on the next belief $b_{t+1}$ only depends on the previous belief $b_t$ and the current action $a_t$, the belief state process $(b_t)_{t \\in \\mathbb{N}}$ is a Markov Decision Process (MDP) whose system space is the space of probability distributions. As a result, a POMDP can be transformed into a belief state MDP.\n",
    "\n",
    "In short, the artificial agent synthesizes all available information from the past using a belief state $b_t(s)$, which is a probability distribution on the system state updated every time step: $b_t(s) := Pr(s_t=s|o_t,a_{t-1},o_{t-1},..., a_0) = U(a_{t-1},o_t,b_{t-1})(s)$."
   ]
  },
  {
   "cell_type": "markdown",
   "metadata": {
    "id": "93r2_MIW3zR6"
   },
   "source": [
    "#### POMDP solving objective\n",
    "\n",
    "The agent's objective is to choose actions that will drive him to achieve better rewards. Let's define a deterministic Markovian policy $\\pi(b)$ as a function such as, $\\pi (b): b\\mapsto a$. The expected value of a given action policy $\\pi (b)$ can be formilized as:\n",
    "\n",
    "$V^{\\pi}(b) = E_\\pi\\left[\\sum ^{\\infty} _{t=0} \\gamma ^{t} r(b_t,\\pi(b_t)) \\middle\\vert b_0=b\\right]$\n",
    "\n",
    "where,  $0 \\leqslant \\gamma < 1$, and $r(b_t,\\pi(b_t))=\\sum_{s\\in S}r(s,\\pi(b_t))b_t(s)$\n",
    "\n",
    "In the POMDP context, we search for the optimal policy $\\pi^*(b)$ that maximizes the expectation of *the sum of discounted rewards* ($\\gamma$-discounted criteron). \n",
    "\n",
    "$V^{\\pi^*}(b) = \\max_\\pi E_\\pi\\left[\\sum ^{\\infty} _{t=0} \\gamma ^{t} r(b_t,\\pi(b_t)) \\middle\\vert b_0=b\\right]$\n",
    "\n",
    "Opening the sum above, on can retrieve the Bellman equation:\n",
    "\n",
    "$V^{\\pi^*}(b)  =  \\max_{a\\in A } \\left[ \\sum_{s\\in S}r(s,a)b(s) + \\gamma\\sum_{o \\in \\Omega} p(o|a,b)V^{\\pi^*}(b^a_o)\\right]$\n",
    "\n",
    "Thus, an optimal policy $\\pi^*$ is defined by $V^{\\pi^*}$ that satisfies this Bellman. The solution is said optimal when $V^*=V^{\\pi^*}$ converges to a fixed point for any $b$. In other words, one could iterate on this value function $\\forall b$ until it converges, and then extract the related policy.\n",
    "\n",
    "However:\n",
    "1. the exact solution in infinite horizon settings is *hard* to compute (PSPACE-complete)\n",
    "2. actually, current algorithms approach the optimal solution, exploiting particular properties: of the value function and of the system dynamics.\n"
   ]
  },
  {
   "cell_type": "markdown",
   "metadata": {
    "id": "9_fZu5Gz3zR7"
   },
   "source": [
    "#### Value Function parametrization\n",
    "\n",
    "1. The infinite horizon value function $V^{\\pi}(b) = E_{\\pi}\\left[\\sum ^{\\infty} _{t=0} \\gamma ^{t} r(b_t,\\pi(b_t)) \\middle\\vert b_0=b\\right]$ can be approximated by the finite horizon optimal value function $V^{\\pi}(b) = E_{\\pi}\\left[\\sum ^{N} _{t=0} r(b_t,\\pi(b_t)) \\middle\\vert b_0=b\\right]$ which is a piece-wise linear and convex (PWLC) function.\n",
    "\n",
    "2. If the function $F: \\mathbb{R}^{S} \\rightarrow \\mathbb{R}$ is a PWLC function,\n",
    "it exists a finite set of vectors of $\\mathbb{R}^{S}$,\n",
    "denoted by $\\{ \\alpha_i \\}_{i=1}^n$, such that $F$ can be written \n",
    "$F(b) = \\displaystyle \\max_{i=1}^n \\alpha_i \\cdot b = \\max_{i=1}^n \\sum_{s \\in S} \\alpha_{i}(s) \\cdot b(s)$.\n",
    "Since the belief state $b$ is a probability distribution over $S$, \n",
    "we can write $b: S \\rightarrow [0,1]$, and even $b \\in \\mathbb{R}^S$. \n",
    "The approximation of the optimal value function \n",
    "$V: \\mathbb{R}^S \\rightarrow \\mathbb{R}$ \n",
    "can be parameterized by a set of $\\alpha$-vectors\n",
    "$\\Gamma_n = \\left\\lbrace \\alpha_i \\right\\rbrace_{i=1}^n$, with $\\alpha_i \\in \\mathbb{R}^S$, $\\forall i$.\n",
    "Indeed,\n",
    "$V(b) = \\displaystyle \\max_{\\alpha \\in \\Gamma_n} \\alpha \\cdot b = \\max_{\\alpha \\in \\Gamma_n} \\sum_{s \\in S} \\alpha(s) \\cdot b(s)$.\n",
    "$%i \\in 1,...,|V_n|$\n",
    "3. In fact, $V$ is defined on the belief space\n",
    "$\\{ b \\in \\mathbb{R}^S \\mid \\sum_s b(s)=1 \\}$.\n",
    "Each $\\alpha$-vector $\\alpha_i \\in \\mathbb{R}^S$\n",
    "is associated with an action $a(\\alpha) \\in A$,\n",
    "and defines a region of the belief space, \n",
    "where $\\alpha_i \\cdot b = \\max_j \\alpha_j \\cdot b = V(b)$,\n",
    "that is, where $\\alpha_i \\cdot b$ reaches is maximum.\n",
    "The $\\alpha$-vectors form then a partition of the belief state.\n",
    "\n",
    "$$%V_n(b)  =  \\max _{\\alpha ^i_n \\in \\Gamma_n} \\sum _{s \\in S} b(s)\\alpha ^i_n(s) \\rightarrow V_n(b)  =  \\max_{\\alpha ^i_n \\in \\Gamma_n}b\\cdot \\alpha _n^i$$ \n",
    "\n",
    "Thus, for a given belief state $b$, the gradient of the value function is induced by the vector:\n",
    "\n",
    "$$ \\alpha^b = \\operatorname*{arg\\,max}_{\\alpha \\in \\Gamma_n} b \\cdot \\alpha $$\n",
    "\n",
    "and, the associated policy $\\pi(b) \\in A$ is the action of this $\\alpha$-vector, that is: \n",
    "$\\pi(b) = a(\\alpha^b)$. "
   ]
  },
  {
   "cell_type": "markdown",
   "metadata": {
    "id": "NHd0P1om3zR8"
   },
   "source": [
    "#### Solving Algorithm : point-based value iteration  (PBVI)\n",
    "\n",
    "#### Value backup operation:\n",
    "Let's define a $V_n$ parameterized by a set $\\Gamma_n$ of $\\alpha$-vectors and a given belief state $b$. One can compute $\\alpha^b_{n+1}$ of $V_{n+1}$ from $LV_n$ (the unknown set of vectors):\n",
    "$\\alpha _{n+1}^b = arg\\max_{\\alpha _{n+1}^i \\in \\mathcal{L}V_n} b \\cdot \\alpha _{n+1}^i,$\n",
    "\n",
    "Let's define $r_a=r(s,a)$ and $b \\cdot r_a = \\sum_s b(s)r(s,a)$, and a set of belief states $\\mathcal B$ where $b\\in \\mathcal B$, we have:\n",
    "$V_{n+1}(b) = \\max _a \\left[ b \\cdot r_a + \\gamma \\sum _o p(o \\mid a,b)V_n(b_o^a) \\right]$\n",
    "\n",
    "$ = \\max _a \\left[ b \\cdot r_a + \\gamma \\sum _o p(o \\mid b,a) \\max _{\\alpha _{n}^i \\in V_n} \\sum _{s'}b_o^a(s')\\alpha _n^i(s')\\right]$\n",
    "\n",
    "$ =  \\max _a \\left[ b \\cdot r_a + \\gamma \\sum _o p(o\\mid b,a) \\max _{\\alpha _{n}^i \\in V_n} \\frac {\\sum _{s'} p(o \\mid s',a) \\sum _s p(s' \\mid s,a)b(s)\\alpha _n^i(s')}{p(o\\mid b,a)}\\right]$\n",
    "\n",
    "$ =  \\max _a \\left[ b \\cdot r_a + \\gamma \\sum _o \\max _{\\alpha _{n}^i \\in V_n} \\sum _s \\sum _{s'} p(o \\mid s',a) p(s' \\mid s,a)b(s)\\alpha _n^i(s')\\right]$\n",
    "\n",
    "thus: $ V_{n+1}(b)  =  \\max _a \\left[ b \\cdot r_a + \\gamma \\sum _o \\max _{\\alpha^{a,o}_i \\in \\Gamma^{a,o}} b \\cdot \\alpha^{a,o}_i \\right] $\n",
    "\n",
    "Then, applying $\\max _j b \\cdot \\alpha _j = b \\cdot \\operatorname*{arg\\,max}_j b\\cdot \\alpha_j$ two times, we have:\n",
    "\n",
    "$backup(b)  =  arg\\max_{\\alpha^{a}_b \\in \\Gamma^a_b} b \\cdot \\alpha^a_b$\n",
    "\n",
    "$\\mathrm{with} \\; \\Gamma^a_b  \\leftarrow  r_a + \\gamma \\sum _o arg\\max_{\\alpha^{a,o}_i \\in \\Gamma^{a,o}} b \\cdot \\alpha^{a,o}_i$\n",
    "\n",
    "#### Algorithm\n",
    "\n",
    "<img src=\"../figures/pbvi.png\" width=\"600\">\n",
    "\n",
    "The output of this algorithm is a set of $\\alpha$-vectors $\\Gamma$ approximating the value function. Each $\\alpha$-vector has an associated action $a$.\n",
    "\n",
    "At execution time, one can determine the best action for a given belief state $b$, appying:\n",
    "\n",
    "$$ \\alpha^b = \\operatorname*{arg\\,max}_{\\alpha \\in \\Gamma} b \\cdot \\alpha $$\n",
    "\n",
    "and, the associated policy $\\pi(b) \\in A$ is the action of this $\\alpha$-vector, that is $\\pi(b) = a(\\alpha^b)$. \n",
    "\n",
    "#### Provided library\n",
    "The PyPOMDP library (see https://github.com/namoshizun/PyPOMDP) is provided with this notebook. \n",
    "\n",
    "This library proposes two state-of-the-art algorithms, PBVI and POMCP (do not hesitate to get a look in the Caroline's slides courses). However, this library has been customized with several additional features that will be very useful for this practical work.\n",
    "\n",
    "For instance, the library now save a Value Function parametrized by $\\alpha$-vectors, in a file. This can be then reloaded to simulate the policy in order to evaluate futur gains, or in order to replay an experiment.\n",
    "\n",
    "In this practical work course we will mainly use the implementation of PBVI."
   ]
  },
  {
   "cell_type": "markdown",
   "metadata": {
    "id": "E8Z1Wr7f3zSB"
   },
   "source": [
    "# THE FIREFIGTHER ROBOT GAME\n",
    "\n",
    "## Experiments conduted in the lab\n",
    "During lab experiments, 18 volunteers equipped with physiological sensors have played the Firefigther Robot Game.\n",
    "http://robot-isae.isae.fr\n",
    "\n",
    "![sujet.JPG](attachment:sujet.JPG)\n",
    "\n",
    "Each participant followed an experimental protocol in which 4 missions are played. Please see the FireFigther game presentation for more details.\n",
    "\n",
    "![procedureEnglish.png](attachment:procedureEnglish.png)\n"
   ]
  },
  {
   "cell_type": "markdown",
   "metadata": {
    "id": "qa2X3FDT3zSC"
   },
   "source": [
    "## Mission scoring \n",
    "\n",
    "The number of extinguished fires allowed to quantify how well a mission has been performed. We could define two performance group using the median score as a threshold to obtain a balanced dataset. Each mission was then labeled as: 0 for low scoring mission group (low performance); and 1 for high scoring mission group (high performance).\n",
    "\n",
    "\n",
    "## Datasets\n",
    "\n",
    "Two datasets are provided:\n",
    "1. A labeled dataFrame including preprocessed markers for each 10-second time window, mission and participant\n",
    "2. A labeled dataFrame gathering **averaged markers** results for each 10-second time window, mission, participant and robot operation mode\n"
   ]
  },
  {
   "cell_type": "code",
   "execution_count": 4,
   "metadata": {
    "scrolled": true,
    "colab": {
     "base_uri": "https://localhost:8080/"
    },
    "id": "RrDoswWi3zSD",
    "executionInfo": {
     "status": "ok",
     "timestamp": 1644417585701,
     "user_tz": 0,
     "elapsed": 731,
     "user": {
      "displayName": "Quentin Bernaudon",
      "photoUrl": "https://lh3.googleusercontent.com/a/default-user=s64",
      "userId": "08827465376849456822"
     }
    },
    "outputId": "61aac20f-1196-435d-905b-e43c490db8db"
   },
   "outputs": [
    {
     "output_type": "stream",
     "name": "stdout",
     "text": [
      "      subject  mission  mode  ...  tank_local_score    HRnorm  label\n",
      "0        19.0      1.0   0.0  ...             0.000  6.185203    1.0\n",
      "1        19.0      1.0   0.0  ...            -2.222  7.846128    1.0\n",
      "2        19.0      1.0   1.0  ...            -8.445  6.921088    1.0\n",
      "3        19.0      1.0   1.0  ...             4.555  3.578949    1.0\n",
      "4        19.0      1.0   1.0  ...            19.032  4.387671    1.0\n",
      "...       ...      ...   ...  ...               ...       ...    ...\n",
      "3586     40.0      4.0   1.0  ...             7.286  3.992174    0.0\n",
      "3587     40.0      4.0   0.0  ...             2.714  1.271330    0.0\n",
      "3588     40.0      4.0   0.0  ...             3.778  3.773822    0.0\n",
      "3589     40.0      4.0   0.0  ...            -0.334  6.470367    0.0\n",
      "3590     40.0      4.0   1.0  ...            -1.111  5.789618    0.0\n",
      "\n",
      "[3591 rows x 22 columns]\n",
      "            HR       HRV     HRnorm  ...     trees  nbt_trees_mode  label\n",
      "0    73.305546 -0.069436   6.921808  ...  0.466667              14      1\n",
      "1    72.956445 -0.063483   6.572708  ...  0.379310              11      1\n",
      "2    71.576225 -0.091708   8.067361  ...  0.428571              12      1\n",
      "3    72.168841 -0.090276   8.659977  ...  0.481481              13      1\n",
      "4    73.885036 -0.096448  10.241172  ...  0.720000              18      1\n",
      "..         ...       ...        ...  ...       ...             ...    ...\n",
      "139  66.093630 -0.043516   0.539398  ...  0.500000               1      0\n",
      "140  67.925163 -0.044169   0.990982  ...  0.071429               1      0\n",
      "141  69.152892 -0.038705   2.218711  ...  0.200000               1      0\n",
      "142  68.981841 -0.040580   3.206573  ...  0.000000               0      0\n",
      "143  69.233786 -0.042072   3.458518  ...  0.363636               8      0\n",
      "\n",
      "[144 rows x 23 columns]\n"
     ]
    }
   ],
   "source": [
    "import pandas as pd\n",
    "import numpy as np\n",
    "\n",
    "# example :\n",
    "# importing label dataset including preprocessed markers for each 10-second time window, mission and participant\n",
    "# this dataset will be useful for classification purposes\n",
    "df10labeled_data = pd.read_csv('./df10labeled_data.csv')\n",
    "print(df10labeled_data)\n",
    "\n",
    "# example:\n",
    "# importing labeled dataset with averaged or summed markers results for each \n",
    "# 10-second time window, mission, participant and robot operation mode\n",
    "averagedPMPVmode_w10_data = pd.read_csv('./averagedPMPVmode_w10_data.csv')\n",
    "print(averagedPMPVmode_w10_data)\n"
   ]
  },
  {
   "cell_type": "markdown",
   "metadata": {
    "id": "XJiNh-cI3zSH"
   },
   "source": [
    "### Markers description\n",
    "* **subject** : identification number of the participant\n",
    "* **mission** : identification number of the mission (1, 2, 3 or 4)\n",
    "* **mode** : robot operation mode (0 for manual, 1 for autonomous)\n",
    "* **HR** : average of the participant's heart-rate (on the 10sec window) \n",
    "* **normHR** : normalized participant's heart-rate (w.r.t. the rest period)\n",
    "* **HRV** : normalized heart-rate variability (w.r.t. the rest period)\n",
    "* **nav** : total number of keystrokes and cliks related with robot navigation control task in the 10sec window.\n",
    "* **tank** : total number of  keystrokes/clicks realted with the external tank management task in the 10sec window.\n",
    "* **space** : total number of times the space key was pressed in the 10sec window.\n",
    "* **trees** : total number of trees on fire that are extinghised using the space keyboard in the 10sec window.\n",
    "* **nbAOI1** : total number of eye fixations in the AOI (Areas-Of-Interest) number 1 (same for the others).\n",
    "* **durAOI1** : total duration of fixations performed in the AOI number 1 (same for the others)\n",
    "* **tank_local_score** : how much the external tank level has increased/decreased in the last 10s.\n",
    "* **nbt_trees_mode** : total number of extinguished trees per operation mode\n",
    "* **label**: {0,1} boolean indicating if the final mission score is good (1) or bad (0). Note that in this work we will consider that it reflects the mental state of the human operator: 1 for $e$ (engaged / performant) and 0 for $ne$ (not engaged / not performant)."
   ]
  },
  {
   "cell_type": "markdown",
   "metadata": {
    "id": "FRcS0yJE3zSI"
   },
   "source": [
    "# PRACTICAL WORK TASKS"
   ]
  },
  {
   "cell_type": "markdown",
   "metadata": {
    "id": "158vkAYv3zSM"
   },
   "source": [
    "## Task 1 : Defining the POMDP model "
   ]
  },
  {
   "cell_type": "markdown",
   "metadata": {
    "id": "jnFO9qOK3zSM"
   },
   "source": [
    "As our goal is to drive (i.e. control) the interaction between the human operator and the robot in function of the human operator engagement (cf. presentation):\n",
    "\n",
    "1. We define the state space as $S = S_h$, where $S_h = \\{e, ne\\}$, to express the human partially observable mental state of (a correct) engagement ($e$) or the absence of (a correct) engagement ($ne$). Note that this last mental state encapsulates disengaged and over-engaged cases, in which participants performed badly.\n",
    "2. We define the action space as $A = \\{manual, auto\\}$, representing the possible decisions of our POMDP agent about which robot operation mode (manual or autonomous mode) should be used.\n",
    "3. We define the observation space as $\\Omega =  \\{oe, one\\}$, that are the possible predictions of a classifier trained to detect human engagement based on available behavioral and physiological data.\n",
    "\n",
    "The transition function is defined as $p(s, a, s') = Pr(s' \\mid s,a) = \\left \\{ \\begin{array}{cc} 1 - \\epsilon & \\mbox{if } s=s'\\\\ \\epsilon & \\mbox{ otherwise } \\end{array} \\right.$. Note that the dynamics of the operator engagement in the task is rougly approached using the fact that an \"engaged\" human operator remains \"engaged\" with a small probability ($\\epsilon$) for changing its mental state to \"not engaged\".\n",
    "\n",
    "**It will be your job to define of the observation $o()$ and the reward $r()$ functions. For that, you may make use of the provided behavioral and physiological data.**\n",
    "\n",
    "We notice that the time step $t$ in our POMDP model refers to a 10-second time window. In other words, the POMDP agent plays an action every 10s."
   ]
  },
  {
   "cell_type": "markdown",
   "metadata": {
    "id": "6irg-uQn3zSN"
   },
   "source": [
    "### Task 1.1 : Define the POMDP observation function\n",
    "\n",
    "To achieve this step, proceed by chosing features and use them to train and test a classifier. \n",
    "\n",
    "The output of this classifier will be the prediction (observation) about the human operator engagement based on data. As explained, ET, ECG and HAI markers are provided. **It is your job to choose which markers are relevant to be used as features.**\n",
    "\n",
    "In order to check on markers relevance, we suggest you perform decriptive and statistical analysis."
   ]
  },
  {
   "cell_type": "markdown",
   "metadata": {
    "id": "Edzbc9KE3zSN"
   },
   "source": [
    "#### Task 1.1.1: Descriptive data analysis"
   ]
  },
  {
   "cell_type": "code",
   "execution_count": 6,
   "metadata": {
    "colab": {
     "base_uri": "https://localhost:8080/",
     "height": 1000
    },
    "id": "CPefDYfU3zSO",
    "executionInfo": {
     "status": "ok",
     "timestamp": 1644417610022,
     "user_tz": 0,
     "elapsed": 4917,
     "user": {
      "displayName": "Quentin Bernaudon",
      "photoUrl": "https://lh3.googleusercontent.com/a/default-user=s64",
      "userId": "08827465376849456822"
     }
    },
    "outputId": "a54a8d4b-f707-4874-9123-203966ebe744"
   },
   "outputs": [
    {
     "output_type": "display_data",
     "data": {
      "image/png": "[encoded data removed]",
      "text/plain": [
       "<Figure size 432x288 with 1 Axes>"
      ]
     },
     "metadata": {
      "needs_background": "light"
     }
    },
    {
     "output_type": "display_data",
     "data": {
      "image/png": "[encoded data removed]",
      "text/plain": [
       "<Figure size 432x288 with 1 Axes>"
      ]
     },
     "metadata": {
      "needs_background": "light"
     }
    },
    {
     "output_type": "display_data",
     "data": {
      "image/png": "[encoded data removed]",
      "text/plain": [
       "<Figure size 432x288 with 1 Axes>"
      ]
     },
     "metadata": {
      "needs_background": "light"
     }
    },
    {
     "output_type": "display_data",
     "data": {
      "image/png": "[encoded data removed]",
      "text/plain": [
       "<Figure size 432x288 with 1 Axes>"
      ]
     },
     "metadata": {
      "needs_background": "light"
     }
    },
    {
     "output_type": "display_data",
     "data": {
      "image/png": "[encoded data removed]",
      "text/plain": [
       "<Figure size 432x288 with 1 Axes>"
      ]
     },
     "metadata": {
      "needs_background": "light"
     }
    },
    {
     "output_type": "display_data",
     "data": {
      "image/png": "[encoded data removed]",
      "text/plain": [
       "<Figure size 432x288 with 1 Axes>"
      ]
     },
     "metadata": {
      "needs_background": "light"
     }
    },
    {
     "output_type": "display_data",
     "data": {
      "image/png": "[encoded data removed]",
      "text/plain": [
       "<Figure size 432x288 with 1 Axes>"
      ]
     },
     "metadata": {
      "needs_background": "light"
     }
    },
    {
     "output_type": "display_data",
     "data": {
      "image/png": "[encoded data removed]",
      "text/plain": [
       "<Figure size 432x288 with 1 Axes>"
      ]
     },
     "metadata": {
      "needs_background": "light"
     }
    },
    {
     "output_type": "display_data",
     "data": {
      "image/png": "[encoded data removed]",
      "text/plain": [
       "<Figure size 432x288 with 1 Axes>"
      ]
     },
     "metadata": {
      "needs_background": "light"
     }
    }
   ],
   "source": [
    "import pandas as pd\n",
    "import numpy as np\n",
    "import matplotlib.pyplot as plt\n",
    "import matplotlib.patches as mpatches\n",
    "import seaborn as sns\n",
    "\n",
    "######################################################################\n",
    "### Defining some useful plotting function for you\n",
    "def plotting_data_per_mode(data, xstr, ystr):\n",
    "    palette=sorted(sns.color_palette(\"BuGn\", 10), reverse=True)\n",
    "    palette = [palette[6], palette[9]]\n",
    "    sns.set_context(\"paper\", font_scale=1, rc={\"lines.linewidth\": 2.5})\n",
    "    sns.boxenplot(x=xstr, y=ystr, hue=\"mode\", palette=palette, linewidth=1, data=dfaveraged_data)\n",
    "    #plt.ylim([-1, 30])\n",
    "    plt.xticks([0, 1], ['low scores group', 'high scores group'])\n",
    "    sns.despine(offset=10, trim=True)\n",
    "    plt.legend(loc='best')\n",
    "    \n",
    "def plotting_data_per_perfgroup(data, xstr, ystr):\n",
    "    palette=sorted(sns.color_palette(\"BuGn\", 10), reverse=True)\n",
    "    palette = [palette[6], palette[9]]\n",
    "    sns.set_context(\"paper\", font_scale=1, rc={\"lines.linewidth\": 2.5})\n",
    "    #sns.boxenplot(x=xstr, y=ystr, hue=\"label\", palette=palette, linewidth=1, data=dfaveraged_data)\n",
    "    sns.boxenplot(x=xstr, y=ystr, hue=\"label\", linewidth=1, data=dfaveraged_data)\n",
    "    #plt.ylim([-1, 30])\n",
    "    plt.xticks([0, 1], ['manual', 'auto'])\n",
    "    sns.despine(offset=10, trim=True)\n",
    "    plt.legend(loc='best')\n",
    "    plt.show()\n",
    "    \n",
    "\n",
    "#######################################################################\n",
    "# importing data\n",
    "dfaveraged_data = pd.read_csv('./averagedPMPVmode_w10_data.csv')\n",
    "\n",
    "## Plotting display examples\n",
    "## Note these plots represent quantiles of the quantitative variables\n",
    "## plotting operation mode x HRnorm grouped by the performance label\n",
    "plotting_data_per_perfgroup(dfaveraged_data, \"mode\", \"HRnorm\")\n",
    "plt.show()\n",
    "#plt.clf()\n",
    "\n",
    "## plotting operation mode x HRV grouped by the performance label\n",
    "plotting_data_per_perfgroup(dfaveraged_data, \"mode\", \"HRV\")\n",
    "plt.show()\n",
    "#plt.clf()\n",
    "\n",
    "## plotting operation mode x nav keystrokes grouped by the performance label\n",
    "plotting_data_per_perfgroup(dfaveraged_data, \"mode\", \"nav\")\n",
    "plt.show()\n",
    "#plt.clf()\n",
    "\n",
    "## plotting operation mode x nbAOI2 keystrokes grouped by the performance label\n",
    "plotting_data_per_perfgroup(dfaveraged_data, \"mode\", \"nbAOI2\")\n",
    "plt.show()\n",
    "#plt.clf()\n",
    "\n",
    "\n",
    "### PLEASE CONTINUE DESCRIPTIVE STATISTICAL ANALYSIS\n",
    "## use summary statistics from scipy.stats library  \n",
    "\n",
    "## plotting operation mode x nbAOI1 keystrokes grouped by the performance label\n",
    "plotting_data_per_perfgroup(dfaveraged_data, \"mode\", \"nbAOI1\")\n",
    "plt.show()\n",
    "#plt.clf()\n",
    "\n",
    "## plotting operation mode x nbAOI3 keystrokes grouped by the performance label\n",
    "plotting_data_per_perfgroup(dfaveraged_data, \"mode\", \"nbAOI3\")\n",
    "plt.show()\n",
    "#plt.clf()\n",
    " \n",
    "## plotting operation mode x nbAOI4 keystrokes grouped by the performance label\n",
    "plotting_data_per_perfgroup(dfaveraged_data, \"mode\", \"nbAOI4\")\n",
    "plt.show()\n",
    "#plt.clf()   \n",
    "\n",
    "## plotting operation mode x nbAOI5 keystrokes grouped by the performance label\n",
    "plotting_data_per_perfgroup(dfaveraged_data, \"mode\", \"nbAOI5\")\n",
    "plt.show()\n",
    "#plt.clf()\n",
    "\n",
    "\n",
    "## plotting operation mode x tank keystrokes grouped by the performance label\n",
    "plotting_data_per_perfgroup(dfaveraged_data, \"mode\", \"tank\")\n",
    "plt.show()\n",
    "#plt.clf()\n",
    "\n",
    "                                     \n"
   ]
  },
  {
   "cell_type": "markdown",
   "metadata": {
    "id": "gHGsYk8_3zSP"
   },
   "source": [
    "#### Draw conclusions for task 1.1.1 here:\n"
   ]
  },
  {
   "cell_type": "markdown",
   "metadata": {
    "id": "fX1ZRfA83zSQ"
   },
   "source": [
    "Answer: Les marqueurs les plus pertinents pour entrainer notre classifieur sont ceux qui présentent des valeurs significativement différentes entre les groupes de bonnes performances et de basses performances.\n",
    "Concernant l'impact du mode de jeu (manuel ou auto), son importance est moindre car la performance globale du joueur est reflétée en mode manuel.\n",
    "Par conséquent, au vu des médianes et des écarts types obtenus pour chaque marqueur moyenné, nous choisissons dans un premier temps les marqueurs nav, nbAOI1, nbAOI3 et nbAOI5."
   ]
  },
  {
   "cell_type": "markdown",
   "metadata": {
    "id": "sBKdx1Rt3zSR"
   },
   "source": [
    "**Task 1.1.2: Statistical analysis**\n",
    "\n",
    "To achieve this task, get a look on the data, and answer the following questions\n",
    "* **Which are the markers significantly impacted by the human operator perf/engagement (POMDP observation)?**\n",
    "* **Are the markers also impacted by the robot operation mode (POMDP action)?**\n",
    "\n",
    "**For that, you have to formally define the null hypothesis (H0) and the alternative one (H1) for each statistical test**\n",
    "\n",
    "**Remark 1 :** make use of ***Introduction to Statistics for Experimentations*** course (DNIA302) to achieve this step.\n",
    "\n",
    "**Remark 2 :** note that the **averaged data file (averagedPMPVmode_w10_data) will be used for this analysis**. The 10-second time window data is averaged by participant, mission and operation mode. Additional columns appear, providing the total number of trees extinguished for each operation mode, as well as the performance/engagement label."
   ]
  },
  {
   "cell_type": "code",
   "execution_count": 7,
   "metadata": {
    "colab": {
     "base_uri": "https://localhost:8080/",
     "height": 1000
    },
    "id": "cNRgm8GB3zSS",
    "executionInfo": {
     "status": "ok",
     "timestamp": 1644417635407,
     "user_tz": 0,
     "elapsed": 6046,
     "user": {
      "displayName": "Quentin Bernaudon",
      "photoUrl": "https://lh3.googleusercontent.com/a/default-user=s64",
      "userId": "08827465376849456822"
     }
    },
    "outputId": "1889c3b9-8c3a-4f26-a39e-46004bb9696a"
   },
   "outputs": [
    {
     "output_type": "stream",
     "name": "stderr",
     "text": [
      "/usr/local/lib/python3.7/dist-packages/statsmodels/tools/_testing.py:19: FutureWarning: pandas.util.testing is deprecated. Use the functions in the public API at pandas.testing instead.\n",
      "  import pandas.util.testing as tm\n"
     ]
    },
    {
     "output_type": "stream",
     "name": "stdout",
     "text": [
      "Index(['HR', 'HRV', 'HRnorm', 'durAOI1', 'durAOI2', 'durAOI3', 'durAOI4',\n",
      "       'durAOI5', 'mission', 'mode', 'nav', 'nbAOI1', 'nbAOI2', 'nbAOI3',\n",
      "       'nbAOI4', 'nbAOI5', 'space', 'subject', 'tank', 'tank_local_score',\n",
      "       'trees', 'nbt_trees_mode', 'label', 'modeperf', 'submission'],\n",
      "      dtype='object')\n",
      "#####################################################################\n",
      "2-WAY ANOVA H1: HRV is impacted by the operation mode and the performance (label)\n",
      "Overall model F( 3, 140) =  5.830, p =  0.0009\n",
      "\n",
      "                            OLS Regression Results                            \n",
      "==============================================================================\n",
      "Dep. Variable:                    HRV   R-squared:                       0.111\n",
      "Model:                            OLS   Adj. R-squared:                  0.092\n",
      "Method:                 Least Squares   F-statistic:                     5.830\n",
      "Date:                Wed, 09 Feb 2022   Prob (F-statistic):           0.000879\n",
      "Time:                        13:41:32   Log-Likelihood:                 325.64\n",
      "No. Observations:                 144   AIC:                            -643.3\n",
      "Df Residuals:                     140   BIC:                            -631.4\n",
      "Df Model:                           3                                         \n",
      "Covariance Type:            nonrobust                                         \n",
      "==============================================================================================\n",
      "                                 coef    std err          t      P>|t|      [0.025      0.975]\n",
      "----------------------------------------------------------------------------------------------\n",
      "Intercept                     -0.0273      0.004     -6.403      0.000      -0.036      -0.019\n",
      "C(mode)[T.1]                   0.0006      0.006      0.092      0.927      -0.011       0.012\n",
      "C(label)[T.1]                 -0.0182      0.006     -3.026      0.003      -0.030      -0.006\n",
      "C(mode)[T.1]:C(label)[T.1]     0.0009      0.009      0.105      0.916      -0.016       0.018\n",
      "==============================================================================\n",
      "Omnibus:                       24.567   Durbin-Watson:                   0.576\n",
      "Prob(Omnibus):                  0.000   Jarque-Bera (JB):               33.473\n",
      "Skew:                          -0.945   Prob(JB):                     5.39e-08\n",
      "Kurtosis:                       4.416   Cond. No.                         6.85\n",
      "==============================================================================\n",
      "\n",
      "Warnings:\n",
      "[1] Standard Errors assume that the covariance matrix of the errors is correctly specified.\n",
      "\n",
      "                    sum_sq     df          F    PR(>F)\n",
      "C(mode)           0.000036    1.0   0.055611  0.813917\n",
      "C(label)          0.011394    1.0  17.423777  0.000052\n",
      "C(mode):C(label)  0.000007    1.0   0.011104  0.916230\n",
      "Residual          0.091551  140.0        NaN       NaN\n",
      "Multiple Comparison of Means - Tukey HSD, FWER=0.05 \n",
      "====================================================\n",
      "group1 group2 meandiff p-adj   lower   upper  reject\n",
      "----------------------------------------------------\n",
      "    00     01  -0.0182 0.0154 -0.0339 -0.0026   True\n",
      "    00     10   0.0006    0.9 -0.0151  0.0162  False\n",
      "    00     11  -0.0168 0.0307 -0.0325 -0.0011   True\n",
      "    01     10   0.0188 0.0117  0.0031  0.0345   True\n",
      "    01     11   0.0015    0.9 -0.0142  0.0171  False\n",
      "    10     11  -0.0173 0.0237  -0.033 -0.0017   True\n",
      "----------------------------------------------------\n",
      "#####################################################################\n",
      "2-WAY ANOVA H1: HR is impacted by the operation mode and the performance (label)\n",
      "Overall model F( 3, 140) =  0.165, p =  0.9195\n",
      "\n",
      "                            OLS Regression Results                            \n",
      "==============================================================================\n",
      "Dep. Variable:                     HR   R-squared:                       0.004\n",
      "Model:                            OLS   Adj. R-squared:                 -0.018\n",
      "Method:                 Least Squares   F-statistic:                    0.1655\n",
      "Date:                Wed, 09 Feb 2022   Prob (F-statistic):              0.919\n",
      "Time:                        13:41:32   Log-Likelihood:                -524.93\n",
      "No. Observations:                 144   AIC:                             1058.\n",
      "Df Residuals:                     140   BIC:                             1070.\n",
      "Df Model:                           3                                         \n",
      "Covariance Type:            nonrobust                                         \n",
      "==============================================================================================\n",
      "                                 coef    std err          t      P>|t|      [0.025      0.975]\n",
      "----------------------------------------------------------------------------------------------\n",
      "Intercept                     76.9093      1.566     49.103      0.000      73.813      80.006\n",
      "C(mode)[T.1]                   0.1709      2.215      0.077      0.939      -4.208       4.550\n",
      "C(label)[T.1]                  1.2235      2.215      0.552      0.582      -3.156       5.603\n",
      "C(mode)[T.1]:C(label)[T.1]    -0.2562      3.133     -0.082      0.935      -6.450       5.937\n",
      "==============================================================================\n",
      "Omnibus:                        9.107   Durbin-Watson:                   0.317\n",
      "Prob(Omnibus):                  0.011   Jarque-Bera (JB):                6.386\n",
      "Skew:                           0.385   Prob(JB):                       0.0410\n",
      "Kurtosis:                       2.314   Cond. No.                         6.85\n",
      "==============================================================================\n",
      "\n",
      "Warnings:\n",
      "[1] Standard Errors assume that the covariance matrix of the errors is correctly specified.\n",
      "\n",
      "                        sum_sq     df         F    PR(>F)\n",
      "C(mode)               0.065951    1.0  0.000747  0.978238\n",
      "C(label)             43.191478    1.0  0.489041  0.485516\n",
      "C(mode):C(label)      0.590959    1.0  0.006691  0.934923\n",
      "Residual          12364.626317  140.0       NaN       NaN\n",
      "Multiple Comparison of Means - Tukey HSD, FWER=0.05\n",
      "==================================================\n",
      "group1 group2 meandiff p-adj  lower  upper  reject\n",
      "--------------------------------------------------\n",
      "    00     01   1.2235   0.9 -4.5365 6.9834  False\n",
      "    00     10   0.1709   0.9  -5.589 5.9309  False\n",
      "    00     11   1.1381   0.9 -4.6218 6.8981  False\n",
      "    01     10  -1.0525   0.9 -6.8125 4.7074  False\n",
      "    01     11  -0.0853   0.9 -5.8453 5.6746  False\n",
      "    10     11   0.9672   0.9 -4.7927 6.7272  False\n",
      "--------------------------------------------------\n",
      "                 Anova\n",
      "========================================\n",
      "         F Value  Num DF  Den DF  Pr > F\n",
      "----------------------------------------\n",
      "AOI      458.5680 4.0000 284.0000 0.0000\n",
      "mode      49.1675 1.0000  71.0000 0.0000\n",
      "AOI:mode 281.0315 4.0000 284.0000 0.0000\n",
      "========================================\n",
      "\n",
      "#####################################################################\n",
      "3-WAY ANOVA H1: nbFix is impacted by the AOI, the operation mode and the performance (label)\n",
      "                              sum_sq     df           F        PR(>F)\n",
      "Intercept                   0.749868    1.0    0.111368  7.386915e-01\n",
      "C(mode)                     0.095561    1.0    0.014192  9.052048e-01\n",
      "C(label)                    2.480939    1.0    0.368463  5.440402e-01\n",
      "C(AOI)                   3392.106984    4.0  125.946805  5.762745e-81\n",
      "C(mode):C(label)            0.003842    1.0    0.000571  9.809498e-01\n",
      "C(mode):C(AOI)           1197.868912    4.0   44.476122  2.720559e-33\n",
      "C(label):C(AOI)           467.112575    4.0   17.343597  1.408599e-13\n",
      "C(mode):C(label):C(AOI)   270.317684    4.0   10.036726  6.664011e-08\n",
      "Residual                 4713.249547  700.0         NaN           NaN\n",
      "     Multiple Comparison of Means - Tukey HSD, FWER=0.05      \n",
      "==============================================================\n",
      "  group1     group2   meandiff p-adj   lower    upper   reject\n",
      "--------------------------------------------------------------\n",
      "0_0_nbAOI1 0_0_nbAOI2  12.3829  0.001  10.2069  14.5589   True\n",
      "0_0_nbAOI1 0_0_nbAOI3   8.5979  0.001   6.4219  10.7739   True\n",
      "0_0_nbAOI1 0_0_nbAOI4   6.2206  0.001   4.0446   8.3966   True\n",
      "0_0_nbAOI1 0_0_nbAOI5   2.7309 0.0016   0.5549   4.9069   True\n",
      "0_0_nbAOI1 0_1_nbAOI1   0.3713    0.9  -1.8047   2.5472  False\n",
      "0_0_nbAOI1 0_1_nbAOI2  11.5057  0.001   9.3297  13.6817   True\n",
      "0_0_nbAOI1 0_1_nbAOI3  14.2422  0.001  12.0662  16.4182   True\n",
      "0_0_nbAOI1 0_1_nbAOI4   6.3071  0.001   4.1312   8.4831   True\n",
      "0_0_nbAOI1 0_1_nbAOI5   3.9788  0.001   1.8028   6.1548   True\n",
      "0_0_nbAOI1 1_0_nbAOI1   0.0729    0.9  -2.1031   2.2488  False\n",
      "0_0_nbAOI1 1_0_nbAOI2   18.463  0.001   16.287  20.6389   True\n",
      "0_0_nbAOI1 1_0_nbAOI3   3.6173  0.001   1.4413   5.7933   True\n",
      "0_0_nbAOI1 1_0_nbAOI4   3.9715  0.001   1.7955   6.1475   True\n",
      "0_0_nbAOI1 1_0_nbAOI5   2.4909  0.008   0.3149   4.6669   True\n",
      "0_0_nbAOI1 1_1_nbAOI1   0.4648    0.9  -1.7112   2.6407  False\n",
      "0_0_nbAOI1 1_1_nbAOI2  20.8697  0.001  18.6937  23.0457   True\n",
      "0_0_nbAOI1 1_1_nbAOI3   4.8422  0.001   2.6663   7.0182   True\n",
      "0_0_nbAOI1 1_1_nbAOI4    3.615  0.001    1.439   5.7909   True\n",
      "0_0_nbAOI1 1_1_nbAOI5   3.7529  0.001    1.577   5.9289   True\n",
      "0_0_nbAOI2 0_0_nbAOI3   -3.785  0.001   -5.961   -1.609   True\n",
      "0_0_nbAOI2 0_0_nbAOI4  -6.1623  0.001  -8.3383  -3.9863   True\n",
      "0_0_nbAOI2 0_0_nbAOI5   -9.652  0.001  -11.828   -7.476   True\n",
      "0_0_nbAOI2 0_1_nbAOI1 -12.0116  0.001 -14.1876  -9.8357   True\n",
      "0_0_nbAOI2 0_1_nbAOI2  -0.8772    0.9  -3.0532   1.2988  False\n",
      "0_0_nbAOI2 0_1_nbAOI3   1.8593 0.2139  -0.3167   4.0353  False\n",
      "0_0_nbAOI2 0_1_nbAOI4  -6.0758  0.001  -8.2517  -3.8998   True\n",
      "0_0_nbAOI2 0_1_nbAOI5  -8.4041  0.001 -10.5801  -6.2281   True\n",
      "0_0_nbAOI2 1_0_nbAOI1   -12.31  0.001  -14.486 -10.1341   True\n",
      "0_0_nbAOI2 1_0_nbAOI2   6.0801  0.001   3.9041    8.256   True\n",
      "0_0_nbAOI2 1_0_nbAOI3  -8.7656  0.001 -10.9415  -6.5896   True\n",
      "0_0_nbAOI2 1_0_nbAOI4  -8.4114  0.001 -10.5874  -6.2354   True\n",
      "0_0_nbAOI2 1_0_nbAOI5   -9.892  0.001 -12.0679   -7.716   True\n",
      "0_0_nbAOI2 1_1_nbAOI1 -11.9181  0.001 -14.0941  -9.7421   True\n",
      "0_0_nbAOI2 1_1_nbAOI2   8.4868  0.001   6.3108  10.6628   True\n",
      "0_0_nbAOI2 1_1_nbAOI3  -7.5406  0.001  -9.7166  -5.3647   True\n",
      "0_0_nbAOI2 1_1_nbAOI4  -8.7679  0.001 -10.9439   -6.592   True\n",
      "0_0_nbAOI2 1_1_nbAOI5    -8.63  0.001 -10.8059   -6.454   True\n",
      "0_0_nbAOI3 0_0_nbAOI4  -2.3773 0.0161  -4.5533  -0.2013   True\n",
      "0_0_nbAOI3 0_0_nbAOI5   -5.867  0.001   -8.043   -3.691   True\n",
      "0_0_nbAOI3 0_1_nbAOI1  -8.2267  0.001 -10.4026  -6.0507   True\n",
      "0_0_nbAOI3 0_1_nbAOI2   2.9078  0.001   0.7318   5.0837   True\n",
      "0_0_nbAOI3 0_1_nbAOI3   5.6443  0.001   3.4683   7.8203   True\n",
      "0_0_nbAOI3 0_1_nbAOI4  -2.2908 0.0267  -4.4668  -0.1148   True\n",
      "0_0_nbAOI3 0_1_nbAOI5  -4.6191  0.001  -6.7951  -2.4431   True\n",
      "0_0_nbAOI3 1_0_nbAOI1   -8.525  0.001  -10.701  -6.3491   True\n",
      "0_0_nbAOI3 1_0_nbAOI2   9.8651  0.001   7.6891   12.041   True\n",
      "0_0_nbAOI3 1_0_nbAOI3  -4.9806  0.001  -7.1566  -2.8046   True\n",
      "0_0_nbAOI3 1_0_nbAOI4  -4.6264  0.001  -6.8024  -2.4505   True\n",
      "0_0_nbAOI3 1_0_nbAOI5   -6.107  0.001   -8.283   -3.931   True\n",
      "0_0_nbAOI3 1_1_nbAOI1  -8.1331  0.001 -10.3091  -5.9572   True\n",
      "0_0_nbAOI3 1_1_nbAOI2  12.2718  0.001  10.0958  14.4478   True\n",
      "0_0_nbAOI3 1_1_nbAOI3  -3.7557  0.001  -5.9316  -1.5797   True\n",
      "0_0_nbAOI3 1_1_nbAOI4   -4.983  0.001  -7.1589   -2.807   True\n",
      "0_0_nbAOI3 1_1_nbAOI5   -4.845  0.001   -7.021   -2.669   True\n",
      "0_0_nbAOI4 0_0_nbAOI5  -3.4897  0.001  -5.6657  -1.3137   True\n",
      "0_0_nbAOI4 0_1_nbAOI1  -5.8494  0.001  -8.0253  -3.6734   True\n",
      "0_0_nbAOI4 0_1_nbAOI2   5.2851  0.001   3.1091    7.461   True\n",
      "0_0_nbAOI4 0_1_nbAOI3   8.0216  0.001   5.8456  10.1976   True\n",
      "0_0_nbAOI4 0_1_nbAOI4   0.0865    0.9  -2.0895   2.2625  False\n",
      "0_0_nbAOI4 0_1_nbAOI5  -2.2418 0.0352  -4.4178  -0.0658   True\n",
      "0_0_nbAOI4 1_0_nbAOI1  -6.1477  0.001  -8.3237  -3.9718   True\n",
      "0_0_nbAOI4 1_0_nbAOI2  12.2424  0.001  10.0664  14.4183   True\n",
      "0_0_nbAOI4 1_0_nbAOI3  -2.6033 0.0038  -4.7793  -0.4273   True\n",
      "0_0_nbAOI4 1_0_nbAOI4  -2.2491 0.0338  -4.4251  -0.0731   True\n",
      "0_0_nbAOI4 1_0_nbAOI5  -3.7297  0.001  -5.9057  -1.5537   True\n",
      "0_0_nbAOI4 1_1_nbAOI1  -5.7558  0.001  -7.9318  -3.5799   True\n",
      "0_0_nbAOI4 1_1_nbAOI2  14.6491  0.001  12.4731  16.8251   True\n",
      "0_0_nbAOI4 1_1_nbAOI3  -1.3784 0.7326  -3.5543   0.7976  False\n",
      "0_0_nbAOI4 1_1_nbAOI4  -2.6057 0.0037  -4.7816  -0.4297   True\n",
      "0_0_nbAOI4 1_1_nbAOI5  -2.4677 0.0092  -4.6437  -0.2917   True\n",
      "0_0_nbAOI5 0_1_nbAOI1  -2.3596 0.0179  -4.5356  -0.1837   True\n",
      "0_0_nbAOI5 0_1_nbAOI2   8.7748  0.001   6.5988  10.9508   True\n",
      "0_0_nbAOI5 0_1_nbAOI3  11.5113  0.001   9.3353  13.6873   True\n",
      "0_0_nbAOI5 0_1_nbAOI4   3.5762  0.001   1.4003   5.7522   True\n",
      "0_0_nbAOI5 0_1_nbAOI5   1.2479 0.8724  -0.9281   3.4239  False\n",
      "0_0_nbAOI5 1_0_nbAOI1   -2.658 0.0026   -4.834  -0.4821   True\n",
      "0_0_nbAOI5 1_0_nbAOI2  15.7321  0.001  13.5561   17.908   True\n",
      "0_0_nbAOI5 1_0_nbAOI3   0.8864    0.9  -1.2896   3.0624  False\n",
      "0_0_nbAOI5 1_0_nbAOI4   1.2406 0.8802  -0.9354   3.4166  False\n",
      "0_0_nbAOI5 1_0_nbAOI5    -0.24    0.9   -2.416    1.936  False\n",
      "0_0_nbAOI5 1_1_nbAOI1  -2.2661 0.0307  -4.4421  -0.0902   True\n",
      "0_0_nbAOI5 1_1_nbAOI2  18.1388  0.001  15.9628  20.3148   True\n",
      "0_0_nbAOI5 1_1_nbAOI3   2.1113 0.0701  -0.0646   4.2873  False\n",
      "0_0_nbAOI5 1_1_nbAOI4   0.8841    0.9  -1.2919     3.06  False\n",
      "0_0_nbAOI5 1_1_nbAOI5    1.022    0.9  -1.1539    3.198  False\n",
      "0_1_nbAOI1 0_1_nbAOI2  11.1344  0.001   8.9585  13.3104   True\n",
      "0_1_nbAOI1 0_1_nbAOI3  13.8709  0.001   11.695  16.0469   True\n",
      "0_1_nbAOI1 0_1_nbAOI4   5.9359  0.001   3.7599   8.1118   True\n",
      "0_1_nbAOI1 0_1_nbAOI5   3.6075  0.001   1.4316   5.7835   True\n",
      "0_1_nbAOI1 1_0_nbAOI1  -0.2984    0.9  -2.4744   1.8776  False\n",
      "0_1_nbAOI1 1_0_nbAOI2  18.0917  0.001  15.9157  20.2677   True\n",
      "0_1_nbAOI1 1_0_nbAOI3   3.2461  0.001   1.0701    5.422   True\n",
      "0_1_nbAOI1 1_0_nbAOI4   3.6002  0.001   1.4243   5.7762   True\n",
      "0_1_nbAOI1 1_0_nbAOI5   2.1197 0.0672  -0.0563   4.2956  False\n",
      "0_1_nbAOI1 1_1_nbAOI1   0.0935    0.9  -2.0824   2.2695  False\n",
      "0_1_nbAOI1 1_1_nbAOI2  20.4984  0.001  18.3225  22.6744   True\n",
      "0_1_nbAOI1 1_1_nbAOI3    4.471  0.001    2.295    6.647   True\n",
      "0_1_nbAOI1 1_1_nbAOI4   3.2437  0.001   1.0677   5.4197   True\n",
      "0_1_nbAOI1 1_1_nbAOI5   3.3817  0.001   1.2057   5.5576   True\n",
      "0_1_nbAOI2 0_1_nbAOI3   2.7365 0.0015   0.5605   4.9125   True\n",
      "0_1_nbAOI2 0_1_nbAOI4  -5.1986  0.001  -7.3745  -3.0226   True\n",
      "0_1_nbAOI2 0_1_nbAOI5  -7.5269  0.001  -9.7029  -5.3509   True\n",
      "0_1_nbAOI2 1_0_nbAOI1 -11.4328  0.001 -13.6088  -9.2569   True\n",
      "0_1_nbAOI2 1_0_nbAOI2   6.9573  0.001   4.7813   9.1333   True\n",
      "0_1_nbAOI2 1_0_nbAOI3  -7.8884  0.001 -10.0643  -5.7124   True\n",
      "0_1_nbAOI2 1_0_nbAOI4  -7.5342  0.001  -9.7102  -5.3582   True\n",
      "0_1_nbAOI2 1_0_nbAOI5  -9.0148  0.001 -11.1907  -6.8388   True\n",
      "0_1_nbAOI2 1_1_nbAOI1 -11.0409  0.001 -13.2169  -8.8649   True\n",
      "0_1_nbAOI2 1_1_nbAOI2    9.364  0.001    7.188    11.54   True\n",
      "0_1_nbAOI2 1_1_nbAOI3  -6.6634  0.001  -8.8394  -4.4875   True\n",
      "0_1_nbAOI2 1_1_nbAOI4  -7.8907  0.001 -10.0667  -5.7148   True\n",
      "0_1_nbAOI2 1_1_nbAOI5  -7.7528  0.001  -9.9287  -5.5768   True\n",
      "0_1_nbAOI3 0_1_nbAOI4  -7.9351  0.001  -10.111  -5.7591   True\n",
      "0_1_nbAOI3 0_1_nbAOI5 -10.2634  0.001 -12.4394  -8.0874   True\n",
      "0_1_nbAOI3 1_0_nbAOI1 -14.1693  0.001 -16.3453 -11.9934   True\n",
      "0_1_nbAOI3 1_0_nbAOI2   4.2208  0.001   2.0448   6.3967   True\n",
      "0_1_nbAOI3 1_0_nbAOI3 -10.6249  0.001 -12.8008  -8.4489   True\n",
      "0_1_nbAOI3 1_0_nbAOI4 -10.2707  0.001 -12.4467  -8.0947   True\n",
      "0_1_nbAOI3 1_0_nbAOI5 -11.7513  0.001 -13.9272  -9.5753   True\n",
      "0_1_nbAOI3 1_1_nbAOI1 -13.7774  0.001 -15.9534 -11.6014   True\n",
      "0_1_nbAOI3 1_1_nbAOI2   6.6275  0.001   4.4515   8.8035   True\n",
      "0_1_nbAOI3 1_1_nbAOI3  -9.3999  0.001 -11.5759   -7.224   True\n",
      "0_1_nbAOI3 1_1_nbAOI4 -10.6272  0.001 -12.8032  -8.4513   True\n",
      "0_1_nbAOI3 1_1_nbAOI5 -10.4893  0.001 -12.6652  -8.3133   True\n",
      "0_1_nbAOI4 0_1_nbAOI5  -2.3283 0.0215  -4.5043  -0.1524   True\n",
      "0_1_nbAOI4 1_0_nbAOI1  -6.2343  0.001  -8.4102  -4.0583   True\n",
      "0_1_nbAOI4 1_0_nbAOI2  12.1558  0.001   9.9799  14.3318   True\n",
      "0_1_nbAOI4 1_0_nbAOI3  -2.6898 0.0021  -4.8658  -0.5138   True\n",
      "0_1_nbAOI4 1_0_nbAOI4  -2.3356 0.0206  -4.5116  -0.1597   True\n",
      "0_1_nbAOI4 1_0_nbAOI5  -3.8162  0.001  -5.9922  -1.6402   True\n",
      "0_1_nbAOI4 1_1_nbAOI1  -5.8424  0.001  -8.0183  -3.6664   True\n",
      "0_1_nbAOI4 1_1_nbAOI2  14.5626  0.001  12.3866  16.7385   True\n",
      "0_1_nbAOI4 1_1_nbAOI3  -1.4649 0.6398  -3.6409   0.7111  False\n",
      "0_1_nbAOI4 1_1_nbAOI4  -2.6922 0.0021  -4.8681  -0.5162   True\n",
      "0_1_nbAOI4 1_1_nbAOI5  -2.5542 0.0053  -4.7302  -0.3782   True\n",
      "0_1_nbAOI5 1_0_nbAOI1  -3.9059  0.001  -6.0819    -1.73   True\n",
      "0_1_nbAOI5 1_0_nbAOI2  14.4842  0.001  12.3082  16.6601   True\n",
      "0_1_nbAOI5 1_0_nbAOI3  -0.3615    0.9  -2.5374   1.8145  False\n",
      "0_1_nbAOI5 1_0_nbAOI4  -0.0073    0.9  -2.1833   2.1687  False\n",
      "0_1_nbAOI5 1_0_nbAOI5  -1.4879 0.6152  -3.6638   0.6881  False\n",
      "0_1_nbAOI5 1_1_nbAOI1   -3.514  0.001    -5.69   -1.338   True\n",
      "0_1_nbAOI5 1_1_nbAOI2  16.8909  0.001  14.7149  19.0669   True\n",
      "0_1_nbAOI5 1_1_nbAOI3   0.8635    0.9  -1.3125   3.0394  False\n",
      "0_1_nbAOI5 1_1_nbAOI4  -0.3638    0.9  -2.5398   1.8121  False\n",
      "0_1_nbAOI5 1_1_nbAOI5  -0.2259    0.9  -2.4018   1.9501  False\n",
      "1_0_nbAOI1 1_0_nbAOI2  18.3901  0.001  16.2141  20.5661   True\n",
      "1_0_nbAOI1 1_0_nbAOI3   3.5445  0.001   1.3685   5.7204   True\n",
      "1_0_nbAOI1 1_0_nbAOI4   3.8986  0.001   1.7227   6.0746   True\n",
      "1_0_nbAOI1 1_0_nbAOI5   2.4181 0.0126   0.2421    4.594   True\n",
      "1_0_nbAOI1 1_1_nbAOI1   0.3919    0.9  -1.7841   2.5679  False\n",
      "1_0_nbAOI1 1_1_nbAOI2  20.7968  0.001  18.6209  22.9728   True\n",
      "1_0_nbAOI1 1_1_nbAOI3   4.7694  0.001   2.5934   6.9454   True\n",
      "1_0_nbAOI1 1_1_nbAOI4   3.5421  0.001   1.3661   5.7181   True\n",
      "1_0_nbAOI1 1_1_nbAOI5   3.6801  0.001   1.5041    5.856   True\n",
      "1_0_nbAOI2 1_0_nbAOI3 -14.8456  0.001 -17.0216 -12.6697   True\n",
      "1_0_nbAOI2 1_0_nbAOI4 -14.4915  0.001 -16.6675 -12.3155   True\n",
      "1_0_nbAOI2 1_0_nbAOI5  -15.972  0.001  -18.148 -13.7961   True\n",
      "1_0_nbAOI2 1_1_nbAOI1 -17.9982  0.001 -20.1742 -15.8222   True\n",
      "1_0_nbAOI2 1_1_nbAOI2   2.4067 0.0135   0.2308   4.5827   True\n",
      "1_0_nbAOI2 1_1_nbAOI3 -13.6207  0.001 -15.7967 -11.4447   True\n",
      "1_0_nbAOI2 1_1_nbAOI4  -14.848  0.001  -17.024  -12.672   True\n",
      "1_0_nbAOI2 1_1_nbAOI5   -14.71  0.001  -16.886 -12.5341   True\n",
      "1_0_nbAOI3 1_0_nbAOI4   0.3542    0.9  -1.8218   2.5301  False\n",
      "1_0_nbAOI3 1_0_nbAOI5  -1.1264    0.9  -3.3024   1.0496  False\n",
      "1_0_nbAOI3 1_1_nbAOI1  -3.1525  0.001  -5.3285  -0.9766   True\n",
      "1_0_nbAOI3 1_1_nbAOI2  17.2524  0.001  15.0764  19.4284   True\n",
      "1_0_nbAOI3 1_1_nbAOI3   1.2249  0.897   -0.951   3.4009  False\n",
      "1_0_nbAOI3 1_1_nbAOI4  -0.0024    0.9  -2.1783   2.1736  False\n",
      "1_0_nbAOI3 1_1_nbAOI5   0.1356    0.9  -2.0404   2.3116  False\n",
      "1_0_nbAOI4 1_0_nbAOI5  -1.4806  0.623  -3.6565   0.6954  False\n",
      "1_0_nbAOI4 1_1_nbAOI1  -3.5067  0.001  -5.6827  -1.3307   True\n",
      "1_0_nbAOI4 1_1_nbAOI2  16.8982  0.001  14.7222  19.0742   True\n",
      "1_0_nbAOI4 1_1_nbAOI3   0.8708    0.9  -1.3052   3.0467  False\n",
      "1_0_nbAOI4 1_1_nbAOI4  -0.3565    0.9  -2.5325   1.8194  False\n",
      "1_0_nbAOI4 1_1_nbAOI5  -0.2186    0.9  -2.3945   1.9574  False\n",
      "1_0_nbAOI5 1_1_nbAOI1  -2.0261 0.1051  -4.2021   0.1498  False\n",
      "1_0_nbAOI5 1_1_nbAOI2  18.3788  0.001  16.2028  20.5548   True\n",
      "1_0_nbAOI5 1_1_nbAOI3   2.3513 0.0188   0.1754   4.5273   True\n",
      "1_0_nbAOI5 1_1_nbAOI4    1.124    0.9  -1.0519      3.3  False\n",
      "1_0_nbAOI5 1_1_nbAOI5    1.262 0.8573   -0.914    3.438  False\n",
      "1_1_nbAOI1 1_1_nbAOI2  20.4049  0.001   18.229  22.5809   True\n",
      "1_1_nbAOI1 1_1_nbAOI3   4.3775  0.001   2.2015   6.5534   True\n",
      "1_1_nbAOI1 1_1_nbAOI4   3.1502  0.001   0.9742   5.3262   True\n",
      "1_1_nbAOI1 1_1_nbAOI5   3.2882  0.001   1.1122   5.4641   True\n",
      "1_1_nbAOI2 1_1_nbAOI3 -16.0275  0.001 -18.2034 -13.8515   True\n",
      "1_1_nbAOI2 1_1_nbAOI4 -17.2547  0.001 -19.4307 -15.0788   True\n",
      "1_1_nbAOI2 1_1_nbAOI5 -17.1168  0.001 -19.2927 -14.9408   True\n",
      "1_1_nbAOI3 1_1_nbAOI4  -1.2273 0.8945  -3.4033   0.9487  False\n",
      "1_1_nbAOI3 1_1_nbAOI5  -1.0893    0.9  -3.2653   1.0867  False\n",
      "1_1_nbAOI4 1_1_nbAOI5    0.138    0.9   -2.038   2.3139  False\n",
      "--------------------------------------------------------------\n"
     ]
    },
    {
     "output_type": "display_data",
     "data": {
      "image/png": "[encoded data removed]",
      "text/plain": [
       "<Figure size 432x288 with 1 Axes>"
      ]
     },
     "metadata": {
      "needs_background": "light"
     }
    },
    {
     "output_type": "stream",
     "name": "stdout",
     "text": [
      "                 Anova\n",
      "========================================\n",
      "         F Value  Num DF  Den DF  Pr > F\n",
      "----------------------------------------\n",
      "AOI      614.6561 4.0000 284.0000 0.0000\n",
      "mode       0.0538 1.0000  71.0000 0.8172\n",
      "AOI:mode 310.0612 4.0000 284.0000 0.0000\n",
      "========================================\n",
      "\n",
      "#####################################################################\n",
      "3-WAY ANOVA H1: durFix is impacted by the AOI, the operation mode and the performance (label)\n",
      "                               sum_sq     df           F         PR(>F)\n",
      "Intercept                2.183388e+04    1.0    0.061067   8.048903e-01\n",
      "C(mode)                  4.191383e+03    1.0    0.011723   9.138111e-01\n",
      "C(label)                 9.370909e+04    1.0    0.262093   6.088475e-01\n",
      "C(AOI)                   3.062833e+08    4.0  214.159174  6.392899e-120\n",
      "C(mode):C(label)         5.507587e+02    1.0    0.001540   9.687039e-01\n",
      "C(mode):C(AOI)           1.110887e+08    4.0   77.675348   1.592641e-54\n",
      "C(label):C(AOI)          3.343879e+07    4.0   23.381042   3.665160e-18\n",
      "C(mode):C(label):C(AOI)  1.065688e+07    4.0    7.451495   7.018569e-06\n",
      "Residual                 2.502792e+08  700.0         NaN            NaN\n",
      "         Multiple Comparison of Means - Tukey HSD, FWER=0.05          \n",
      "======================================================================\n",
      "   group1      group2    meandiff  p-adj    lower      upper    reject\n",
      "----------------------------------------------------------------------\n",
      "0_0_durAOI1 0_0_durAOI2  3688.9829  0.001  3187.5585  4190.4073   True\n",
      "0_0_durAOI1 0_0_durAOI3  2219.9967  0.001  1718.5723  2721.4211   True\n",
      "0_0_durAOI1 0_0_durAOI4  1525.6784  0.001   1024.254  2027.1028   True\n",
      "0_0_durAOI1 0_0_durAOI5   506.9389 0.0441     5.5145  1008.3633   True\n",
      "0_0_durAOI1 0_1_durAOI1     72.153    0.9  -429.2714   573.5775  False\n",
      "0_0_durAOI1 0_1_durAOI2  2777.0518  0.001  2275.6274  3278.4762   True\n",
      "0_0_durAOI1 0_1_durAOI3  3159.4746  0.001  2658.0502   3660.899   True\n",
      "0_0_durAOI1 0_1_durAOI4   1207.984  0.001   706.5596  1709.4084   True\n",
      "0_0_durAOI1 0_1_durAOI5   700.4776  0.001   199.0531   1201.902   True\n",
      "0_0_durAOI1 1_0_durAOI1    15.2596    0.9  -486.1648    516.684  False\n",
      "0_0_durAOI1 1_0_durAOI2  5671.8882  0.001  5170.4638  6173.3126   True\n",
      "0_0_durAOI1 1_0_durAOI3   843.4963  0.001   342.0719  1344.9207   True\n",
      "0_0_durAOI1 1_0_durAOI4   941.5299  0.001   440.1055  1442.9544   True\n",
      "0_0_durAOI1 1_0_durAOI5   447.2482 0.1535   -54.1763   948.6726  False\n",
      "0_0_durAOI1 1_1_durAOI1    95.2354    0.9  -406.1891   596.6598  False\n",
      "0_0_durAOI1 1_1_durAOI2  5515.2588  0.001  5013.8344  6016.6833   True\n",
      "0_0_durAOI1 1_1_durAOI3  1000.2063  0.001   498.7819  1501.6307   True\n",
      "0_0_durAOI1 1_1_durAOI4   652.0643  0.001   150.6399  1153.4887   True\n",
      "0_0_durAOI1 1_1_durAOI5   650.9859  0.001   149.5615  1152.4103   True\n",
      "0_0_durAOI2 0_0_durAOI3 -1468.9862  0.001 -1970.4106  -967.5618   True\n",
      "0_0_durAOI2 0_0_durAOI4 -2163.3045  0.001 -2664.7289 -1661.8801   True\n",
      "0_0_durAOI2 0_0_durAOI5  -3182.044  0.001 -3683.4684 -2680.6196   True\n",
      "0_0_durAOI2 0_1_durAOI1 -3616.8298  0.001 -4118.2543 -3115.4054   True\n",
      "0_0_durAOI2 0_1_durAOI2   -911.931  0.001 -1413.3555  -410.5066   True\n",
      "0_0_durAOI2 0_1_durAOI3  -529.5083 0.0256 -1030.9327   -28.0839   True\n",
      "0_0_durAOI2 0_1_durAOI4 -2480.9989  0.001 -2982.4233 -1979.5745   True\n",
      "0_0_durAOI2 0_1_durAOI5 -2988.5053  0.001 -3489.9297 -2487.0809   True\n",
      "0_0_durAOI2 1_0_durAOI1 -3673.7233  0.001 -4175.1477 -3172.2989   True\n",
      "0_0_durAOI2 1_0_durAOI2  1982.9053  0.001  1481.4809  2484.3298   True\n",
      "0_0_durAOI2 1_0_durAOI3 -2845.4866  0.001  -3346.911 -2344.0622   True\n",
      "0_0_durAOI2 1_0_durAOI4 -2747.4529  0.001 -3248.8773 -2246.0285   True\n",
      "0_0_durAOI2 1_0_durAOI5 -3241.7347  0.001 -3743.1591 -2740.3103   True\n",
      "0_0_durAOI2 1_1_durAOI1 -3593.7475  0.001 -4095.1719 -3092.3231   True\n",
      "0_0_durAOI2 1_1_durAOI2   1826.276  0.001  1324.8516  2327.7004   True\n",
      "0_0_durAOI2 1_1_durAOI3 -2688.7766  0.001  -3190.201 -2187.3522   True\n",
      "0_0_durAOI2 1_1_durAOI4 -3036.9186  0.001  -3538.343 -2535.4941   True\n",
      "0_0_durAOI2 1_1_durAOI5  -3037.997  0.001 -3539.4214 -2536.5726   True\n",
      "0_0_durAOI3 0_0_durAOI4  -694.3183  0.001 -1195.7427  -192.8939   True\n",
      "0_0_durAOI3 0_0_durAOI5 -1713.0578  0.001 -2214.4822 -1211.6334   True\n",
      "0_0_durAOI3 0_1_durAOI1 -2147.8437  0.001 -2649.2681 -1646.4192   True\n",
      "0_0_durAOI3 0_1_durAOI2   557.0551 0.0126    55.6307  1058.4796   True\n",
      "0_0_durAOI3 0_1_durAOI3   939.4779  0.001   438.0535  1440.9023   True\n",
      "0_0_durAOI3 0_1_durAOI4 -1012.0127  0.001 -1513.4371  -510.5883   True\n",
      "0_0_durAOI3 0_1_durAOI5 -1519.5191  0.001 -2020.9436 -1018.0947   True\n",
      "0_0_durAOI3 1_0_durAOI1 -2204.7371  0.001 -2706.1615 -1703.3127   True\n",
      "0_0_durAOI3 1_0_durAOI2  3451.8915  0.001  2950.4671  3953.3159   True\n",
      "0_0_durAOI3 1_0_durAOI3 -1376.5004  0.001 -1877.9248   -875.076   True\n",
      "0_0_durAOI3 1_0_durAOI4 -1278.4668  0.001 -1779.8912  -777.0423   True\n",
      "0_0_durAOI3 1_0_durAOI5 -1772.7485  0.001  -2274.173 -1271.3241   True\n",
      "0_0_durAOI3 1_1_durAOI1 -2124.7613  0.001 -2626.1858 -1623.3369   True\n",
      "0_0_durAOI3 1_1_durAOI2  3295.2621  0.001  2793.8377  3796.6866   True\n",
      "0_0_durAOI3 1_1_durAOI3 -1219.7904  0.001 -1721.2148   -718.366   True\n",
      "0_0_durAOI3 1_1_durAOI4 -1567.9324  0.001 -2069.3568  -1066.508   True\n",
      "0_0_durAOI3 1_1_durAOI5 -1569.0108  0.001 -2070.4352 -1067.5864   True\n",
      "0_0_durAOI4 0_0_durAOI5 -1018.7395  0.001 -1520.1639  -517.3151   True\n",
      "0_0_durAOI4 0_1_durAOI1 -1453.5253  0.001 -1954.9498  -952.1009   True\n",
      "0_0_durAOI4 0_1_durAOI2  1251.3735  0.001    749.949  1752.7979   True\n",
      "0_0_durAOI4 0_1_durAOI3  1633.7962  0.001  1132.3718  2135.2206   True\n",
      "0_0_durAOI4 0_1_durAOI4  -317.6944 0.7323  -819.1188     183.73  False\n",
      "0_0_durAOI4 0_1_durAOI5  -825.2008  0.001 -1326.6252  -323.7764   True\n",
      "0_0_durAOI4 1_0_durAOI1 -1510.4188  0.001 -2011.8432 -1008.9944   True\n",
      "0_0_durAOI4 1_0_durAOI2  4146.2098  0.001  3644.7854  4647.6342   True\n",
      "0_0_durAOI4 1_0_durAOI3  -682.1821  0.001 -1183.6065  -180.7577   True\n",
      "0_0_durAOI4 1_0_durAOI4  -584.1484  0.006 -1085.5729    -82.724   True\n",
      "0_0_durAOI4 1_0_durAOI5 -1078.4302  0.001 -1579.8546  -577.0058   True\n",
      "0_0_durAOI4 1_1_durAOI1  -1430.443  0.001 -1931.8674  -929.0186   True\n",
      "0_0_durAOI4 1_1_durAOI2  3989.5805  0.001   3488.156  4491.0049   True\n",
      "0_0_durAOI4 1_1_durAOI3  -525.4721 0.0283 -1026.8965   -24.0477   True\n",
      "0_0_durAOI4 1_1_durAOI4  -873.6141  0.001 -1375.0385  -372.1897   True\n",
      "0_0_durAOI4 1_1_durAOI5  -874.6925  0.001 -1376.1169  -373.2681   True\n",
      "0_0_durAOI5 0_1_durAOI1  -434.7859 0.1917  -936.2103    66.6386  False\n",
      "0_0_durAOI5 0_1_durAOI2  2270.1129  0.001  1768.6885  2771.5374   True\n",
      "0_0_durAOI5 0_1_durAOI3  2652.5357  0.001  2151.1113  3153.9601   True\n",
      "0_0_durAOI5 0_1_durAOI4   701.0451  0.001   199.6207  1202.4695   True\n",
      "0_0_durAOI5 0_1_durAOI5   193.5387    0.9  -307.8858   694.9631  False\n",
      "0_0_durAOI5 1_0_durAOI1  -491.6793 0.0625  -993.1037     9.7451  False\n",
      "0_0_durAOI5 1_0_durAOI2  5164.9493  0.001  4663.5249  5666.3737   True\n",
      "0_0_durAOI5 1_0_durAOI3   336.5574 0.6445   -164.867   837.9818  False\n",
      "0_0_durAOI5 1_0_durAOI4   434.5911 0.1923   -66.8334   936.0155  False\n",
      "0_0_durAOI5 1_0_durAOI5   -59.6907    0.9  -561.1151   441.7337  False\n",
      "0_0_durAOI5 1_1_durAOI1  -411.7035 0.2802  -913.1279    89.7209  False\n",
      "0_0_durAOI5 1_1_durAOI2    5008.32  0.001  4506.8955  5509.7444   True\n",
      "0_0_durAOI5 1_1_durAOI3   493.2674 0.0603     -8.157   994.6918  False\n",
      "0_0_durAOI5 1_1_durAOI4   145.1254    0.9   -356.299   646.5498  False\n",
      "0_0_durAOI5 1_1_durAOI5    144.047    0.9  -357.3774   645.4714  False\n",
      "0_1_durAOI1 0_1_durAOI2  2704.8988  0.001  2203.4744  3206.3232   True\n",
      "0_1_durAOI1 0_1_durAOI3  3087.3215  0.001  2585.8971   3588.746   True\n",
      "0_1_durAOI1 0_1_durAOI4  1135.8309  0.001   634.4065  1637.2554   True\n",
      "0_1_durAOI1 0_1_durAOI5   628.3245 0.0016   126.9001  1129.7489   True\n",
      "0_1_durAOI1 1_0_durAOI1   -56.8935    0.9  -558.3179    444.531  False\n",
      "0_1_durAOI1 1_0_durAOI2  5599.7352  0.001  5098.3108  6101.1596   True\n",
      "0_1_durAOI1 1_0_durAOI3   771.3433  0.001   269.9188  1272.7677   True\n",
      "0_1_durAOI1 1_0_durAOI4   869.3769  0.001   367.9525  1370.8013   True\n",
      "0_1_durAOI1 1_0_durAOI5   375.0951 0.4636  -126.3293   876.5195  False\n",
      "0_1_durAOI1 1_1_durAOI1    23.0823    0.9  -478.3421   524.5067  False\n",
      "0_1_durAOI1 1_1_durAOI2  5443.1058  0.001  4941.6814  5944.5302   True\n",
      "0_1_durAOI1 1_1_durAOI3   928.0533  0.001   426.6288  1429.4777   True\n",
      "0_1_durAOI1 1_1_durAOI4   579.9113 0.0068    78.4868  1081.3357   True\n",
      "0_1_durAOI1 1_1_durAOI5   578.8329  0.007    77.4084  1080.2573   True\n",
      "0_1_durAOI2 0_1_durAOI3   382.4227 0.4254  -119.0017   883.8472  False\n",
      "0_1_durAOI2 0_1_durAOI4 -1569.0679  0.001 -2070.4923 -1067.6434   True\n",
      "0_1_durAOI2 0_1_durAOI5 -2076.5743  0.001 -2577.9987 -1575.1499   True\n",
      "0_1_durAOI2 1_0_durAOI1 -2761.7923  0.001 -3263.2167 -2260.3678   True\n",
      "0_1_durAOI2 1_0_durAOI2  2894.8364  0.001   2393.412  3396.2608   True\n",
      "0_1_durAOI2 1_0_durAOI3 -1933.5555  0.001   -2434.98 -1432.1311   True\n",
      "0_1_durAOI2 1_0_durAOI4 -1835.5219  0.001 -2336.9463 -1334.0975   True\n",
      "0_1_durAOI2 1_0_durAOI5 -2329.8037  0.001 -2831.2281 -1828.3793   True\n",
      "0_1_durAOI2 1_1_durAOI1 -2681.8165  0.001 -3183.2409 -2180.3921   True\n",
      "0_1_durAOI2 1_1_durAOI2   2738.207  0.001  2236.7826  3239.6314   True\n",
      "0_1_durAOI2 1_1_durAOI3 -1776.8455  0.001   -2278.27 -1275.4211   True\n",
      "0_1_durAOI2 1_1_durAOI4 -2124.9875  0.001 -2626.4119 -1623.5631   True\n",
      "0_1_durAOI2 1_1_durAOI5 -2126.0659  0.001 -2627.4904 -1624.6415   True\n",
      "0_1_durAOI3 0_1_durAOI4 -1951.4906  0.001  -2452.915 -1450.0662   True\n",
      "0_1_durAOI3 0_1_durAOI5  -2458.997  0.001 -2960.4214 -1957.5726   True\n",
      "0_1_durAOI3 1_0_durAOI1  -3144.215  0.001 -3645.6394 -2642.7906   True\n",
      "0_1_durAOI3 1_0_durAOI2  2512.4136  0.001  2010.9892  3013.8381   True\n",
      "0_1_durAOI3 1_0_durAOI3 -2315.9783  0.001 -2817.4027 -1814.5539   True\n",
      "0_1_durAOI3 1_0_durAOI4 -2217.9446  0.001 -2719.3691 -1716.5202   True\n",
      "0_1_durAOI3 1_0_durAOI5 -2712.2264  0.001 -3213.6508  -2210.802   True\n",
      "0_1_durAOI3 1_1_durAOI1 -3064.2392  0.001 -3565.6636 -2562.8148   True\n",
      "0_1_durAOI3 1_1_durAOI2  2355.7843  0.001  1854.3599  2857.2087   True\n",
      "0_1_durAOI3 1_1_durAOI3 -2159.2683  0.001 -2660.6927 -1657.8439   True\n",
      "0_1_durAOI3 1_1_durAOI4 -2507.4103  0.001 -3008.8347 -2005.9859   True\n",
      "0_1_durAOI3 1_1_durAOI5 -2508.4887  0.001 -3009.9131 -2007.0643   True\n",
      "0_1_durAOI4 0_1_durAOI5  -507.5064 0.0436 -1008.9308     -6.082   True\n",
      "0_1_durAOI4 1_0_durAOI1 -1192.7244  0.001 -1694.1488     -691.3   True\n",
      "0_1_durAOI4 1_0_durAOI2  4463.9042  0.001  3962.4798  4965.3286   True\n",
      "0_1_durAOI4 1_0_durAOI3  -364.4877 0.5146  -865.9121   136.9367  False\n",
      "0_1_durAOI4 1_0_durAOI4   -266.454    0.9  -767.8785   234.9704  False\n",
      "0_1_durAOI4 1_0_durAOI5  -760.7358  0.001 -1262.1602  -259.3114   True\n",
      "0_1_durAOI4 1_1_durAOI1 -1112.7486  0.001  -1614.173  -611.3242   True\n",
      "0_1_durAOI4 1_1_durAOI2  4307.2749  0.001  3805.8504  4808.6993   True\n",
      "0_1_durAOI4 1_1_durAOI3  -207.7777    0.9  -709.2021   293.6467  False\n",
      "0_1_durAOI4 1_1_durAOI4  -555.9197  0.013 -1057.3441   -54.4953   True\n",
      "0_1_durAOI4 1_1_durAOI5  -556.9981 0.0126 -1058.4225   -55.5737   True\n",
      "0_1_durAOI5 1_0_durAOI1   -685.218  0.001 -1186.6424  -183.7936   True\n",
      "0_1_durAOI5 1_0_durAOI2  4971.4107  0.001  4469.9862  5472.8351   True\n",
      "0_1_durAOI5 1_0_durAOI3   143.0187    0.9  -358.4057   644.4432  False\n",
      "0_1_durAOI5 1_0_durAOI4   241.0524    0.9   -260.372   742.4768  False\n",
      "0_1_durAOI5 1_0_durAOI5  -253.2294    0.9  -754.6538    248.195  False\n",
      "0_1_durAOI5 1_1_durAOI1  -605.2422 0.0032 -1106.6666  -103.8178   True\n",
      "0_1_durAOI5 1_1_durAOI2  4814.7813  0.001  4313.3569  5316.2057   True\n",
      "0_1_durAOI5 1_1_durAOI3   299.7287 0.8158  -201.6957   801.1532  False\n",
      "0_1_durAOI5 1_1_durAOI4   -48.4133    0.9  -549.8377   453.0112  False\n",
      "0_1_durAOI5 1_1_durAOI5   -49.4917    0.9  -550.9161   451.9328  False\n",
      "1_0_durAOI1 1_0_durAOI2  5656.6286  0.001  5155.2042  6158.0531   True\n",
      "1_0_durAOI1 1_0_durAOI3   828.2367  0.001   326.8123  1329.6611   True\n",
      "1_0_durAOI1 1_0_durAOI4   926.2704  0.001   424.8459  1427.6948   True\n",
      "1_0_durAOI1 1_0_durAOI5   431.9886 0.2013   -69.4358    933.413  False\n",
      "1_0_durAOI1 1_1_durAOI1    79.9758    0.9  -421.4486   581.4002  False\n",
      "1_0_durAOI1 1_1_durAOI2  5499.9993  0.001  4998.5749  6001.4237   True\n",
      "1_0_durAOI1 1_1_durAOI3   984.9467  0.001   483.5223  1486.3711   True\n",
      "1_0_durAOI1 1_1_durAOI4   636.8047 0.0012   135.3803  1138.2291   True\n",
      "1_0_durAOI1 1_1_durAOI5   635.7263 0.0013   134.3019  1137.1507   True\n",
      "1_0_durAOI2 1_0_durAOI3 -4828.3919  0.001 -5329.8163 -4326.9675   True\n",
      "1_0_durAOI2 1_0_durAOI4 -4730.3583  0.001 -5231.7827 -4228.9339   True\n",
      "1_0_durAOI2 1_0_durAOI5 -5224.6401  0.001 -5726.0645 -4723.2156   True\n",
      "1_0_durAOI2 1_1_durAOI1 -5576.6528  0.001 -6078.0773 -5075.2284   True\n",
      "1_0_durAOI2 1_1_durAOI2  -156.6294    0.9  -658.0538   344.7951  False\n",
      "1_0_durAOI2 1_1_durAOI3 -4671.6819  0.001 -5173.1063 -4170.2575   True\n",
      "1_0_durAOI2 1_1_durAOI4 -5019.8239  0.001 -5521.2483 -4518.3995   True\n",
      "1_0_durAOI2 1_1_durAOI5 -5020.9023  0.001 -5522.3267 -4519.4779   True\n",
      "1_0_durAOI3 1_0_durAOI4    98.0336    0.9  -403.3908   599.4581  False\n",
      "1_0_durAOI3 1_0_durAOI5  -396.2481 0.3519  -897.6726   105.1763  False\n",
      "1_0_durAOI3 1_1_durAOI1  -748.2609  0.001 -1249.6854  -246.8365   True\n",
      "1_0_durAOI3 1_1_durAOI2  4671.7625  0.001  4170.3381   5173.187   True\n",
      "1_0_durAOI3 1_1_durAOI3     156.71    0.9  -344.7144   658.1344  False\n",
      "1_0_durAOI3 1_1_durAOI4   -191.432    0.9  -692.8564   309.9924  False\n",
      "1_0_durAOI3 1_1_durAOI5  -192.5104    0.9  -693.9348    308.914  False\n",
      "1_0_durAOI4 1_0_durAOI5  -494.2818  0.059  -995.7062     7.1426  False\n",
      "1_0_durAOI4 1_1_durAOI1  -846.2946  0.001  -1347.719  -344.8702   True\n",
      "1_0_durAOI4 1_1_durAOI2  4573.7289  0.001  4072.3045  5075.1533   True\n",
      "1_0_durAOI4 1_1_durAOI3    58.6764    0.9  -442.7481   560.1008  False\n",
      "1_0_durAOI4 1_1_durAOI4  -289.4656 0.8635  -790.8901   211.9588  False\n",
      "1_0_durAOI4 1_1_durAOI5  -290.5441 0.8585  -791.9685   210.8804  False\n",
      "1_0_durAOI5 1_1_durAOI1  -352.0128 0.5726  -853.4372   149.4116  False\n",
      "1_0_durAOI5 1_1_durAOI2  5068.0107  0.001  4566.5863  5569.4351   True\n",
      "1_0_durAOI5 1_1_durAOI3   552.9581 0.0141    51.5337  1054.3825   True\n",
      "1_0_durAOI5 1_1_durAOI4   204.8161    0.9  -296.6083   706.2406  False\n",
      "1_0_durAOI5 1_1_durAOI5   203.7377    0.9  -297.6867   705.1621  False\n",
      "1_1_durAOI1 1_1_durAOI2  5420.0235  0.001  4918.5991  5921.4479   True\n",
      "1_1_durAOI1 1_1_durAOI3   904.9709  0.001   403.5465  1406.3953   True\n",
      "1_1_durAOI1 1_1_durAOI4   556.8289 0.0127    55.4045  1058.2534   True\n",
      "1_1_durAOI1 1_1_durAOI5   555.7505 0.0131    54.3261  1057.1749   True\n",
      "1_1_durAOI2 1_1_durAOI3 -4515.0526  0.001  -5016.477 -4013.6281   True\n",
      "1_1_durAOI2 1_1_durAOI4 -4863.1945  0.001  -5364.619 -4361.7701   True\n",
      "1_1_durAOI2 1_1_durAOI5  -4864.273  0.001 -5365.6974 -4362.8485   True\n",
      "1_1_durAOI3 1_1_durAOI4   -348.142 0.5906  -849.5664   153.2824  False\n",
      "1_1_durAOI3 1_1_durAOI5  -349.2204 0.5856  -850.6448    152.204  False\n",
      "1_1_durAOI4 1_1_durAOI5    -1.0784    0.9  -502.5028    500.346  False\n",
      "----------------------------------------------------------------------\n"
     ]
    },
    {
     "output_type": "display_data",
     "data": {
      "image/png": "[encoded data removed]",
      "text/plain": [
       "<Figure size 432x288 with 1 Axes>"
      ]
     },
     "metadata": {
      "needs_background": "light"
     }
    },
    {
     "output_type": "display_data",
     "data": {
      "image/png": "[encoded data removed]",
      "text/plain": [
       "<Figure size 432x288 with 1 Axes>"
      ]
     },
     "metadata": {
      "needs_background": "light"
     }
    },
    {
     "output_type": "display_data",
     "data": {
      "image/png": "[encoded data removed]",
      "text/plain": [
       "<Figure size 432x288 with 1 Axes>"
      ]
     },
     "metadata": {
      "needs_background": "light"
     }
    }
   ],
   "source": [
    "import pandas as pd\n",
    "import numpy as np\n",
    "import scipy.stats as stats\n",
    "import statsmodels.api as sm\n",
    "from statsmodels.formula.api import ols\n",
    "from statsmodels.stats.anova import anova_lm\n",
    "from statsmodels.stats.anova import AnovaRM\n",
    "from statsmodels.graphics.factorplots import interaction_plot\n",
    "from statsmodels.stats.multicomp import MultiComparison, pairwise_tukeyhsd, tukeyhsd\n",
    "import matplotlib.pyplot as plt\n",
    "import matplotlib.patches as mpatches\n",
    "import seaborn as sns\n",
    "\n",
    "#########################\n",
    "# Importing data\n",
    "dfaveraged_data = pd.read_csv('./averagedPMPVmode_w10_data.csv')\n",
    "#########################\n",
    "# Creating groups \"mode x label\" for multiple comparison purposes \n",
    "dfaveraged_data['modeperf'] = dfaveraged_data['mode'].map(str) + dfaveraged_data['label'].map(str)\n",
    "dfaveraged_data['submission'] = dfaveraged_data['subject'].map(str) + \"_\" + dfaveraged_data['mission'].map(str)\n",
    "print(dfaveraged_data.columns)\n",
    "\n",
    "#########################\n",
    "# EXAMPLE \n",
    "# ANOVA considering performance group and robot operation mode\n",
    "# NOTE: we have to assume that each mission is independent here because \n",
    "# some participants belong only to one performance group\n",
    "# (in reality intra-subject sample are dependent)\n",
    "\n",
    "# 1) We try to verify the hypothesis :\n",
    "# H0 : HRV is not impacted by the operation mode nor the performance group (label)\n",
    "# H1 : HRV is impacted by the operation mode or the performance group (label)\n",
    "print(\"#####################################################################\")\n",
    "print(\"2-WAY ANOVA H1: HRV is impacted by the operation mode and the performance (label)\")\n",
    "HRVmodel = ols('HRV ~ C(mode)*C(label)', dfaveraged_data).fit()\n",
    "print(f\"Overall model F({HRVmodel.df_model: .0f},{HRVmodel.df_resid: .0f}) = {HRVmodel.fvalue: .3f}, p = {HRVmodel.f_pvalue: .4f}\")\n",
    "print()\n",
    "print(HRVmodel.summary())\n",
    "res = sm.stats.anova_lm(HRVmodel, typ= 2)\n",
    "print()\n",
    "print(res)\n",
    "\n",
    "# perform multiple comparison (post-hoc Tukey HSD)\n",
    "m_comp = MultiComparison(dfaveraged_data['HRV'], groups=dfaveraged_data['modeperf']).tukeyhsd(alpha=0.05)\n",
    "print(m_comp)\n",
    "\n",
    "##################################################\n",
    "### PLEASE DO THE SAME ANALYSIS WITH HR JUST BELOW\n",
    "\n",
    "# H0 : HR is not impacted by the operation mode nor the performance group (label)\n",
    "# H1 : HR is impacted by the operation mode or the performance group (label)\n",
    "print(\"#####################################################################\")\n",
    "print(\"2-WAY ANOVA H1: HR is impacted by the operation mode and the performance (label)\")\n",
    "HRmodel = ols('HR ~ C(mode)*C(label)', dfaveraged_data).fit()\n",
    "print(f\"Overall model F({HRmodel.df_model: .0f},{HRmodel.df_resid: .0f}) = {HRmodel.fvalue: .3f}, p = {HRmodel.f_pvalue: .4f}\")\n",
    "print()\n",
    "print(HRmodel.summary())\n",
    "res1 = sm.stats.anova_lm(HRmodel, typ= 2)\n",
    "print()\n",
    "print(res1)\n",
    "\n",
    "# perform multiple comparison (post-hoc Tukey HSD)\n",
    "m_comp1 = MultiComparison(dfaveraged_data['HR'], groups=dfaveraged_data['modeperf']).tukeyhsd(alpha=0.05)\n",
    "print(m_comp1)\n",
    "\n",
    "\n",
    "\n",
    "#################################################################\n",
    "### NOW LET'S ANALYSE THE NUMBER OF FIXATIONS IN AOIs (nbFixAOIX)\n",
    "# for instance:\n",
    "# 2a) We try to verify the hypothesis : \n",
    "# H0 : the number of fixations is not affected by the AOI index nor the operation mode\n",
    "# H1 : the number of fixations is affected by the AOI index or the operation mode\n",
    "df = pd.melt(dfaveraged_data[[\"modeperf\",\"mode\",\"label\",\"submission\",\"subject\",\"nbAOI1\",\"nbAOI2\",\"nbAOI3\",\"nbAOI4\",\"nbAOI5\"]], \n",
    "             id_vars=[\"modeperf\",\"submission\",\"mode\",\"label\",\"subject\"], \n",
    "             value_vars=[\"nbAOI1\",\"nbAOI2\",\"nbAOI3\",\"nbAOI4\",\"nbAOI5\"])\n",
    "df = df.rename(columns={'value': 'nbFix'})\n",
    "df = df.rename(columns={'variable': 'AOI'})\n",
    "\n",
    "# NOTE: we use a repeated measures ANOVA design because data is dependent within subjects and missions\n",
    "res=AnovaRM(data=df,depvar=\"nbFix\",subject=\"submission\", within=[\"AOI\",\"mode\"]).fit()\n",
    "print(res)\n",
    "\n",
    "# 2b) We try to verify the hypothesis : \n",
    "# H0 : the number of fixations is not affected by the AOI index nor the operation mode nor the performance label\n",
    "# H1 : the number of fixations is affected by the AOI index or the operation mode or the performance label\n",
    "# NOTE: we can't use repeated measure ANOVA design in this case because:\n",
    "# all the conditions aren't repeated within subjects\n",
    "sns.boxenplot(x=\"AOI\", y=\"nbFix\", hue=\"modeperf\", linewidth=1, data=df)\n",
    "print(\"#####################################################################\")\n",
    "print(\"3-WAY ANOVA H1: nbFix is impacted by the AOI, the operation mode and the performance (label)\")\n",
    "nbFixModel = ols('nbFix ~ C(mode)*C(label)*C(AOI)', df).fit()\n",
    "res = sm.stats.anova_lm(nbFixModel, typ= 3)\n",
    "print(res)\n",
    "\n",
    "# perform multiple comparison (post-hoc Tukey HSD)\n",
    "df['modeperfAOI'] = df['mode'].map(str) + \"_\" + df['label'].map(str) + \"_\" + df['AOI'].map(str)\n",
    "m_comp_crossAOIs = MultiComparison(df['nbFix'], groups=df['modeperfAOI']).tukeyhsd(alpha=0.05)\n",
    "print(m_comp_crossAOIs)\n",
    "plt.show()\n",
    "\n",
    "###########################################################################\n",
    "### PLEASE DO THE SAME ANALYSIS WITH THE AOIs FIXATION DURATIONS JUST BELOW\n",
    "\n",
    "# 3a) We try to verify the hypothesis : \n",
    "# H0 : the AOIs fixation duration is not affected by the AOI index nor the operation mode\n",
    "# H1 : the AOIs fixation duration is affected by the AOI index or the operation mode\n",
    "df1 = pd.melt(dfaveraged_data[[\"modeperf\",\"mode\",\"label\",\"submission\",\"subject\",\"durAOI1\",\"durAOI2\",\"durAOI3\",\"durAOI4\",\"durAOI5\"]], \n",
    "             id_vars=[\"modeperf\",\"submission\",\"mode\",\"label\",\"subject\"], \n",
    "             value_vars=[\"durAOI1\",\"durAOI2\",\"durAOI3\",\"durAOI4\",\"durAOI5\"])\n",
    "df1 = df1.rename(columns={'value': 'durFix'})\n",
    "df1 = df1.rename(columns={'variable': 'AOI'})\n",
    "\n",
    "# NOTE: we use a repeated measures ANOVA design because data is dependent within subjects and missions\n",
    "res2=AnovaRM(data=df1,depvar=\"durFix\",subject=\"submission\", within=[\"AOI\",\"mode\"]).fit()\n",
    "print(res2)\n",
    "\n",
    "# 3b) We try to verify the hypothesis : \n",
    "# H0 : the number of fixations is not affected by the AOI index nor the operation mode nor the performance label\n",
    "# H1 : the number of fixations is affected by the AOI index or the operation mode or the performance label\n",
    "# NOTE: we can't use repeated measure ANOVA design in this case because:\n",
    "# all the conditions aren't repeated within subjects\n",
    "sns.boxenplot(x=\"AOI\", y=\"durFix\", hue=\"modeperf\", linewidth=1, data=df1)\n",
    "print(\"#####################################################################\")\n",
    "print(\"3-WAY ANOVA H1: durFix is impacted by the AOI, the operation mode and the performance (label)\")\n",
    "durFixModel = ols('durFix ~ C(mode)*C(label)*C(AOI)', df1).fit()\n",
    "res2 = sm.stats.anova_lm(durFixModel, typ= 3)\n",
    "print(res2)\n",
    "\n",
    "# perform multiple comparison (post-hoc Tukey HSD)\n",
    "df1['modeperfAOI'] = df1['mode'].map(str) + \"_\" + df1['label'].map(str) + \"_\" + df1['AOI'].map(str)\n",
    "m_comp_crossAOIs2 = MultiComparison(df1['durFix'], groups=df1['modeperfAOI']).tukeyhsd(alpha=0.05)\n",
    "print(m_comp_crossAOIs2)\n",
    "plt.show()\n",
    "\n",
    "\n",
    "####################################################################################\n",
    "### PLEASE DO THE SAME ANALYSIS WITH THE KEYSTROKES AND CLICKS (nav,tank) JUST BELOW\n",
    "\n",
    "## plotting operation mode x nav keystrokes grouped by the performance label\n",
    "plotting_data_per_perfgroup(dfaveraged_data, \"mode\", \"nav\")\n",
    "plt.show()\n",
    "#plt.clf()\n",
    "\n",
    "## plotting operation mode x tank keystrokes grouped by the performance label\n",
    "plotting_data_per_perfgroup(dfaveraged_data, \"mode\", \"tank\")\n",
    "plt.show()\n",
    "#plt.clf()\n"
   ]
  },
  {
   "cell_type": "markdown",
   "metadata": {
    "id": "GvhCxTo23zSf"
   },
   "source": [
    "#### Draw your conclusions for the task 1.1.2 here:"
   ]
  },
  {
   "cell_type": "markdown",
   "metadata": {
    "id": "Srl1oD8g3zSg"
   },
   "source": [
    "Answer: Lors de la question précédente, nous avions déjà remarqué que les marqueurs nav, nbAOI1, nbAOI3 et nbAOI5 étaient impactés par la performance du joueur. L'analyse ci-dessus nous permet de déterminer en plus dans quelle mesure les durées de fixation sur les AOIs sont impactées par la performance du joueur.\n",
    "Ainsi, les durées de fixation sur les AOI2 et AOI3 sont impactés par les performances du joueur."
   ]
  },
  {
   "cell_type": "markdown",
   "metadata": {
    "id": "7hbxhgv03zSh"
   },
   "source": [
    "**Task 1.1.3: Based on the results obtained above, define the subdataset to be considered for classification**\n",
    "\n",
    "**Remark 1 :** note that the data file *df10labeled_data* will be used in this exercise, where all 10-second time windows are listed. The goal here is to produce a prediction for each sample built on a 10-second time window"
   ]
  },
  {
   "cell_type": "code",
   "execution_count": 8,
   "metadata": {
    "colab": {
     "base_uri": "https://localhost:8080/"
    },
    "id": "ZJX7ICeO3zSh",
    "executionInfo": {
     "status": "ok",
     "timestamp": 1644417646628,
     "user_tz": 0,
     "elapsed": 610,
     "user": {
      "displayName": "Quentin Bernaudon",
      "photoUrl": "https://lh3.googleusercontent.com/a/default-user=s64",
      "userId": "08827465376849456822"
     }
    },
    "outputId": "71821782-819d-44c0-adbf-68cb527fe4e8"
   },
   "outputs": [
    {
     "output_type": "stream",
     "name": "stdout",
     "text": [
      "      subject  mission  mode  ...  tank_local_score    HRnorm  label\n",
      "0        19.0      1.0   0.0  ...             0.000  6.185203    1.0\n",
      "1        19.0      1.0   0.0  ...            -2.222  7.846128    1.0\n",
      "2        19.0      1.0   1.0  ...            -8.445  6.921088    1.0\n",
      "3        19.0      1.0   1.0  ...             4.555  3.578949    1.0\n",
      "4        19.0      1.0   1.0  ...            19.032  4.387671    1.0\n",
      "...       ...      ...   ...  ...               ...       ...    ...\n",
      "3586     40.0      4.0   1.0  ...             7.286  3.992174    0.0\n",
      "3587     40.0      4.0   0.0  ...             2.714  1.271330    0.0\n",
      "3588     40.0      4.0   0.0  ...             3.778  3.773822    0.0\n",
      "3589     40.0      4.0   0.0  ...            -0.334  6.470367    0.0\n",
      "3590     40.0      4.0   1.0  ...            -1.111  5.789618    0.0\n",
      "\n",
      "[3591 rows x 22 columns]\n",
      "      subject  mission  mode  ...  tank_local_score     HRnorm  label\n",
      "232      20.0      1.0   0.0  ...            14.571   1.744660    0.0\n",
      "233      20.0      1.0   1.0  ...             9.207   1.203443    0.0\n",
      "234      20.0      1.0   1.0  ...            -2.000   2.250057    0.0\n",
      "235      20.0      1.0   1.0  ...            12.858   5.497292    0.0\n",
      "236      20.0      1.0   0.0  ...             4.230   6.758561    0.0\n",
      "...       ...      ...   ...  ...               ...        ...    ...\n",
      "3500     39.0      4.0   1.0  ...             6.611  13.290321    1.0\n",
      "3501     39.0      4.0   0.0  ...             0.000   9.351607    1.0\n",
      "3502     39.0      4.0   1.0  ...            -2.333   8.181672    1.0\n",
      "3503     39.0      4.0   0.0  ...            -4.445  21.339349    1.0\n",
      "3504     39.0      4.0   1.0  ...            -4.444  15.367073    1.0\n",
      "\n",
      "[2797 rows x 22 columns]\n",
      "       nav  nbAOI1  nbAOI3  nbAOI5   durAOI2   durAOI3  label\n",
      "232    0.0     0.0     1.0     0.0  5270.240   267.980    0.0\n",
      "233   37.0     0.0    17.0     0.0  1147.790  5415.409    0.0\n",
      "234    1.0     0.0     4.0     4.0  6031.067   947.860    0.0\n",
      "235    0.0     0.0     3.0     3.0  6143.030   471.870    0.0\n",
      "236   19.0     0.0     4.0     4.0  5603.170  1111.940    0.0\n",
      "...    ...     ...     ...     ...       ...       ...    ...\n",
      "3500   0.0     4.0     2.0     2.0  5383.590   531.880    1.0\n",
      "3501  27.0     6.0    25.0     0.0   172.000  6643.306    1.0\n",
      "3502   6.0     2.0    11.0     6.0   764.020  2107.815    1.0\n",
      "3503  33.0     5.0    21.0     7.0   587.890  4227.799    1.0\n",
      "3504   4.0     0.0    15.0     4.0  1323.856  3195.732    1.0\n",
      "\n",
      "[2797 rows x 7 columns]\n"
     ]
    }
   ],
   "source": [
    "import pandas as pd\n",
    "import numpy as np\n",
    "\n",
    "#########################################################\n",
    "# importing data\n",
    "df10labeled_data = pd.read_csv('./df10labeled_data.csv')\n",
    "print(df10labeled_data)\n",
    "\n",
    "#########################################################\n",
    "## Next, we propose to remove  data samples related to some subjects from the training data set:\n",
    "## note that it allows to verify that the framework is working with new subjects never used for \n",
    "## learning POMDP parameters.\n",
    "\n",
    "## EXAMPLE: we exclude here subjects 19, 23, 33 and 38\n",
    "subdf10labeled_data = df10labeled_data.loc[(df10labeled_data[\"subject\"]!=19)&\n",
    "                                           (df10labeled_data[\"subject\"]!=23)&\n",
    "                                           (df10labeled_data[\"subject\"]!=33)&\n",
    "                                           (df10labeled_data[\"subject\"]!=40)]\n",
    "print(subdf10labeled_data)\n",
    "\n",
    "##########################################################\n",
    "## EXAMPLE of feature selection \n",
    "## please select features according to your previous statistical analysis !!\n",
    "subdataset = subdf10labeled_data.loc[:, ['nav',  \n",
    "                                      'nbAOI1',  \n",
    "                                      'nbAOI3',  \n",
    "                                      'nbAOI5',\n",
    "                                      'durAOI2',\n",
    "                                      'durAOI3',   \n",
    "                                      'label']]\n",
    "\n",
    "print(subdataset)"
   ]
  },
  {
   "cell_type": "markdown",
   "metadata": {
    "id": "RmicEggq3zSi"
   },
   "source": [
    "**Task 1.1.4 Classifier Setup**\n",
    "\n",
    "The goal here is to find the best classifier (i.e. the most accurate) to predict the human operator's mental state.\n",
    "\n",
    "Thus, we propose to:\n",
    "1. split the dataset into training and testing sets\n",
    "2. choose a classifier according to the sklearn map (https://scikit-learn.org/stable/tutorial/machine_learning_map/index.html)\n",
    "2. define a pipeline (https://scikit-learn.org/stable/modules/generated/sklearn.pipeline.Pipeline.html)\n",
    "3. select the hyper-paremeters to be cross-validated as well as the associated candidates for each hyper-parameter\n",
    "4. define the grid-search cross-validation classifier\n",
    "5. train it using the fit method on the training set\n",
    "6. evaluate the resulting classifier on the testing set\n",
    "7. go back to step 2\n",
    "\n"
   ]
  },
  {
   "cell_type": "code",
   "execution_count": 9,
   "metadata": {
    "colab": {
     "base_uri": "https://localhost:8080/"
    },
    "id": "HlHYCLls3zSi",
    "executionInfo": {
     "status": "ok",
     "timestamp": 1644417674142,
     "user_tz": 0,
     "elapsed": 2046,
     "user": {
      "displayName": "Quentin Bernaudon",
      "photoUrl": "https://lh3.googleusercontent.com/a/default-user=s64",
      "userId": "08827465376849456822"
     }
    },
    "outputId": "8f031c89-a6c4-4cab-e01e-e3d54e68ab33"
   },
   "outputs": [
    {
     "output_type": "stream",
     "name": "stdout",
     "text": [
      "Available meta-parameters:  dict_keys(['algorithm', 'base_estimator', 'learning_rate', 'n_estimators', 'random_state'])\n",
      "Best parameters:  {'n_estimators': 30}\n",
      "Score 3 opt:  0.7129880132553202\n",
      "              precision    recall  f1-score   support\n",
      "\n",
      "         0.0       0.62      0.51      0.56       496\n",
      "         1.0       0.66      0.75      0.70       623\n",
      "\n",
      "    accuracy                           0.65      1119\n",
      "   macro avg       0.64      0.63      0.63      1119\n",
      "weighted avg       0.65      0.65      0.64      1119\n"
     ]
    }
   ],
   "source": [
    "#### PLEASE PUT YOUR CODE HERE\n",
    "\n",
    "### import libraries\n",
    "\n",
    "from sklearn.model_selection import train_test_split\n",
    "import numpy as np\n",
    "import matplotlib.pyplot as plt\n",
    "from matplotlib.pyplot import figure\n",
    "from matplotlib.colors import ListedColormap\n",
    "\n",
    "from sklearn.utils import all_estimators\n",
    "from sklearn.neural_network import MLPClassifier\n",
    "from sklearn.neighbors import KNeighborsClassifier\n",
    "from sklearn.svm import SVC\n",
    "from sklearn.gaussian_process import GaussianProcessClassifier\n",
    "from sklearn.gaussian_process.kernels import RBF\n",
    "from sklearn.tree import DecisionTreeClassifier\n",
    "from sklearn.ensemble import RandomForestClassifier, AdaBoostClassifier\n",
    "from sklearn.naive_bayes import GaussianNB\n",
    "from sklearn.discriminant_analysis import QuadraticDiscriminantAnalysis, LinearDiscriminantAnalysis\n",
    "\n",
    "from sklearn.metrics import classification_report\n",
    "from sklearn.metrics import confusion_matrix\n",
    "\n",
    "from sklearn.model_selection import GridSearchCV\n",
    "#from sklearn.grid_search import GridSearchCV\n",
    "\n",
    "### split dataset into training and testing sets\n",
    "\n",
    "\n",
    "v = subdataset.values\n",
    "X = v[:, 0:5]\n",
    "y = v[:,-1]\n",
    "\n",
    "\n",
    "X_train, X_test, y_train, y_test = train_test_split(X, y, test_size=.4)\n",
    "\n",
    "\n",
    "\n",
    "### define classifier\n",
    "\n",
    "# Nous avons entraîné trois classifieurs différents pour comparer leurs scores sur notre jeu de données. \n",
    "# Sans optimisation des paramètres des classifieurs, adaBoost est le plus performant.\n",
    "\n",
    "clf1 = SVC()\n",
    "\n",
    "clf2 = GaussianProcessClassifier (1.0 * RBF(1.0))\n",
    "clf3 = AdaBoostClassifier()\n",
    "\n",
    "#clf1.fit(X_train, y_train)\n",
    "#clf2.fit(X_train, y_train)\n",
    "#clf3.fit(X_train, y_train)\n",
    "\n",
    "#score1 = clf1.score(X_test, y_test)\n",
    "#score2 = clf2.score(X_test, y_test)\n",
    "#score3 = clf3.score(X_test, y_test)\n",
    "\n",
    "#print(\"Score SVC: \", score1)\n",
    "#print(\"Score Gaussian: \", score2)\n",
    "#print(\"Score Ada : \", score3)\n",
    "\n",
    "\n",
    "\n",
    "\n",
    "####### !!!!!! Utiliser adaboost plutot que SVC qui est trop lent !!!!!!!!!!!!!!!!!!!!!!!!\n",
    "\n",
    "\n",
    "### define pipeline\n",
    "\n",
    "### define hyper-parameters and associated candidates\n",
    "\n",
    "print(\"Available meta-parameters: \", clf3.get_params().keys())\n",
    "\n",
    "#meta_parameters = {\n",
    "    #'kernel': ['linear', 'rbf'],\n",
    "    #'C': [0.1,1,10]\n",
    "#}\n",
    "\n",
    "meta_parameters = {#\"base_estimator\" : [\"gini\", \"entropy\"],\n",
    "              #\"base_estimator\" :   [\"best\", \"random\"],\n",
    "              \"n_estimators\": [1, 2,3,15,20,30]\n",
    "             }\n",
    "\n",
    "opt_clf3 = GridSearchCV(clf3, meta_parameters, scoring = 'roc_auc')\n",
    "\n",
    "\n",
    "\n",
    "opt_clf3.fit(X_train, y_train)\n",
    "print(\"Best parameters: \", opt_clf3.best_params_)\n",
    "\n",
    "score3opt = opt_clf3.score(X_test, y_test)\n",
    "print(\"Score 3 opt: \", score3opt)\n",
    "\n",
    "### define the grid search cross-validation classifier\n",
    "\n",
    "\n",
    "\n",
    "### train using the fit method\n",
    "\n",
    "\n",
    "### evaluate the classifier and print results\n",
    "\n",
    "from sklearn.metrics import confusion_matrix\n",
    "y_pred = opt_clf3.predict(X_test)\n",
    "\n",
    "print(classification_report(y_test, y_pred))"
   ]
  },
  {
   "cell_type": "markdown",
   "metadata": {
    "id": "v4Vq0vwA3zSk"
   },
   "source": [
    "**Task 1.1.5: Extract the confusion matrix of your classifier**\n",
    "\n",
    "**Remark 1 :** use the notions learnt in the Machine Learning introduction lecture\n",
    "\n"
   ]
  },
  {
   "cell_type": "code",
   "execution_count": 10,
   "metadata": {
    "scrolled": false,
    "colab": {
     "base_uri": "https://localhost:8080/"
    },
    "id": "G4w9aQR-3zSk",
    "executionInfo": {
     "status": "ok",
     "timestamp": 1644417678523,
     "user_tz": 0,
     "elapsed": 460,
     "user": {
      "displayName": "Quentin Bernaudon",
      "photoUrl": "https://lh3.googleusercontent.com/a/default-user=s64",
      "userId": "08827465376849456822"
     }
    },
    "outputId": "586068a5-c2b4-4182-fb84-ddf496f763c3"
   },
   "outputs": [
    {
     "output_type": "stream",
     "name": "stdout",
     "text": [
      "[[255 241]\n",
      " [153 470]]\n"
     ]
    }
   ],
   "source": [
    "## Extract the confusion matrix of your classifier here\n",
    "\n",
    "#y_pred=y_pred[:len(y_pred)-1]\n",
    "Mconf = confusion_matrix(y_test, y_pred)\n",
    "print(Mconf)"
   ]
  },
  {
   "cell_type": "markdown",
   "metadata": {
    "id": "sS4LztOB3zSl"
   },
   "source": [
    "**Task 1.1.6: Based on the confusion matrix, please formalize your POMDP observation function hereafter:**\n",
    "\n",
    "Answer : $Pr(o' \\mid s', a) = o(a,s',o')\n",
    "= \\begin{bmatrix} Pr(oe \\mid e) & Pr(one \\mid e) \\\\ Pr(one \\mid ne) & Pr(oe \\mid ne) \\end{bmatrix}\n",
    "= \\begin{bmatrix} TPR & FPR \\\\ FNR & TNR \\end{bmatrix}\n",
    "= \\begin{bmatrix} \\Phi_{00} & \\Phi_{01} \\\\ \\Phi_{10} & \\Phi_{11} \\end{bmatrix}$,\n",
    "$\\forall a \\in A$, \n",
    "\n",
    "and with\n",
    "$\\Phi_{00} = ?? $, $\\Phi_{01} = ?? $, $\\Phi_{10} = ?? $, and $\\Phi_{11} = ?? $.\n"
   ]
  },
  {
   "cell_type": "code",
   "execution_count": 11,
   "metadata": {
    "colab": {
     "base_uri": "https://localhost:8080/"
    },
    "id": "71kvuKtc3zSl",
    "executionInfo": {
     "status": "ok",
     "timestamp": 1644417681254,
     "user_tz": 0,
     "elapsed": 326,
     "user": {
      "displayName": "Quentin Bernaudon",
      "photoUrl": "https://lh3.googleusercontent.com/a/default-user=s64",
      "userId": "08827465376849456822"
     }
    },
    "outputId": "769924c1-a330-415c-edde-6c4fb6f6198a"
   },
   "outputs": [
    {
     "output_type": "execute_result",
     "data": {
      "text/plain": [
       "array([[0.5141129 , 0.4858871 ],\n",
       "       [0.24558587, 0.75441413]])"
      ]
     },
     "metadata": {},
     "execution_count": 11
    }
   ],
   "source": [
    "tot1 = sum(Mconf[0,:])\n",
    "tot2 = sum(Mconf[1,:])\n",
    "\n",
    "obsfunc = np.zeros((2,2))\n",
    "obsfunc[0,0] = Mconf[0,0]/tot1\n",
    "obsfunc[0,1] = Mconf[0,1]/tot1\n",
    "obsfunc[1,0] = Mconf[1,0]/tot2\n",
    "obsfunc[1,1] = Mconf[1,1]/tot2\n",
    "\n",
    "obsfunc"
   ]
  },
  {
   "cell_type": "markdown",
   "metadata": {
    "id": "qBi-52Th3zSm"
   },
   "source": [
    "### Task 1.2 : Define the POMDP reward function\n",
    "\n",
    "An optimal policy maximizes the sum of rewards over time. \n",
    "The reward function therefore defines the criterion that the artificial agent seeks to optimize. \n",
    "Here we would like to define this reward function.\n",
    "\n",
    "Since the goal of the task is to put out as many fires as possible,\n",
    "the reward should be defined as the number of tree extinguished\n",
    "during the 10-second time window denoted by $R_t$: the value function is then:\n",
    "\n",
    "$ V = \\mathbb{E}\\big[ \\sum_t R_t \\big]\n",
    "= \\mathbb{E} \\Big[ \\sum_t  \\mathbb{E} \\big[ R_t \\mid s_t, a_t \\big] \\Big]\n",
    "= \\mathbb{E} \\Big[ \\sum_t  r(s_t, a_t) \\Big]$,\n",
    "\n",
    "where, $r(s,a) = \\mathbb{E} \\big[ R_t \\mid s_t=s, a_t=a \\big]$\n",
    "is the expectation of the reward given the system state and the agent action,\n",
    "that could be defined as the reward function.\n",
    "\n",
    "These expectations ($\\forall (s,a) \\in S \\times A)$ can be easily approximated using the dataset,\n",
    "and the resulting averages can then be used to define the reward function in practice.\n",
    "To this end, it is important to analyse again our averaged dataset. \n"
   ]
  },
  {
   "cell_type": "markdown",
   "metadata": {
    "id": "SAYXTBu83zSm"
   },
   "source": [
    "**1.2.1. Given the state and action spaces defined above, please formalize your reward function:**\n"
   ]
  },
  {
   "cell_type": "code",
   "execution_count": 12,
   "metadata": {
    "scrolled": true,
    "colab": {
     "base_uri": "https://localhost:8080/"
    },
    "id": "erajgzLf3zSn",
    "executionInfo": {
     "status": "ok",
     "timestamp": 1644417689645,
     "user_tz": 0,
     "elapsed": 746,
     "user": {
      "displayName": "Quentin Bernaudon",
      "photoUrl": "https://lh3.googleusercontent.com/a/default-user=s64",
      "userId": "08827465376849456822"
     }
    },
    "outputId": "4a17a85a-4ce0-4e86-f6b1-5fb303deacfc"
   },
   "outputs": [
    {
     "output_type": "stream",
     "name": "stdout",
     "text": [
      "            HR       HRV     HRnorm  ...     trees  nbt_trees_mode  label\n",
      "8    82.295194 -0.011808   2.285859  ...  0.473684               9      0\n",
      "9    82.833853 -0.015138   2.824519  ...  0.400000               8      0\n",
      "10   82.448589 -0.011103   2.301653  ...  0.518519              14      1\n",
      "11   83.831082 -0.016444   3.684146  ...  0.406250              13      1\n",
      "12   84.516933 -0.027626   8.905743  ...  0.533333              16      1\n",
      "..         ...       ...        ...  ...       ...             ...    ...\n",
      "131  77.796189 -0.084523  12.028904  ...  0.344828              10      1\n",
      "132  79.965476 -0.054221  10.763638  ...  0.678571              19      1\n",
      "133  80.086270 -0.048275  10.884432  ...  0.451613              14      1\n",
      "134  80.606207 -0.075121  10.458897  ...  0.653846              17      1\n",
      "135  80.395658 -0.063058  10.248348  ...  0.393939              13      1\n",
      "\n",
      "[112 rows x 23 columns]\n",
      "[[0.55484027 0.28190895]\n",
      " [0.41760041 0.35650864]]\n"
     ]
    }
   ],
   "source": [
    "import pandas as pd\n",
    "import numpy as np\n",
    "import matplotlib.pyplot as plt\n",
    "import matplotlib.patches as mpatches\n",
    "import seaborn as sns\n",
    "\n",
    "##################################################\n",
    "## importing data\n",
    "dfaveraged_data = pd.read_csv('./averagedPMPVmode_w10_data.csv')\n",
    "\n",
    "##################################################\n",
    "## excluding the same participants as before\n",
    "subdfaveraged_data = dfaveraged_data.loc[(dfaveraged_data[\"subject\"]!=19)&\n",
    "                                           (dfaveraged_data[\"subject\"]!=23)&\n",
    "                                           (dfaveraged_data[\"subject\"]!=33)&\n",
    "                                           (dfaveraged_data[\"subject\"]!=40)]\n",
    "print (subdfaveraged_data)\n",
    "\n",
    "##################################################\n",
    "### PLEASE proceed with computations of the four (4) reward function values\n",
    "### Remind that expectations can be easily approximated using the dataset, \n",
    "### and the resulting averages can then be used to define the reward function in practice.\n",
    "\n",
    "#2 états : engagé, désengagé\n",
    "#actions : manuel, auto\n",
    "#fonction de reward : matrice 2*2\n",
    "\n",
    "\n",
    "#Reward function\n",
    "R = np.zeros((2,2))\n",
    "\n",
    "\n",
    "mode = dfaveraged_data['mode'].tolist()\n",
    "trees = dfaveraged_data['trees'].tolist()\n",
    "label = dfaveraged_data['label'].tolist()\n",
    "\n",
    "\n",
    "\n",
    "countME =0\n",
    "countAE=0\n",
    "countMNE=0\n",
    "countANE=0\n",
    "\n",
    "#On décompte le nombre d'arbres éteints pour chaque couple (action, état)\n",
    "\n",
    "for k in range(len(mode)):\n",
    "    if mode[k]==0 and label[k]==1:\n",
    "        R[0,0]+=trees[k]\n",
    "        countME+=1\n",
    "    if mode[k]==0 and label[k]==0:\n",
    "         R[0,1]+=trees[k]\n",
    "         countMNE+=1\n",
    "    if mode[k]==1 and label[k]==1:\n",
    "         R[1,0]+=trees[k]\n",
    "         countAE+=1\n",
    "    if mode[k]==1 and label[k]==0:\n",
    "         R[1,1]+=trees[k]\n",
    "         countANE+=1\n",
    "        \n",
    "#Puis on fait la moyenne\n",
    "\n",
    "R[0,0]=R[0,0]/countME\n",
    "R[0,1]=R[0,1]/countMNE\n",
    "R[1,0]=R[1,0]/countAE\n",
    "R[1,1]=R[1,1]/countANE\n",
    "\n",
    "\n",
    "\n",
    "print(R)\n",
    "\n"
   ]
  },
  {
   "cell_type": "markdown",
   "metadata": {
    "id": "OHZZz3Lf3zSo"
   },
   "source": [
    "**1.2.2. State a necessary condition on reward function to enable a non trivial POMDP optimization.**\n",
    "\n",
    "For instance, what is the issue if r(s,manual) = r(s,auto) $\\forall s \\in S$"
   ]
  },
  {
   "cell_type": "markdown",
   "metadata": {
    "id": "9R3F2-Zn3zSo"
   },
   "source": [
    "#Answer: Si r(s,manual) = r(s,auto) pour tout s, impossible de distinguer une bonne action d'une mauvaise : la stratégie adoptée sera donc aléatoire. \n",
    "Une condition nécessaire pour éviter une stratégie aléatoire est d'avoir r(s,manual) != r(s,auto) pour tout s. Ainsi, dans un état donné, l'algo peut distinguer la meilleure action à entreprendre."
   ]
  },
  {
   "cell_type": "markdown",
   "metadata": {
    "id": "dX9iL4C43zSp"
   },
   "source": [
    "\n",
    "**1.2.3. Verify with descriptive statistics that the reward function changes with respect to state and action.**\n",
    "\n",
    "* **Is the score (number of extinguished trees) evolving differently with respect to the robot operation mode and human operator engagement (described by her/his mission performance)?**"
   ]
  },
  {
   "cell_type": "code",
   "execution_count": 13,
   "metadata": {
    "colab": {
     "base_uri": "https://localhost:8080/",
     "height": 327
    },
    "id": "7s9W4up13zSp",
    "executionInfo": {
     "status": "ok",
     "timestamp": 1644417701117,
     "user_tz": 0,
     "elapsed": 724,
     "user": {
      "displayName": "Quentin Bernaudon",
      "photoUrl": "https://lh3.googleusercontent.com/a/default-user=s64",
      "userId": "08827465376849456822"
     }
    },
    "outputId": "98bd10d3-4d0a-43ad-acd4-f39423e1de36"
   },
   "outputs": [
    {
     "output_type": "stream",
     "name": "stdout",
     "text": [
      "[[0.55484027 0.28190895]\n",
      " [0.41760041 0.35650864]]\n"
     ]
    },
    {
     "output_type": "display_data",
     "data": {
      "image/png": "[encoded data removed]",
      "text/plain": [
       "<Figure size 432x288 with 1 Axes>"
      ]
     },
     "metadata": {
      "needs_background": "light"
     }
    }
   ],
   "source": [
    "## get a look on how the number of fires extinguished  evolves\n",
    "## in function of the operation mode and mission performance\n",
    "## use plotting_data_per_mode function given in the begining of this notebook\n",
    "\n",
    "# we can also plot the frequency (or the expected number)\n",
    "\n",
    "#Réponse : \n",
    "\n",
    "print(R)\n",
    "plotting_data_per_mode(dfaveraged_data, \"label\", \"trees\")\n",
    "\n",
    "#La fonction de reward R codée en 1.2.1 montre que les récompenses évoluent en fonction de l'état et de l'action entreprise (les coefficients de la matrice étant tous différents).\n",
    "#Cependant, on remarque que r(ne, manual)=6.22 est proche de r(ne, auto) ce qui, comme évoqué dans la question précédente, peut induire \n",
    "#une décision d'action relativement aléatoire dans le cas d'un étant non engagé.\n",
    "\n",
    "#"
   ]
  },
  {
   "cell_type": "markdown",
   "metadata": {
    "id": "DRujG_O63zSq"
   },
   "source": [
    "**1.2.4. Please identify the greedy action $a \\in A = \\{manual, auto\\}$ (\"autonomous robot mode\" or \"manual mode\") for each hidden system state $s \\in S = \\{e, ne\\}$ (\"engagement\" or \"no engagement\").** \n",
    "\n",
    "Describe then the behavior of the artificial agent suggested by this reward function."
   ]
  },
  {
   "cell_type": "markdown",
   "metadata": {
    "id": "HcPts7B63zSq"
   },
   "source": [
    "Answer:En s'intéressant à la première colonne de la matrice de reward, 16>12 donc dans un état engagé, la fonction tend à passer en manuel.\n",
    "En s'intéressant à la seconde colonne de la matrice de reward, 7>6.22 donc dans un état désengagé, la fonction tend à passer en automatique."
   ]
  },
  {
   "cell_type": "markdown",
   "metadata": {
    "id": "UdEYeCpS3zSq"
   },
   "source": [
    "## Task 2: POMDP model solving and evaluation"
   ]
  },
  {
   "cell_type": "markdown",
   "metadata": {
    "id": "oeiIGpJT3zSr"
   },
   "source": [
    "### Task 2.1: POMDP model description using the Cassandra format\n",
    "\n",
    "In this task, please use the Cassandra format to decribe the POMDP model, in a way that the PyPOMDP library can interpret it and solve the problem.\n",
    "\n",
    "You can use the tiger-2D problem located at *.PyPOMDP/pypomdp/environments/pomdp/Tiger-2D.POMDP* as an example.\n",
    "\n",
    "Please save the created model in the same folder as the *Tiger-2D.POMDP*, and copy/paste your Cassandra file in the cell bellow:"
   ]
  },
  {
   "cell_type": "markdown",
   "metadata": {
    "id": "MpFz1Mv33zSr"
   },
   "source": [
    "Answer:\n",
    "\n",
    "#### EXAMPLE : Firefighter POMDP problem description in Cassandra format \n",
    "\n",
    "# Firefighter robot POMDP description in Cassandra format\n",
    "\n",
    "\n",
    "\n",
    "\n",
    "discount: 0.95\n",
    "\n",
    "values: reward\n",
    "\n",
    "states: notengaged engaged \n",
    "\n",
    "actions: manu auto\n",
    "\n",
    "observations: onotengaged oengaged\n",
    "\n",
    "start: 0.5 0.5\n",
    "\n",
    "T: manu\n",
    "0.98 0.02\n",
    "0.02 0.98\n",
    "\n",
    "T: auto\n",
    "0.98 0.02\n",
    "0.02 0.98\n",
    "\n",
    "O: manu\n",
    "0.4146 0.5854\n",
    "0.1355 0.8645\n",
    "\n",
    "O: auto\n",
    "0.4146 0.5854\n",
    "0.1355 0.8645\n",
    "\n",
    "\n",
    "R: manu : oengaged : * : * 0.55484027\n",
    "\n",
    "R: manu : onotengaged : * : * 0.28190895\n",
    "\n",
    "R: auto : oengaged : * : * 0.41760041\n",
    "\n",
    "R: auto : onotengaged : * : * 0.35650864\n",
    "\n",
    "\n"
   ]
  },
  {
   "cell_type": "markdown",
   "metadata": {
    "id": "TSgJl9Y63zSr"
   },
   "source": [
    "### Task 2.2: POMDP model solving using the customized PyPOMDP library "
   ]
  },
  {
   "cell_type": "markdown",
   "metadata": {
    "id": "GOCHoc9q3zSs"
   },
   "source": [
    "To solve the problem using the PyPOMDP library, you need to open a new terminal in the same folder as your jupyter-notebook.\n",
    "\n",
    "Then, go to the folder .PyPOMDP/pypomdp/ and launch the following command line:\n",
    "\n",
    "**python main.py pbvi --env Firefighter-2D.POMDP --logfile logFIREpbvi --option offsolve**\n",
    "\n",
    "where:\n",
    "\n",
    "pbvi is the algorithm to be used\n",
    "\n",
    "--env : gives the pomdp file name of your model\n",
    "\n",
    "--logfile : save the traces of policy computation and simulation (only one simulation)\n",
    "\n",
    "--option : offline or online solving, or simulate a policy file\n",
    "\n",
    "\n",
    "*Note a file called **alphavecfile.policy** is created. Please save this file with a more explicit name.*\n",
    "\n",
    "This file will be useful in the following steps."
   ]
  },
  {
   "cell_type": "markdown",
   "metadata": {
    "id": "L9hevI113zSs"
   },
   "source": [
    "### Task 2.3: POMDP model evaluation in simulation"
   ]
  },
  {
   "cell_type": "markdown",
   "metadata": {
    "id": "s62rQxPX3zSs"
   },
   "source": [
    "To evaluate the value function and policy obtained, you need to go back to the terminal and launch the following command line:\n",
    "\n",
    "**python main.py pbvi --env Firefighter-2D.POMDP --policyfile alphavecfile.policy --logfile logFIREpbvi --max_play 60 --option simulate --sim 500**\n",
    "\n",
    "\n",
    "where:\n",
    "\n",
    "pbvi is the used algorithm\n",
    "\n",
    "--env : gives the pomdp file name of your model\n",
    "\n",
    "--logfile : save the traces of policy computation and simulation (only one simulation)\n",
    "\n",
    "--option simulate : simulate a policy using the model\n",
    "\n",
    "--policyfile : your policy file, default: alphavecfile.policy\n",
    "\n",
    "--max_play :  (60 steps = 10 minutes = 1 mission, following the the 10s-step time assumption)\n",
    "\n",
    "*Note that you will find a file named **YEAR-MONTH-DAY-H-MIN-S** in the logFile folder (\"logFIREpbvi\" here). Please have a look at this file to follow the performed simulations. At the end of this file there is a vector with all total rewards observed during the different simulations.*"
   ]
  },
  {
   "cell_type": "markdown",
   "metadata": {
    "id": "Xs2sKBZu3zSt"
   },
   "source": [
    "**Please copy and paste policy simulation average results hereafter (what appears in the terminal):**\n"
   ]
  },
  {
   "cell_type": "markdown",
   "metadata": {
    "id": "AqVuRpJM3zSt"
   },
   "source": [
    "Answer:\n",
    "500 simulations played.\n",
    "Exp total reward =  25.335703400000014\n",
    "Std Exp total reward =  0.8725609162737235"
   ]
  },
  {
   "cell_type": "markdown",
   "metadata": {
    "id": "Axw_4_313zSt"
   },
   "source": [
    "### Task 2.4 : Quantitative and qualitative comparison with the random policy used during experiments\n",
    "\n",
    "In the following, another preprocessed dataset is given: **averagedPMPV_data.csv.** This dataset includes the global_score reached by each participant for each mission.\n",
    "\n",
    "#### Task 2.4.1: Quantitative comparison\n",
    "\n",
    "1. Compute the average number of trees extinguished following the random policy used during the experiments\n",
    "2. Compare this results with the observed results (total_rewards) at least 72 simulations of 60 steps (which is equivalent to 18 participants x 4 mission)\n",
    "3. Perform a statistical test to verify if the value reached by the optimized policy is significatively greater.\n",
    "\n",
    "**Remark**: we could also compute the expected value of a random policy on the POMDP model defined. To do this used the following command line:\n",
    "\n",
    "**python main.py pbvi --env Firefighter-2D.POMDP --logfile logFIREpbvi --max_play 60 --option simulate --sim 500 --random_policy 1**\n",
    "\n",
    "Note that this expected value can differs from the one obtained from dataset. Why?"
   ]
  },
  {
   "cell_type": "code",
   "execution_count": 14,
   "metadata": {
    "colab": {
     "base_uri": "https://localhost:8080/"
    },
    "id": "cmCeXszy3zSu",
    "executionInfo": {
     "status": "ok",
     "timestamp": 1644417716839,
     "user_tz": 0,
     "elapsed": 334,
     "user": {
      "displayName": "Quentin Bernaudon",
      "photoUrl": "https://lh3.googleusercontent.com/a/default-user=s64",
      "userId": "08827465376849456822"
     }
    },
    "outputId": "da674b8b-c834-4736-96a6-133b10000400"
   },
   "outputs": [
    {
     "output_type": "stream",
     "name": "stdout",
     "text": [
      "Avg. global scores from dataset :  22.083333333333332\n",
      "Avg. global scores from simulations :  nan\n"
     ]
    },
    {
     "output_type": "stream",
     "name": "stderr",
     "text": [
      "/usr/local/lib/python3.7/dist-packages/numpy/core/fromnumeric.py:3373: RuntimeWarning: Mean of empty slice.\n",
      "  out=out, **kwargs)\n",
      "/usr/local/lib/python3.7/dist-packages/numpy/core/_methods.py:170: RuntimeWarning: invalid value encountered in double_scalars\n",
      "  ret = ret.dtype.type(ret / rcount)\n"
     ]
    }
   ],
   "source": [
    "import pandas as pd\n",
    "import numpy as np\n",
    "import matplotlib.pyplot as plt\n",
    "import matplotlib.patches as mpatches\n",
    "import seaborn as sns\n",
    "from scipy.stats import ttest_ind\n",
    "\n",
    "## Computing the average number of trees extinghuised following the random policy used during the experiments\n",
    "#################################\n",
    "# importing data\n",
    "dfaveraged_data = pd.read_csv('./averagedPMPV_data.csv')\n",
    "dfaveraged_data.columns\n",
    "print(\"Avg. global scores from dataset : \", np.mean(dfaveraged_data[\"global_score\"]))\n",
    "\n",
    "##################################\n",
    "### copy the total rewards observed on your 72 simulations here\n",
    "pomdp_obs_ttrew = [ ]\n",
    "print(\"Avg. global scores from simulations : \", np.mean(pomdp_obs_ttrew))\n",
    "\n",
    "##################################\n",
    "### perform a statistical test to check the hypothesis:\n",
    "## H0 : the mean score from dataset is equal to the mean score obtained from policy simulations\n",
    "## H1 : the mean score from dataset is different to the mean score obtained from policy simulations\n",
    "\n",
    "### perform a second statistical test to check the hypothesis:\n",
    "## H0 : the mean score from dataset is higher than the mean score obtained from policy simulations\n",
    "## H1 : the mean score from dataset is not higher than the mean score obtained from policy simulations\n",
    "\n"
   ]
  },
  {
   "cell_type": "markdown",
   "metadata": {
    "id": "yatdtZma3zSu"
   },
   "source": [
    "**Draw your conclusion here :** "
   ]
  },
  {
   "cell_type": "markdown",
   "metadata": {
    "id": "_sA4C0zj3zSv"
   },
   "source": [
    "Answer:"
   ]
  },
  {
   "cell_type": "markdown",
   "metadata": {
    "id": "dJal0b383zSv"
   },
   "source": [
    "### Task 2.4.2: Qualitative comparison by performing a replay with collected data\n",
    "\n",
    "Save the classifier model you have designed. It will be used by a replay runner to rerun a mission.\n",
    "\n",
    "Our goal is to : \n",
    "1. follow the predictor outputs (the POMDP observations)\n",
    "2. visualize the belief state updates about the human operator's engagement\n",
    "3. check and describe what the POMDP policy would do given the current belief state"
   ]
  },
  {
   "cell_type": "markdown",
   "metadata": {
    "id": "8IHZ2-J33zSv"
   },
   "source": [
    "***1. Save your the classifier model***\n",
    "\n",
    "see https://scikit-learn.org/stable/modules/model_persistence.html"
   ]
  },
  {
   "cell_type": "code",
   "execution_count": 15,
   "metadata": {
    "id": "9sEUXip23zSw",
    "executionInfo": {
     "status": "ok",
     "timestamp": 1644417721801,
     "user_tz": 0,
     "elapsed": 233,
     "user": {
      "displayName": "Quentin Bernaudon",
      "photoUrl": "https://lh3.googleusercontent.com/a/default-user=s64",
      "userId": "08827465376849456822"
     }
    }
   },
   "outputs": [],
   "source": [
    "from joblib import dump, load\n",
    "\n",
    "#########################################\n",
    "# save the model named: classifier.joblib\n",
    "\n"
   ]
  },
  {
   "cell_type": "markdown",
   "metadata": {
    "id": "3o7di2At3zSw"
   },
   "source": [
    "Now, save this classifier.joblib file in \"PyPOMDP/pypompd/data/\" folder, and\n",
    "\n",
    "***2. Run the replay program in the same terminal as before***\n",
    "\n",
    "Note you may choose a subject file (one of the excluded participants for instance) to replay the experiment.\n",
    "\n",
    "For that, see this command line example:\n",
    "\n",
    "**python replay.py pbvi --env Firefighter-2D.POMDP --policyfile alphavecfile.policy --logfile logFIREpbvi --max_play 60 --option replay --sim 4 --expfile data/dfsub_33alldataproc.csv --classif YOUR_CLASSIFIER_MODEL --fnames THE_FEATURES_NAMES_YOU_USED**\n",
    "\n",
    "where THE_FEATURES_NAMES_YOU_USED can be for instance 'mode,nav,tank,nbAOI1', and YOUR_CLASSIFIER_MODEL something like 'data/classifier.joblib'.\n",
    "You may get a look in the log folder. \n",
    "\n",
    "The last logfile details the sequence of symbolic observations predicted from the selected features of the participant."
   ]
  },
  {
   "cell_type": "markdown",
   "metadata": {
    "id": "wzaZU4Re3zSx"
   },
   "source": [
    "***3. Describe what the POMDP policy seems to do given the current belief state***\n",
    "\n",
    "**Draw your conclusions here:**"
   ]
  },
  {
   "cell_type": "markdown",
   "metadata": {
    "id": "vobALMc-3zSx"
   },
   "source": [
    "Answer:"
   ]
  },
  {
   "cell_type": "markdown",
   "metadata": {
    "id": "JFOqUYPH3zSx"
   },
   "source": [
    "## Task 3 : Refining the POMDP model"
   ]
  },
  {
   "cell_type": "markdown",
   "metadata": {
    "id": "YO3qj_dU3zSy"
   },
   "source": [
    "### Refine the POMDP model to integrate a visible state variable $s_r$ to indicate the operation mode of the robot as part of the state\n",
    "\n",
    "In this task, the aim is to expand the state spape $S$ such as: $S = S_h \\times S_r$, with $S_h=\\{e, ne\\}$ and $S_r=\\{manu,auto\\}$, and to conditionnate the observation function with respect to the action taken.\n",
    "\n",
    "1. If you observe the replay of experiences, how could you model the fact that when the robot operation mode changes, there is a bigger/lower chance the state of the human operator changes as well ?\n",
    "\n",
    "2. If this fact is taken into account, it may changes the transition function. So, let's consider now two additionnal expert parameters $\\beta$ and $\\eta$ that will express the chance we have to obtain for instance : \n",
    "$$p(s'=(engaged,manual)|s=(engaged,auto),a=manual) = 1-\\beta$$\n",
    "$$p(s'=(notengaged,manual)|s=(engaged,auto),a=manual) = \\beta$$\n",
    "$$p(s'=(engaged,auto)|s=(engaged,manual),a=auto) = 1-\\eta$$\n",
    "$$p(s'=(notengaged,auto)|s=(engaged,manual),a=auto) = \\eta$$\n",
    "\n",
    "Note the transition function, now a $4x4$ matrix, need to be modified to integrate this new parameters. \n",
    "\n",
    "We will assume that the robot operation mode state variable has a deterministic dynamics. It means that when the action $auto$ is chosen, we are $100\\%$ sure that the operation mode switches to $auto$.\n",
    "\n",
    "If you have any problem with the grammar of the POMDP file description, please get a look at https://www.pomdp.org/code/pomdp-file-spec.html\n",
    "\n",
    "3. Note, you can learn an observation function now conditionned on the action, to be able to integrate this new probabilities through belief state updates, i.e. : $b^o_a(s') \\propto p(o|s',a)p(s'|s,a)b(s)$ \n",
    "\n",
    "4. Please revise some of the previous tasks in the cells bellow. "
   ]
  },
  {
   "cell_type": "markdown",
   "metadata": {
    "id": "zDwFqkPU3zSy"
   },
   "source": [
    "### Task 3.1. Revise task 1.1.3 to separate your dataset in two datasets depending on the robot operation mode "
   ]
  },
  {
   "cell_type": "code",
   "execution_count": 16,
   "metadata": {
    "scrolled": false,
    "colab": {
     "base_uri": "https://localhost:8080/",
     "height": 131
    },
    "id": "mdEaQ-ED3zSy",
    "executionInfo": {
     "status": "error",
     "timestamp": 1644417729343,
     "user_tz": 0,
     "elapsed": 6,
     "user": {
      "displayName": "Quentin Bernaudon",
      "photoUrl": "https://lh3.googleusercontent.com/a/default-user=s64",
      "userId": "08827465376849456822"
     }
    },
    "outputId": "b5677126-cea1-4c7c-b8b1-87a1162b03d0"
   },
   "outputs": [
    {
     "output_type": "error",
     "ename": "SyntaxError",
     "evalue": "ignored",
     "traceback": [
      "\u001B[0;36m  File \u001B[0;32m\"<ipython-input-16-5d24b82c60e9>\"\u001B[0;36m, line \u001B[0;32m22\u001B[0m\n\u001B[0;31m    subsubdataset_manu = ?\u001B[0m\n\u001B[0m                         ^\u001B[0m\n\u001B[0;31mSyntaxError\u001B[0m\u001B[0;31m:\u001B[0m invalid syntax\n"
     ]
    }
   ],
   "source": [
    "import pandas as pd\n",
    "import numpy as np\n",
    "\n",
    "##############################\n",
    "# importing data\n",
    "df10labeled_data = pd.read_csv('./df10labeled_data.csv')\n",
    "print(df10labeled_data)\n",
    "\n",
    "##############################\n",
    "## excluding some subjects as before\n",
    "## we empirically choose to exclude subjects 19, 23, 33, 38\n",
    "subdf10labeled_data = df10labeled_data.loc[(df10labeled_data[\"subject\"]!=19)&\n",
    "                                           (df10labeled_data[\"subject\"]!=23)&\n",
    "                                           (df10labeled_data[\"subject\"]!=33)&\n",
    "                                           (df10labeled_data[\"subject\"]!=38)]\n",
    "print(subdf10labeled_data)\n",
    "\n",
    "######################################################\n",
    "# separate the dataset with respect to operation mode\n",
    "# and select the features to be used for classification\n",
    "\n",
    "subsubdataset_manu = ?\n",
    "\n",
    "subsubdataset_auto = ?\n",
    "\n"
   ]
  },
  {
   "cell_type": "markdown",
   "metadata": {
    "id": "Ev-7tytm3zSz"
   },
   "source": [
    "### Task 3.2. Revise tasks 1.1.4 and 1.1.5 to train a classifier per dataset and then, extract their confusion matrix"
   ]
  },
  {
   "cell_type": "code",
   "execution_count": null,
   "metadata": {
    "id": "Yyo3VEWV3zS0"
   },
   "outputs": [],
   "source": [
    "#### PUT YOUR CODE HERE"
   ]
  },
  {
   "cell_type": "markdown",
   "metadata": {
    "id": "KyQjutIb3zS0"
   },
   "source": [
    "### Task 3.3. Revise task 2.1 to define your POMDP in the Cassandra file format\n",
    "\n",
    "Note you may probably have different transition and observations functions depending on the action manu/auto.\n",
    "\n",
    "Copy and paste your POMDP model in Cassandra format hereafter:"
   ]
  },
  {
   "cell_type": "markdown",
   "metadata": {
    "id": "MfQY658d3zS0"
   },
   "source": [
    "\n",
    "### Firefighter.4D.POMDP\n",
    "\n",
    "discount: 0.95\n",
    "\n",
    "values: reward\n",
    "\n",
    "states: notengagedmanu engagedmanu notengagedauto engagedauto \n",
    "\n",
    "actions: manu auto\n",
    "\n",
    "observations: onotengaged oengaged\n",
    "\n",
    "start: 0.25 0.25 0.25 0.25\n",
    "\n",
    "..."
   ]
  },
  {
   "cell_type": "markdown",
   "metadata": {
    "id": "7uzRxTaT3zS1"
   },
   "source": [
    "### Task 3.4. Revise tasks 2.2 and 2.3"
   ]
  },
  {
   "cell_type": "markdown",
   "metadata": {
    "id": "KYwYcSbx3zS1"
   },
   "source": [
    "#### Copy and paste the used command lines for POMDP solving and the results obtained with 500 simulations for this new POMDP model and optimized policy\n"
   ]
  },
  {
   "cell_type": "markdown",
   "metadata": {
    "id": "w2_bYPMv3zS1"
   },
   "source": [
    "Answer:"
   ]
  },
  {
   "cell_type": "markdown",
   "metadata": {
    "id": "5ue-0iHD3zS2"
   },
   "source": [
    "## Champions' Question:\n",
    "\n",
    "**Is this new POMDP model presenting a significant improvement according to the expected cumulated rewards when compared with the random policy used during experiments?**\n",
    "\n",
    "\n",
    "**Is this new POMDP model presenting a significant improvement according to the expected cumulated rewards when compared with the policy optimized based on the previous POMDP model?**"
   ]
  },
  {
   "cell_type": "markdown",
   "metadata": {
    "id": "7lcgSsS83zS2"
   },
   "source": [
    "Answer:"
   ]
  },
  {
   "cell_type": "code",
   "execution_count": null,
   "metadata": {
    "id": "rGCOWLwt3zS2"
   },
   "outputs": [],
   "source": []
  }
 ],
 "metadata": {
  "kernelspec": {
   "display_name": "Python 3",
   "language": "python",
   "name": "python3"
  },
  "language_info": {
   "codemirror_mode": {
    "name": "ipython",
    "version": 3
   },
   "file_extension": ".py",
   "mimetype": "text/x-python",
   "name": "python",
   "nbconvert_exporter": "python",
   "pygments_lexer": "ipython3",
   "version": "3.8.3"
  },
  "colab": {
   "name": "BE_Firefighter_Robot_Game_Student.ipynb",
   "provenance": []
  }
 },
 "nbformat": 4,
 "nbformat_minor": 0
}
