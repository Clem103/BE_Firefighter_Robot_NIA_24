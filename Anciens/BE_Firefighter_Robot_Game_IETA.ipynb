{
 "cells": [
  {
   "cell_type": "markdown",
   "metadata": {
    "id": "zL2XAkP0LI3X"
   },
   "source": [
    "<h1><center>Graded practical work (12h)</center></h1>\n",
    "\n",
    "William Angelier et Marine de Fontenay"
   ]
  },
  {
   "cell_type": "markdown",
   "metadata": {
    "id": "9NrVhyZ5LI3a"
   },
   "source": [
    "# INTRODUCTION"
   ]
  },
  {
   "cell_type": "markdown",
   "metadata": {
    "id": "sQxFY7S9LI3b"
   },
   "source": [
    "### Objective\n",
    "\n",
    "Set up a simple yet effective POMDP model in order to drive human-machine interaction in the Firefighter Robot Game study case. This POMDP model will be based on a dataset that has been collected during an experiment and that is provided to you."
   ]
  },
  {
   "cell_type": "markdown",
   "metadata": {
    "id": "cn7Rqc5yLI3c"
   },
   "source": [
    "### Recall: the POMDP model\n",
    "\n",
    "Let's recall that a POMDP (Partially Observable Markov Decision Process) is a tuple $\\langle S, A, \\Omega, p(), o(), r(), b_0 \\rangle$, with $S$ (resp. $A$, $\\Omega$) the state (resp. action, observation) space.\n",
    "How does this probabilistic planning model work?\n",
    "1. At each time step $t \\in \\mathbb{N}$, the artificial agent has only a partial knowledge of the actual current state $s \\in S$. In order to still be able to reason about the state of the system, the agent maintains a probability distribution over $S$, called belief state, and denoted by $b_t$. The initial belief state is $b_0$ and takes part in the definition of the POMDP as a prior distribution about the initial state.\n",
    "2. When the artificial agent selects an action $a \\in A$, the probability that the state of the system switches from $s \\in S$ to $s' \\in S$, is $Pr(s'\\mid s,a) = p(s,a,s')$ given by the transition probability function $p()$ in the POMDP definition.\n",
    "3. The current state is not available to the artificial agent, but the latter still receives information given by the observation $o' \\in \\Omega$. The probability that the observation $o' \\in \\Omega$ is received, is $Pr(o'\\mid s',a) = o(a,s',o')$ given by the observation probability function $o()$. \n",
    "4. An action $a$ applied in a state $s$ is rewarded by $r(s,a) \\in \\mathbb{R}$ given by the reward function $r()$.\n",
    "\n",
    "![POMDP_for_HRI.png](attachment:POMDP_for_HRI.png)\n"
   ]
  },
  {
   "cell_type": "markdown",
   "metadata": {
    "id": "F0n24817LI3d"
   },
   "source": [
    "#### The belief state:\n",
    "1. In partially observable domains, only successive actions and observations are visible to the agent to implement the state estimation. These sequences can be seen as the agent's memory.\n",
    "2. Let's define the history of all observations received and actions performed at time step $t \\in \\mathbb{N}$: $h_t := \\{a_0, o_1,...,o_{t-1},a_{t-1},o_t\\}$. The size of the history grows with the time step $t \\in \\mathbb{N}$, so it can become huge very quickly.\n",
    "3. The definition of the belief state at time step $t \\in \\mathbb{N}$ is the probability of the current state $s_t \\in S$ given the history $h_t$: $b_t(s) = Pr(s_t = s \\mid h_t)$.\n",
    "\n",
    "However, in practice, it is not necessary to keep the history in memory to compute the belief state. It is indeed possible to simply update the previous belief state using the action performed, and the observation received:\n",
    "\\begin{eqnarray*}\n",
    "{b_{t+1}(s')} & = & Pr(s' \\mid h_{t+1}) = Pr(s' \\mid  h_t, a_t, o_{t+1})\n",
    " = \\dfrac{Pr(o_{t+1},s' \\mid h_t,a_t)}{Pr(o_{t+1} \\mid h_t,a_t)} \\nonumber \\\\\n",
    "& = & \\dfrac{Pr(o_{t+1} \\mid s', a_t) Pr(s' \\mid h_t,a_t) }{Pr(o_{t+1} \\mid h_t, a_t)} \n",
    "= \\dfrac{o(a_t, s', o_{t+1}) Pr(s' \\mid h_t,a_t) }{Pr(o_{t+1} \\mid h_t,a_t)} \\nonumber \\\\\n",
    "& = & \\dfrac{ o(a_t, s', o_{t+1}) \\sum_{s \\in S} Pr(s' \\mid s, a_t) Pr(s \\mid h_t) }{ Pr(o_{t+1} \\mid h_t,a_t)} \n",
    "= \\dfrac{ o(a_t, s', o_{t+1}) \\sum_{s \\in S}p(s,a_t,s') b_t(s) }{ Pr(o_{t+1} \\mid h_t,a_t)} \\nonumber \\\\\n",
    "& = & \\dfrac{ o(a_t, s', o_{t+1}) \\sum_{s \\in S}p(s,a_t,s') b_t(s) }{ \\sum_{(s,s') \\in S^2} o(a_t, s', o_{t+1}) p(s,a_t,s') b_t(s) } \\nonumber = U(b_t,a_t,o_{t+1})(s').\n",
    "%{b_o^a(s')} & = & p(s' \\mid b,a,o) = \\dfrac{p(o,s' \\mid b,a)}{p(o \\mid b,a)} \\nonumber \\\\\n",
    "%& = &\\dfrac{p(o \\mid s',a)p(s' \\mid b,a)}{p(o \\mid b,a)}\\nonumber \\\\\n",
    "%& = &\\dfrac{p(o \\mid s',a)p(s' \\mid b,a)}{\\sum_{s,s'}p(o \\mid b,a,s,s')p(s,s'\\mid b,a)}\\nonumber\\\\\n",
    "%& = &\\dfrac{p(o \\mid s',a)\\sum_{s\\in S} p(s' \\mid s,a)b(s)\n",
    "%}{\\sum_{s'\\in S}p(o \\mid s',a)\\sum_{s\\in S} p(s'\\mid s,a)b(s)}\n",
    "\\label{beliefupdate}\n",
    "\\end{eqnarray*}\n",
    "The belief update function $U$ can be defined using transition and observation functions $p()$ and $o()$. When the artificial agent uses action $a_t$ and receives observation $o_{t+1}$, it can use $b_{t+1} = U(a_t,o_{t+1},b_t)$ as belief on the system state $s_{t+1}$. Now, if the belief state is $b_t$, and the selected action is $a_t$, the probability of obtaining the belief state $b_{t+1} = U(b_t,a_t,o_{t+1})$ is the following:\n",
    "\\begin{eqnarray*}\n",
    "Pr(o_{t+1} \\mid  h_t, a_t) & = & \\sum_{s' \\in S} Pr(o_{t+1} \\mid s', a_t) Pr(s' \\mid h_t) = \\sum_{(s,s') \\in S^2} Pr(o_{t+1} \\mid s', a_t) Pr(s' \\mid s, a_t) Pr(s \\mid h_t)\\\\ \n",
    "& = & \\sum_{(s,s') \\in S^2} o(a_t, s', o') p(s, a_t, s') b_t(s).\n",
    "\\end{eqnarray*}\n",
    "Since the probability distribution on the next belief $b_{t+1}$ only depends on the previous belief $b_t$ and the current action $a_t$, the belief state process $(b_t)_{t \\in \\mathbb{N}}$ is a Markov Decision Process (MDP) whose system space is the space of probability distributions. As a result, a POMDP can be transformed into a belief state MDP.\n",
    "\n",
    "In short, the artificial agent synthesizes all available information from the past using a belief state $b_t(s)$, which is a probability distribution on the system state updated every time step: $b_t(s) := Pr(s_t=s|o_t,a_{t-1},o_{t-1},..., a_0) = U(a_{t-1},o_t,b_{t-1})(s)$."
   ]
  },
  {
   "cell_type": "markdown",
   "metadata": {
    "id": "DA4ryp0eLI3d"
   },
   "source": [
    "#### POMDP solving objective\n",
    "\n",
    "The agent's objective is to choose actions that will drive him to achieve better rewards. Let's define a deterministic Markovian policy $\\pi(b)$ as a function such as, $\\pi (b): b\\mapsto a$. The expected value of a given action policy $\\pi (b)$ can be formilized as:\n",
    "\n",
    "$V^{\\pi}(b) = E_\\pi\\left[\\sum ^{\\infty} _{t=0} \\gamma ^{t} r(b_t,\\pi(b_t)) \\middle\\vert b_0=b\\right]$\n",
    "\n",
    "where,  $0 \\leqslant \\gamma < 1$, and $r(b_t,\\pi(b_t))=\\sum_{s\\in S}r(s,\\pi(b_t))b_t(s)$\n",
    "\n",
    "In the POMDP context, we search for the optimal policy $\\pi^*(b)$ that maximizes the expectation of *the sum of discounted rewards* ($\\gamma$-discounted criteron). \n",
    "\n",
    "$V^{\\pi^*}(b) = \\max_\\pi E_\\pi\\left[\\sum ^{\\infty} _{t=0} \\gamma ^{t} r(b_t,\\pi(b_t)) \\middle\\vert b_0=b\\right]$\n",
    "\n",
    "Opening the sum above, on can retrieve the Bellman equation:\n",
    "\n",
    "$V^{\\pi^*}(b)  =  \\max_{a\\in A } \\left[ \\sum_{s\\in S}r(s,a)b(s) + \\gamma\\sum_{o \\in \\Omega} p(o|a,b)V^{\\pi^*}(b^a_o)\\right]$\n",
    "\n",
    "Thus, an optimal policy $\\pi^*$ is defined by $V^{\\pi^*}$ that satisfies this Bellman. The solution is said optimal when $V^*=V^{\\pi^*}$ converges to a fixed point for any $b$. In other words, one could iterate on this value function $\\forall b$ until it converges, and then extract the related policy.\n",
    "\n",
    "However:\n",
    "1. the exact solution in infinite horizon settings is *hard* to compute (PSPACE-complete)\n",
    "2. actually, current algorithms approach the optimal solution, exploiting particular properties: of the value function and of the system dynamics.\n"
   ]
  },
  {
   "cell_type": "markdown",
   "metadata": {
    "id": "au6kSiPwLI3e"
   },
   "source": [
    "#### Value Function parametrization\n",
    "\n",
    "1. The infinite horizon value function $V^{\\pi}(b) = E_{\\pi}\\left[\\sum ^{\\infty} _{t=0} \\gamma ^{t} r(b_t,\\pi(b_t)) \\middle\\vert b_0=b\\right]$ can be approximated by the finite horizon optimal value function $V^{\\pi}(b) = E_{\\pi}\\left[\\sum ^{N} _{t=0} r(b_t,\\pi(b_t)) \\middle\\vert b_0=b\\right]$ which is a piece-wise linear and convex (PWLC) function.\n",
    "\n",
    "2. If the function $F: \\mathbb{R}^{S} \\rightarrow \\mathbb{R}$ is a PWLC function,\n",
    "it exists a finite set of vectors of $\\mathbb{R}^{S}$,\n",
    "denoted by $\\{ \\alpha_i \\}_{i=1}^n$, such that $F$ can be written \n",
    "$F(b) = \\displaystyle \\max_{i=1}^n \\alpha_i \\cdot b = \\max_{i=1}^n \\sum_{s \\in S} \\alpha_{i}(s) \\cdot b(s)$.\n",
    "Since the belief state $b$ is a probability distribution over $S$, \n",
    "we can write $b: S \\rightarrow [0,1]$, and even $b \\in \\mathbb{R}^S$. \n",
    "The approximation of the optimal value function \n",
    "$V: \\mathbb{R}^S \\rightarrow \\mathbb{R}$ \n",
    "can be parameterized by a set of $\\alpha$-vectors\n",
    "$\\Gamma_n = \\left\\lbrace \\alpha_i \\right\\rbrace_{i=1}^n$, with $\\alpha_i \\in \\mathbb{R}^S$, $\\forall i$.\n",
    "Indeed,\n",
    "$V(b) = \\displaystyle \\max_{\\alpha \\in \\Gamma_n} \\alpha \\cdot b = \\max_{\\alpha \\in \\Gamma_n} \\sum_{s \\in S} \\alpha(s) \\cdot b(s)$.\n",
    "$%i \\in 1,...,|V_n|$\n",
    "3. In fact, $V$ is defined on the belief space\n",
    "$\\{ b \\in \\mathbb{R}^S \\mid \\sum_s b(s)=1 \\}$.\n",
    "Each $\\alpha$-vector $\\alpha_i \\in \\mathbb{R}^S$\n",
    "is associated with an action $a(\\alpha) \\in A$,\n",
    "and defines a region of the belief space, \n",
    "where $\\alpha_i \\cdot b = \\max_j \\alpha_j \\cdot b = V(b)$,\n",
    "that is, where $\\alpha_i \\cdot b$ reaches is maximum.\n",
    "The $\\alpha$-vectors form then a partition of the belief state.\n",
    "\n",
    "$$%V_n(b)  =  \\max _{\\alpha ^i_n \\in \\Gamma_n} \\sum _{s \\in S} b(s)\\alpha ^i_n(s) \\rightarrow V_n(b)  =  \\max_{\\alpha ^i_n \\in \\Gamma_n}b\\cdot \\alpha _n^i$$ \n",
    "\n",
    "Thus, for a given belief state $b$, the gradient of the value function is induced by the vector:\n",
    "\n",
    "$$ \\alpha^b = \\operatorname*{arg\\,max}_{\\alpha \\in \\Gamma_n} b \\cdot \\alpha $$\n",
    "\n",
    "and, the associated policy $\\pi(b) \\in A$ is the action of this $\\alpha$-vector, that is: \n",
    "$\\pi(b) = a(\\alpha^b)$. "
   ]
  },
  {
   "cell_type": "markdown",
   "metadata": {
    "id": "YW38L0OTLI3e"
   },
   "source": [
    "#### Solving Algorithm : point-based value iteration  (PBVI)\n",
    "\n",
    "#### Value backup operation:\n",
    "Let's define a $V_n$ parameterized by a set $\\Gamma_n$ of $\\alpha$-vectors and a given belief state $b$. One can compute $\\alpha^b_{n+1}$ of $V_{n+1}$ from $LV_n$ (the unknown set of vectors):\n",
    "$\\alpha _{n+1}^b = arg\\max_{\\alpha _{n+1}^i \\in \\mathcal{L}V_n} b \\cdot \\alpha _{n+1}^i,$\n",
    "\n",
    "Let's define $r_a=r(s,a)$ and $b \\cdot r_a = \\sum_s b(s)r(s,a)$, and a set of belief states $\\mathcal B$ where $b\\in \\mathcal B$, we have:\n",
    "$V_{n+1}(b) = \\max _a \\left[ b \\cdot r_a + \\gamma \\sum _o p(o \\mid a,b)V_n(b_o^a) \\right]$\n",
    "\n",
    "$ = \\max _a \\left[ b \\cdot r_a + \\gamma \\sum _o p(o \\mid b,a) \\max _{\\alpha _{n}^i \\in V_n} \\sum _{s'}b_o^a(s')\\alpha _n^i(s')\\right]$\n",
    "\n",
    "$ =  \\max _a \\left[ b \\cdot r_a + \\gamma \\sum _o p(o\\mid b,a) \\max _{\\alpha _{n}^i \\in V_n} \\frac {\\sum _{s'} p(o \\mid s',a) \\sum _s p(s' \\mid s,a)b(s)\\alpha _n^i(s')}{p(o\\mid b,a)}\\right]$\n",
    "\n",
    "$ =  \\max _a \\left[ b \\cdot r_a + \\gamma \\sum _o \\max _{\\alpha _{n}^i \\in V_n} \\sum _s \\sum _{s'} p(o \\mid s',a) p(s' \\mid s,a)b(s)\\alpha _n^i(s')\\right]$\n",
    "\n",
    "thus: $ V_{n+1}(b)  =  \\max _a \\left[ b \\cdot r_a + \\gamma \\sum _o \\max _{\\alpha^{a,o}_i \\in \\Gamma^{a,o}} b \\cdot \\alpha^{a,o}_i \\right] $\n",
    "\n",
    "Then, applying $\\max _j b \\cdot \\alpha _j = b \\cdot \\operatorname*{arg\\,max}_j b\\cdot \\alpha_j$ two times, we have:\n",
    "\n",
    "$backup(b)  =  arg\\max_{\\alpha^{a}_b \\in \\Gamma^a_b} b \\cdot \\alpha^a_b$\n",
    "\n",
    "$\\mathrm{with} \\; \\Gamma^a_b  \\leftarrow  r_a + \\gamma \\sum _o arg\\max_{\\alpha^{a,o}_i \\in \\Gamma^{a,o}} b \\cdot \\alpha^{a,o}_i$\n",
    "\n",
    "#### Algorithm\n",
    "\n",
    "<img src=\"../figures/pbvi.png\" width=\"600\">\n",
    "\n",
    "The output of this algorithm is a set of $\\alpha$-vectors $\\Gamma$ approximating the value function. Each $\\alpha$-vector has an associated action $a$.\n",
    "\n",
    "At execution time, one can determine the best action for a given belief state $b$, appying:\n",
    "\n",
    "$$ \\alpha^b = \\operatorname*{arg\\,max}_{\\alpha \\in \\Gamma} b \\cdot \\alpha $$\n",
    "\n",
    "and, the associated policy $\\pi(b) \\in A$ is the action of this $\\alpha$-vector, that is $\\pi(b) = a(\\alpha^b)$. \n",
    "\n",
    "#### Provided library\n",
    "The PyPOMDP library (see https://github.com/namoshizun/PyPOMDP) is provided with this notebook. \n",
    "\n",
    "This library proposes two state-of-the-art algorithms, PBVI and POMCP (do not hesitate to get a look in the Caroline's slides courses). However, this library has been customized with several additional features that will be very useful for this practical work.\n",
    "\n",
    "For instance, the library now save a Value Function parametrized by $\\alpha$-vectors, in a file. This can be then reloaded to simulate the policy in order to evaluate futur gains, or in order to replay an experiment.\n",
    "\n",
    "In this practical work course we will mainly use the implementation of PBVI."
   ]
  },
  {
   "cell_type": "markdown",
   "metadata": {
    "id": "VkDptny7LI3f"
   },
   "source": [
    "# THE FIREFIGTHER ROBOT GAME\n",
    "\n",
    "## Experiments conduted in the lab\n",
    "During lab experiments, 18 volunteers equipped with physiological sensors have played the Firefigther Robot Game.\n",
    "http://robot-isae.isae.fr\n",
    "\n",
    "![sujet.JPG](attachment:sujet.JPG)\n",
    "\n",
    "Each participant followed an experimental protocol in which 4 missions are played. Please see the FireFigther game presentation for more details.\n",
    "\n",
    "![procedureEnglish.png](attachment:procedureEnglish.png)\n"
   ]
  },
  {
   "cell_type": "markdown",
   "metadata": {
    "id": "ktkTYCL8LI3f"
   },
   "source": [
    "## Mission scoring \n",
    "\n",
    "The number of extinguished fires allowed to quantify how well a mission has been performed. We could define two performance group using the median score as a threshold to obtain a balanced dataset. Each mission was then labeled as: 0 for low scoring mission group (low performance); and 1 for high scoring mission group (high performance).\n",
    "\n",
    "\n",
    "## Datasets\n",
    "\n",
    "Two datasets are provided:\n",
    "1. A labeled dataFrame including preprocessed markers for each 10-second time window, mission and participant\n",
    "2. A labeled dataFrame gathering **averaged markers** results for each 10-second time window, mission, participant and robot operation mode\n"
   ]
  },
  {
   "cell_type": "code",
   "execution_count": null,
   "metadata": {
    "scrolled": true,
    "id": "1_nnqAaiLI3g",
    "outputId": "f3f37a81-59d8-40eb-85ec-0eb3d10fe04c"
   },
   "outputs": [
    {
     "name": "stdout",
     "output_type": "stream",
     "text": [
      "      subject  mission  mode         HR       HRV   nav  tank  space  trees  \\\n",
      "0        19.0      1.0   0.0  72.568940 -0.066819  14.0   0.0    0.0    0.0   \n",
      "1        19.0      1.0   0.0  74.229865 -0.087446  18.0   2.0    0.0    0.0   \n",
      "2        19.0      1.0   1.0  73.304826 -0.070724   9.0   5.0    0.0    0.0   \n",
      "3        19.0      1.0   1.0  69.962687 -0.050697   0.0   8.0    0.0    0.0   \n",
      "4        19.0      1.0   1.0  70.771408 -0.076950   0.0   7.0    0.0    1.0   \n",
      "...       ...      ...   ...        ...       ...   ...   ...    ...    ...   \n",
      "3586     40.0      4.0   1.0  69.767442 -0.041904   0.0  24.0    0.0    0.0   \n",
      "3587     40.0      4.0   0.0  67.046597 -0.043276  12.0   8.0    0.0    0.0   \n",
      "3588     40.0      4.0   0.0  69.549090 -0.044936  10.0  14.0    0.0    0.0   \n",
      "3589     40.0      4.0   0.0  72.245635 -0.045260   6.0   8.0    1.0    0.0   \n",
      "3590     40.0      4.0   1.0  71.564885 -0.048838   2.0   9.0    0.0    0.0   \n",
      "\n",
      "      nbAOI1  ...  nbAOI4  nbAOI5  durAOI1   durAOI2  durAOI3   durAOI4  \\\n",
      "0        0.0  ...    17.0    13.0      0.0     0.000  396.012  4315.727   \n",
      "1        0.0  ...    14.0     8.0      0.0   799.830  616.039  5164.160   \n",
      "2        0.0  ...     6.0     2.0      0.0  4567.621  323.665  1076.000   \n",
      "3        0.0  ...     2.0     0.0      0.0  8334.850  507.983   404.020   \n",
      "4        0.0  ...     0.0     4.0      0.0  6839.057  288.020     0.000   \n",
      "...      ...  ...     ...     ...      ...       ...      ...       ...   \n",
      "3586     0.0  ...     5.0     2.0      0.0  8130.931    0.000   843.695   \n",
      "3587     0.0  ...    10.0     3.0      0.0  3607.340    0.000  3371.289   \n",
      "3588     0.0  ...    15.0     1.0      0.0  4155.458    0.000  4095.549   \n",
      "3589     0.0  ...     7.0     2.0      0.0  4499.490    0.000  4619.240   \n",
      "3590     0.0  ...    12.0     7.0      0.0  3847.525    0.000  3134.870   \n",
      "\n",
      "       durAOI5  tank_local_score    HRnorm  label  \n",
      "0     2627.351             0.000  6.185203    1.0  \n",
      "1     1296.772            -2.222  7.846128    1.0  \n",
      "2      411.970            -8.445  6.921088    1.0  \n",
      "3        0.000             4.555  3.578949    1.0  \n",
      "4     1471.901            19.032  4.387671    1.0  \n",
      "...        ...               ...       ...    ...  \n",
      "3586   339.979             7.286  3.992174    0.0  \n",
      "3587  1307.800             2.714  1.271330    0.0  \n",
      "3588   156.010             3.778  3.773822    0.0  \n",
      "3589   415.880            -0.334  6.470367    0.0  \n",
      "3590  1252.000            -1.111  5.789618    0.0  \n",
      "\n",
      "[3591 rows x 22 columns]\n",
      "            HR       HRV     HRnorm    durAOI1      durAOI2      durAOI3  \\\n",
      "0    73.305546 -0.069436   6.921808   4.932333  2129.406367  2678.168567   \n",
      "1    72.956445 -0.063483   6.572708   0.000000  6571.811483   566.278000   \n",
      "2    71.576225 -0.091708   8.067361  12.141286  1797.237214  3547.153714   \n",
      "3    72.168841 -0.090276   8.659977   4.741111  6226.135370   668.982037   \n",
      "4    73.885036 -0.096448  10.241172   0.000000  1606.564280  3391.440920   \n",
      "..         ...       ...        ...        ...          ...          ...   \n",
      "139  66.093630 -0.043516   0.539398   0.000000  5223.128500     0.000000   \n",
      "140  67.925163 -0.044169   0.990982   0.000000  4067.073143    48.568571   \n",
      "141  69.152892 -0.038705   2.218711   0.000000  4967.913200    64.788000   \n",
      "142  68.981841 -0.040580   3.206573   0.000000  3645.349444   131.996111   \n",
      "143  69.233786 -0.042072   3.458518   0.000000  5313.447909   108.345455   \n",
      "\n",
      "         durAOI4      durAOI5  mission  mode  ...     nbAOI3     nbAOI4  \\\n",
      "0    1783.765767   975.935567        1     0  ...  13.333333   7.400000   \n",
      "1     518.711793   577.381034        1     1  ...   2.517241   2.172414   \n",
      "2    1615.460000  1010.015536        2     0  ...  16.321429   6.250000   \n",
      "3     312.901556   696.532074        2     1  ...   2.925926   1.259259   \n",
      "4    1552.987520   908.531080        3     0  ...  17.440000   6.800000   \n",
      "..           ...          ...      ...   ...  ...        ...        ...   \n",
      "139  3197.380500   279.983500        2     1  ...   0.000000  10.000000   \n",
      "140  4125.931286   588.783929        3     0  ...   0.285714  12.571429   \n",
      "141  2969.286400   544.709600        3     1  ...   0.400000  10.000000   \n",
      "142  3920.527611   654.800944        4     0  ...   0.611111  13.166667   \n",
      "143  2471.960409   938.529909        4     1  ...   0.636364   9.954545   \n",
      "\n",
      "       nbAOI5     space  subject       tank  tank_local_score     trees  \\\n",
      "0    5.166667  0.533333       19   2.233333         -3.089643  0.466667   \n",
      "1    2.965517  0.206897       19   6.206897          3.802909  0.379310   \n",
      "2    5.392857  0.500000       19   1.857143         -6.680850  0.428571   \n",
      "3    3.629630  0.222222       19   7.111111          4.718641  0.481481   \n",
      "4    5.200000  0.720000       19   1.200000         -8.362847  0.720000   \n",
      "..        ...       ...      ...        ...               ...       ...   \n",
      "139  1.500000  0.000000       40   9.000000         -2.833000  0.500000   \n",
      "140  2.928571  0.214286       40   8.214286         -1.595214  0.071429   \n",
      "141  3.200000  0.000000       40  10.400000         -0.999800  0.200000   \n",
      "142  3.500000  0.055556       40   7.944444         -3.281372  0.000000   \n",
      "143  5.136364  0.000000       40  14.090909          1.201314  0.363636   \n",
      "\n",
      "     nbt_trees_mode  label  \n",
      "0                14      1  \n",
      "1                11      1  \n",
      "2                12      1  \n",
      "3                13      1  \n",
      "4                18      1  \n",
      "..              ...    ...  \n",
      "139               1      0  \n",
      "140               1      0  \n",
      "141               1      0  \n",
      "142               0      0  \n",
      "143               8      0  \n",
      "\n",
      "[144 rows x 23 columns]\n"
     ]
    }
   ],
   "source": [
    "import pandas as pd\n",
    "import numpy as np\n",
    "\n",
    "# example :\n",
    "# importing label dataset including preprocessed markers for each 10-second time window, mission and participant\n",
    "# this dataset will be useful for classification purposes\n",
    "df10labeled_data = pd.read_csv('./data/df10labeled_data.csv')\n",
    "print(df10labeled_data)\n",
    "\n",
    "# example:\n",
    "# importing labeled dataset with averaged or summed markers results for each \n",
    "# 10-second time window, mission, participant and robot operation mode\n",
    "averagedPMPVmode_w10_data = pd.read_csv('./data/averagedPMPVmode_w10_data.csv')\n",
    "print(averagedPMPVmode_w10_data)\n"
   ]
  },
  {
   "cell_type": "markdown",
   "metadata": {
    "id": "VKaSRohCLI3h"
   },
   "source": [
    "### Markers description\n",
    "* **subject** : identification number of the participant\n",
    "* **mission** : identification number of the mission (1, 2, 3 or 4)\n",
    "* **mode** : robot operation mode (0 for manual, 1 for autonomous)\n",
    "* **HR** : average of the participant's heart-rate (on the 10sec window) \n",
    "* **normHR** : normalized participant's heart-rate (w.r.t. the rest period)\n",
    "* **HRV** : normalized heart-rate variability (w.r.t. the rest period)\n",
    "* **nav** : total number of keystrokes and cliks related with robot navigation control task in the 10sec window.\n",
    "* **tank** : total number of  keystrokes/clicks realted with the external tank management task in the 10sec window.\n",
    "* **space** : total number of times the space key was pressed in the 10sec window.\n",
    "* **trees** : total number of trees on fire that are extinghised using the space keyboard in the 10sec window.\n",
    "* **nbAOI1** : total number of eye fixations in the AOI (Areas-Of-Interest) number 1 (same for the others).\n",
    "* **durAOI1** : total duration of fixations performed in the AOI number 1 (same for the others)\n",
    "* **tank_local_score** : how much the external tank level has increased/decreased in the last 10s.\n",
    "* **nbt_trees_mode** : total number of extinguished trees per operation mode\n",
    "* **label**: {0,1} boolean indicating if the final mission score is good (1) or bad (0). Note that in this work we will consider that it reflects the mental state of the human operator: 1 for $e$ (engaged / performant) and 0 for $ne$ (not engaged / not performant)."
   ]
  },
  {
   "cell_type": "markdown",
   "metadata": {
    "id": "asFDtmoXLI3h"
   },
   "source": [
    "# PRACTICAL WORK TASKS"
   ]
  },
  {
   "cell_type": "markdown",
   "metadata": {
    "id": "R3QWlyo3LI3h"
   },
   "source": [
    "## Task 1 : Defining the POMDP model "
   ]
  },
  {
   "cell_type": "markdown",
   "metadata": {
    "id": "ppjF_5zFLI3i"
   },
   "source": [
    "As our goal is to drive (i.e. control) the interaction between the human operator and the robot in function of the human operator engagement (cf. presentation):\n",
    "\n",
    "1. We define the state space as $S = S_h$, where $S_h = \\{e, ne\\}$, to express the human partially observable mental state of (a correct) engagement ($e$) or the absence of (a correct) engagement ($ne$). Note that this last mental state encapsulates disengaged and over-engaged cases, in which participants performed badly.\n",
    "2. We define the action space as $A = \\{manual, auto\\}$, representing the possible decisions of our POMDP agent about which robot operation mode (manual or autonomous mode) should be used.\n",
    "3. We define the observation space as $\\Omega =  \\{oe, one\\}$, that are the possible predictions of a classifier trained to detect human engagement based on available behavioral and physiological data.\n",
    "\n",
    "The transition function is defined as $p(s, a, s') = Pr(s' \\mid s,a) = \\left \\{ \\begin{array}{cc} 1 - \\epsilon & \\mbox{if } s=s'\\\\ \\epsilon & \\mbox{ otherwise } \\end{array} \\right.$. Note that the dynamics of the operator engagement in the task is rougly approached using the fact that an \"engaged\" human operator remains \"engaged\" with a small probability ($\\epsilon$) for changing its mental state to \"not engaged\".\n",
    "\n",
    "**It will be your job to define of the observation $o()$ and the reward $r()$ functions. For that, you may make use of the provided behavioral and physiological data.**\n",
    "\n",
    "We notice that the time step $t$ in our POMDP model refers to a 10-second time window. In other words, the POMDP agent plays an action every 10s."
   ]
  },
  {
   "cell_type": "markdown",
   "metadata": {
    "id": "UAWkES-VLI3i"
   },
   "source": [
    "### Task 1.1 : Define the POMDP observation function\n",
    "\n",
    "To achieve this step, proceed by chosing features and use them to train and test a classifier. \n",
    "\n",
    "The output of this classifier will be the prediction (observation) about the human operator engagement based on data. As explained, ET, ECG and HAI markers are provided. **It is your job to choose which markers are relevant to be used as features.**\n",
    "\n",
    "In order to check on markers relevance, we suggest you perform decriptive and statistical analysis."
   ]
  },
  {
   "cell_type": "markdown",
   "metadata": {
    "id": "jHx2gd1CLI3i"
   },
   "source": [
    "#### Task 1.1.1: Descriptive data analysis"
   ]
  },
  {
   "cell_type": "code",
   "execution_count": null,
   "metadata": {
    "id": "R_8x0rEILI3j",
    "outputId": "1cc822d6-0c16-4ec0-dba7-b90e204872d6"
   },
   "outputs": [
    {
     "data": {
      "image/png": "[encoded data removed]",
      "text/plain": [
       "<Figure size 432x288 with 1 Axes>"
      ]
     },
     "metadata": {
      "needs_background": "light"
     },
     "output_type": "display_data"
    },
    {
     "data": {
      "image/png": "[encoded data removed]",
      "text/plain": [
       "<Figure size 432x288 with 1 Axes>"
      ]
     },
     "metadata": {
      "needs_background": "light"
     },
     "output_type": "display_data"
    },
    {
     "data": {
      "image/png": "[encoded data removed]",
      "text/plain": [
       "<Figure size 432x288 with 1 Axes>"
      ]
     },
     "metadata": {
      "needs_background": "light"
     },
     "output_type": "display_data"
    },
    {
     "data": {
      "image/png": "[encoded data removed]",
      "text/plain": [
       "<Figure size 432x288 with 1 Axes>"
      ]
     },
     "metadata": {
      "needs_background": "light"
     },
     "output_type": "display_data"
    },
    {
     "data": {
      "image/png": "[encoded data removed]",
      "text/plain": [
       "<Figure size 432x288 with 1 Axes>"
      ]
     },
     "metadata": {
      "needs_background": "light"
     },
     "output_type": "display_data"
    },
    {
     "data": {
      "image/png": "[encoded data removed]",
      "text/plain": [
       "<Figure size 432x288 with 1 Axes>"
      ]
     },
     "metadata": {
      "needs_background": "light"
     },
     "output_type": "display_data"
    },
    {
     "data": {
      "image/png": "[encoded data removed]",
      "text/plain": [
       "<Figure size 432x288 with 1 Axes>"
      ]
     },
     "metadata": {
      "needs_background": "light"
     },
     "output_type": "display_data"
    },
    {
     "data": {
      "image/png": "[encoded data removed]",
      "text/plain": [
       "<Figure size 432x288 with 1 Axes>"
      ]
     },
     "metadata": {
      "needs_background": "light"
     },
     "output_type": "display_data"
    },
    {
     "data": {
      "image/png": "[encoded data removed]",
      "text/plain": [
       "<Figure size 432x288 with 1 Axes>"
      ]
     },
     "metadata": {
      "needs_background": "light"
     },
     "output_type": "display_data"
    }
   ],
   "source": [
    "import pandas as pd\n",
    "import numpy as np\n",
    "import matplotlib.pyplot as plt\n",
    "import matplotlib.patches as mpatches\n",
    "import seaborn as sns\n",
    "\n",
    "######################################################################\n",
    "### Defining some useful plotting function for you\n",
    "def plotting_data_per_mode(data, xstr, ystr):\n",
    "    palette=sorted(sns.color_palette(\"BuGn\", 10), reverse=True)\n",
    "    palette = [palette[6], palette[9]]\n",
    "    sns.set_context(\"paper\", font_scale=1, rc={\"lines.linewidth\": 2.5})\n",
    "    sns.boxenplot(x=xstr, y=ystr, hue=\"mode\", palette=palette, linewidth=1, data=dfaveraged_data)\n",
    "    #plt.ylim([-1, 30])\n",
    "    plt.xticks([0, 1], ['low scores group', 'high scores group'])\n",
    "    sns.despine(offset=10, trim=True)\n",
    "    plt.legend(loc='best')\n",
    "    \n",
    "def plotting_data_per_perfgroup(data, xstr, ystr):\n",
    "    palette=sorted(sns.color_palette(\"BuGn\", 10), reverse=True)\n",
    "    palette = [palette[6], palette[9]]\n",
    "    sns.set_context(\"paper\", font_scale=1, rc={\"lines.linewidth\": 2.5})\n",
    "    #sns.boxenplot(x=xstr, y=ystr, hue=\"label\", palette=palette, linewidth=1, data=dfaveraged_data)\n",
    "    sns.boxenplot(x=xstr, y=ystr, hue=\"label\", linewidth=1, data=dfaveraged_data)\n",
    "    #plt.ylim([-1, 30])\n",
    "    plt.xticks([0, 1], ['manual', 'auto'])\n",
    "    sns.despine(offset=10, trim=True)\n",
    "    plt.legend(loc='best')\n",
    "    plt.show()\n",
    "    \n",
    "\n",
    "#######################################################################\n",
    "# importing data\n",
    "dfaveraged_data = pd.read_csv('./data/averagedPMPVmode_w10_data.csv')\n",
    "\n",
    "## Plotting display examples\n",
    "## Note these plots represent quantiles of the quantitative variables\n",
    "## plotting operation mode x HRnorm grouped by the performance label\n",
    "plotting_data_per_perfgroup(dfaveraged_data, \"mode\", \"HRnorm\")\n",
    "plt.show()\n",
    "#plt.clf()\n",
    "\n",
    "## plotting operation mode x HRV grouped by the performance label\n",
    "plotting_data_per_perfgroup(dfaveraged_data, \"mode\", \"HRV\")\n",
    "plt.show()\n",
    "#plt.clf()\n",
    "\n",
    "## plotting operation mode x nav keystrokes grouped by the performance label\n",
    "plotting_data_per_perfgroup(dfaveraged_data, \"mode\", \"nav\")\n",
    "plt.show()\n",
    "#plt.clf()\n",
    "\n",
    "## plotting operation mode x nbAOI2 keystrokes grouped by the performance label\n",
    "plotting_data_per_perfgroup(dfaveraged_data, \"mode\", \"nbAOI2\")\n",
    "plt.show()\n",
    "#plt.clf()\n",
    "\n",
    "\n",
    "### PLEASE CONTINUE DESCRIPTIVE STATISTICAL ANALYSIS\n",
    "## use summary statistics from scipy.stats library  \n",
    "\n",
    "## plotting operation mode x nbAOI1 keystrokes grouped by the performance label\n",
    "plotting_data_per_perfgroup(dfaveraged_data, \"mode\", \"nbAOI1\")\n",
    "plt.show()\n",
    "#plt.clf()\n",
    "\n",
    "## plotting operation mode x nbAOI3 keystrokes grouped by the performance label\n",
    "plotting_data_per_perfgroup(dfaveraged_data, \"mode\", \"nbAOI3\")\n",
    "plt.show()\n",
    "#plt.clf()\n",
    " \n",
    "## plotting operation mode x nbAOI4 keystrokes grouped by the performance label\n",
    "plotting_data_per_perfgroup(dfaveraged_data, \"mode\", \"nbAOI4\")\n",
    "plt.show()\n",
    "#plt.clf()   \n",
    "\n",
    "## plotting operation mode x nbAOI5 keystrokes grouped by the performance label\n",
    "plotting_data_per_perfgroup(dfaveraged_data, \"mode\", \"nbAOI5\")\n",
    "plt.show()\n",
    "#plt.clf()\n",
    "\n",
    "\n",
    "## plotting operation mode x tank keystrokes grouped by the performance label\n",
    "plotting_data_per_perfgroup(dfaveraged_data, \"mode\", \"tank\")\n",
    "plt.show()\n",
    "#plt.clf()\n",
    "\n",
    "                                     \n"
   ]
  },
  {
   "cell_type": "markdown",
   "metadata": {
    "id": "j-y4dzpzLI3j"
   },
   "source": [
    "#### Draw conclusions for task 1.1.1 here:\n"
   ]
  },
  {
   "cell_type": "markdown",
   "metadata": {
    "id": "2gJgtoi4LI3j"
   },
   "source": [
    "Answer: Les marqueurs les plus pertinents pour entrainer notre classifieur sont ceux qui présentent des valeurs significativement différentes entre les groupes de bonnes performances et de basses performances.\n",
    "Concernant l'impact du mode de jeu (manuel ou auto), son importance est moindre car la performance globale du joueur est reflétée en mode manuel.\n",
    "Par conséquent, au vu des médianes et des écarts types obtenus pour chaque marqueur moyenné, nous choisissons dans un premier temps les marqueurs nav, nbAOI1, nbAOI3 et nbAOI5."
   ]
  },
  {
   "cell_type": "markdown",
   "metadata": {
    "id": "s9iYZMWTLI3k"
   },
   "source": [
    "**Task 1.1.2: Statistical analysis**\n",
    "\n",
    "To achieve this task, get a look on the data, and answer the following questions\n",
    "* **Which are the markers significantly impacted by the human operator perf/engagement (POMDP observation)?**\n",
    "* **Are the markers also impacted by the robot operation mode (POMDP action)?**\n",
    "\n",
    "**For that, you have to formally define the null hypothesis (H0) and the alternative one (H1) for each statistical test**\n",
    "\n",
    "**Remark 1 :** make use of ***Introduction to Statistics for Experimentations*** course (DNIA302) to achieve this step.\n",
    "\n",
    "**Remark 2 :** note that the **averaged data file (averagedPMPVmode_w10_data) will be used for this analysis**. The 10-second time window data is averaged by participant, mission and operation mode. Additional columns appear, providing the total number of trees extinguished for each operation mode, as well as the performance/engagement label."
   ]
  },
  {
   "cell_type": "code",
   "execution_count": null,
   "metadata": {
    "id": "2GfJiqiFLI3k",
    "outputId": "0ef449f8-3213-48c6-862d-0e9494799622"
   },
   "outputs": [
    {
     "name": "stdout",
     "output_type": "stream",
     "text": [
      "Index(['HR', 'HRV', 'HRnorm', 'durAOI1', 'durAOI2', 'durAOI3', 'durAOI4',\n",
      "       'durAOI5', 'mission', 'mode', 'nav', 'nbAOI1', 'nbAOI2', 'nbAOI3',\n",
      "       'nbAOI4', 'nbAOI5', 'space', 'subject', 'tank', 'tank_local_score',\n",
      "       'trees', 'nbt_trees_mode', 'label', 'modeperf', 'submission'],\n",
      "      dtype='object')\n",
      "#####################################################################\n",
      "2-WAY ANOVA H1: HRV is impacted by the operation mode and the performance (label)\n",
      "Overall model F( 3, 140) =  5.830, p =  0.0009\n",
      "\n",
      "                            OLS Regression Results                            \n",
      "==============================================================================\n",
      "Dep. Variable:                    HRV   R-squared:                       0.111\n",
      "Model:                            OLS   Adj. R-squared:                  0.092\n",
      "Method:                 Least Squares   F-statistic:                     5.830\n",
      "Date:                Thu, 11 Mar 2021   Prob (F-statistic):           0.000879\n",
      "Time:                        10:34:30   Log-Likelihood:                 325.64\n",
      "No. Observations:                 144   AIC:                            -643.3\n",
      "Df Residuals:                     140   BIC:                            -631.4\n",
      "Df Model:                           3                                         \n",
      "Covariance Type:            nonrobust                                         \n",
      "==============================================================================================\n",
      "                                 coef    std err          t      P>|t|      [0.025      0.975]\n",
      "----------------------------------------------------------------------------------------------\n",
      "Intercept                     -0.0273      0.004     -6.403      0.000      -0.036      -0.019\n",
      "C(mode)[T.1]                   0.0006      0.006      0.092      0.927      -0.011       0.012\n",
      "C(label)[T.1]                 -0.0182      0.006     -3.026      0.003      -0.030      -0.006\n",
      "C(mode)[T.1]:C(label)[T.1]     0.0009      0.009      0.105      0.916      -0.016       0.018\n",
      "==============================================================================\n",
      "Omnibus:                       24.567   Durbin-Watson:                   0.576\n",
      "Prob(Omnibus):                  0.000   Jarque-Bera (JB):               33.473\n",
      "Skew:                          -0.945   Prob(JB):                     5.39e-08\n",
      "Kurtosis:                       4.416   Cond. No.                         6.85\n",
      "==============================================================================\n",
      "\n",
      "Warnings:\n",
      "[1] Standard Errors assume that the covariance matrix of the errors is correctly specified.\n",
      "\n",
      "                    sum_sq     df          F    PR(>F)\n",
      "C(mode)           0.000036    1.0   0.055611  0.813917\n",
      "C(label)          0.011394    1.0  17.423777  0.000052\n",
      "C(mode):C(label)  0.000007    1.0   0.011104  0.916230\n",
      "Residual          0.091551  140.0        NaN       NaN\n",
      "Multiple Comparison of Means - Tukey HSD, FWER=0.05 \n",
      "====================================================\n",
      "group1 group2 meandiff p-adj   lower   upper  reject\n",
      "----------------------------------------------------\n",
      "    00     01  -0.0182 0.0154 -0.0339 -0.0026   True\n",
      "    00     10   0.0006    0.9 -0.0151  0.0162  False\n",
      "    00     11  -0.0168 0.0307 -0.0325 -0.0011   True\n",
      "    01     10   0.0188 0.0117  0.0031  0.0345   True\n",
      "    01     11   0.0015    0.9 -0.0142  0.0171  False\n",
      "    10     11  -0.0173 0.0237  -0.033 -0.0017   True\n",
      "----------------------------------------------------\n",
      "#####################################################################\n",
      "2-WAY ANOVA H1: HR is impacted by the operation mode and the performance (label)\n",
      "Overall model F( 3, 140) =  0.165, p =  0.9195\n",
      "\n",
      "                            OLS Regression Results                            \n",
      "==============================================================================\n",
      "Dep. Variable:                     HR   R-squared:                       0.004\n",
      "Model:                            OLS   Adj. R-squared:                 -0.018\n",
      "Method:                 Least Squares   F-statistic:                    0.1655\n",
      "Date:                Thu, 11 Mar 2021   Prob (F-statistic):              0.919\n",
      "Time:                        10:34:30   Log-Likelihood:                -524.93\n",
      "No. Observations:                 144   AIC:                             1058.\n",
      "Df Residuals:                     140   BIC:                             1070.\n",
      "Df Model:                           3                                         \n",
      "Covariance Type:            nonrobust                                         \n",
      "==============================================================================================\n",
      "                                 coef    std err          t      P>|t|      [0.025      0.975]\n",
      "----------------------------------------------------------------------------------------------\n",
      "Intercept                     76.9093      1.566     49.103      0.000      73.813      80.006\n",
      "C(mode)[T.1]                   0.1709      2.215      0.077      0.939      -4.208       4.550\n",
      "C(label)[T.1]                  1.2235      2.215      0.552      0.582      -3.156       5.603\n",
      "C(mode)[T.1]:C(label)[T.1]    -0.2562      3.133     -0.082      0.935      -6.450       5.937\n",
      "==============================================================================\n",
      "Omnibus:                        9.107   Durbin-Watson:                   0.317\n",
      "Prob(Omnibus):                  0.011   Jarque-Bera (JB):                6.386\n",
      "Skew:                           0.385   Prob(JB):                       0.0410\n",
      "Kurtosis:                       2.314   Cond. No.                         6.85\n",
      "==============================================================================\n",
      "\n",
      "Warnings:\n",
      "[1] Standard Errors assume that the covariance matrix of the errors is correctly specified.\n",
      "\n",
      "                        sum_sq     df         F    PR(>F)\n",
      "C(mode)               0.065951    1.0  0.000747  0.978238\n",
      "C(label)             43.191478    1.0  0.489041  0.485516\n",
      "C(mode):C(label)      0.590959    1.0  0.006691  0.934923\n",
      "Residual          12364.626317  140.0       NaN       NaN\n",
      "Multiple Comparison of Means - Tukey HSD, FWER=0.05\n",
      "==================================================\n",
      "group1 group2 meandiff p-adj  lower  upper  reject\n",
      "--------------------------------------------------\n",
      "    00     01   1.2235   0.9 -4.5365 6.9834  False\n",
      "    00     10   0.1709   0.9  -5.589 5.9309  False\n",
      "    00     11   1.1381   0.9 -4.6218 6.8981  False\n",
      "    01     10  -1.0525   0.9 -6.8125 4.7074  False\n",
      "    01     11  -0.0853   0.9 -5.8453 5.6746  False\n",
      "    10     11   0.9672   0.9 -4.7927 6.7272  False\n",
      "--------------------------------------------------\n",
      "                 Anova\n",
      "========================================\n",
      "         F Value  Num DF  Den DF  Pr > F\n",
      "----------------------------------------\n",
      "AOI      458.5680 4.0000 284.0000 0.0000\n",
      "mode      49.1675 1.0000  71.0000 0.0000\n",
      "AOI:mode 281.0315 4.0000 284.0000 0.0000\n",
      "========================================\n",
      "\n",
      "#####################################################################\n",
      "3-WAY ANOVA H1: nbFix is impacted by the AOI, the operation mode and the performance (label)\n",
      "                              sum_sq     df           F        PR(>F)\n",
      "Intercept                   0.749868    1.0    0.111368  7.386915e-01\n",
      "C(mode)                     0.095561    1.0    0.014192  9.052048e-01\n",
      "C(label)                    2.480939    1.0    0.368463  5.440402e-01\n",
      "C(AOI)                   3392.106984    4.0  125.946805  5.762745e-81\n",
      "C(mode):C(label)            0.003842    1.0    0.000571  9.809498e-01\n",
      "C(mode):C(AOI)           1197.868912    4.0   44.476122  2.720559e-33\n",
      "C(label):C(AOI)           467.112575    4.0   17.343597  1.408599e-13\n",
      "C(mode):C(label):C(AOI)   270.317684    4.0   10.036726  6.664011e-08\n",
      "Residual                 4713.249547  700.0         NaN           NaN\n",
      "     Multiple Comparison of Means - Tukey HSD, FWER=0.05      \n",
      "==============================================================\n",
      "  group1     group2   meandiff p-adj   lower    upper   reject\n",
      "--------------------------------------------------------------\n",
      "0_0_nbAOI1 0_0_nbAOI2  12.3829  0.001  10.2069  14.5589   True\n",
      "0_0_nbAOI1 0_0_nbAOI3   8.5979  0.001   6.4219  10.7739   True\n",
      "0_0_nbAOI1 0_0_nbAOI4   6.2206  0.001   4.0446   8.3966   True\n",
      "0_0_nbAOI1 0_0_nbAOI5   2.7309 0.0016   0.5549   4.9069   True\n",
      "0_0_nbAOI1 0_1_nbAOI1   0.3713    0.9  -1.8047   2.5472  False\n",
      "0_0_nbAOI1 0_1_nbAOI2  11.5057  0.001   9.3297  13.6817   True\n",
      "0_0_nbAOI1 0_1_nbAOI3  14.2422  0.001  12.0662  16.4182   True\n",
      "0_0_nbAOI1 0_1_nbAOI4   6.3071  0.001   4.1312   8.4831   True\n",
      "0_0_nbAOI1 0_1_nbAOI5   3.9788  0.001   1.8028   6.1548   True\n",
      "0_0_nbAOI1 1_0_nbAOI1   0.0729    0.9  -2.1031   2.2488  False\n",
      "0_0_nbAOI1 1_0_nbAOI2   18.463  0.001   16.287  20.6389   True\n",
      "0_0_nbAOI1 1_0_nbAOI3   3.6173  0.001   1.4413   5.7933   True\n",
      "0_0_nbAOI1 1_0_nbAOI4   3.9715  0.001   1.7955   6.1475   True\n",
      "0_0_nbAOI1 1_0_nbAOI5   2.4909  0.008   0.3149   4.6669   True\n",
      "0_0_nbAOI1 1_1_nbAOI1   0.4648    0.9  -1.7112   2.6407  False\n",
      "0_0_nbAOI1 1_1_nbAOI2  20.8697  0.001  18.6937  23.0457   True\n",
      "0_0_nbAOI1 1_1_nbAOI3   4.8422  0.001   2.6663   7.0182   True\n",
      "0_0_nbAOI1 1_1_nbAOI4    3.615  0.001    1.439   5.7909   True\n",
      "0_0_nbAOI1 1_1_nbAOI5   3.7529  0.001    1.577   5.9289   True\n",
      "0_0_nbAOI2 0_0_nbAOI3   -3.785  0.001   -5.961   -1.609   True\n",
      "0_0_nbAOI2 0_0_nbAOI4  -6.1623  0.001  -8.3383  -3.9863   True\n",
      "0_0_nbAOI2 0_0_nbAOI5   -9.652  0.001  -11.828   -7.476   True\n",
      "0_0_nbAOI2 0_1_nbAOI1 -12.0116  0.001 -14.1876  -9.8357   True\n",
      "0_0_nbAOI2 0_1_nbAOI2  -0.8772    0.9  -3.0532   1.2988  False\n",
      "0_0_nbAOI2 0_1_nbAOI3   1.8593 0.2139  -0.3167   4.0353  False\n",
      "0_0_nbAOI2 0_1_nbAOI4  -6.0758  0.001  -8.2517  -3.8998   True\n",
      "0_0_nbAOI2 0_1_nbAOI5  -8.4041  0.001 -10.5801  -6.2281   True\n",
      "0_0_nbAOI2 1_0_nbAOI1   -12.31  0.001  -14.486 -10.1341   True\n",
      "0_0_nbAOI2 1_0_nbAOI2   6.0801  0.001   3.9041    8.256   True\n",
      "0_0_nbAOI2 1_0_nbAOI3  -8.7656  0.001 -10.9415  -6.5896   True\n",
      "0_0_nbAOI2 1_0_nbAOI4  -8.4114  0.001 -10.5874  -6.2354   True\n",
      "0_0_nbAOI2 1_0_nbAOI5   -9.892  0.001 -12.0679   -7.716   True\n",
      "0_0_nbAOI2 1_1_nbAOI1 -11.9181  0.001 -14.0941  -9.7421   True\n",
      "0_0_nbAOI2 1_1_nbAOI2   8.4868  0.001   6.3108  10.6628   True\n",
      "0_0_nbAOI2 1_1_nbAOI3  -7.5406  0.001  -9.7166  -5.3647   True\n",
      "0_0_nbAOI2 1_1_nbAOI4  -8.7679  0.001 -10.9439   -6.592   True\n",
      "0_0_nbAOI2 1_1_nbAOI5    -8.63  0.001 -10.8059   -6.454   True\n",
      "0_0_nbAOI3 0_0_nbAOI4  -2.3773 0.0161  -4.5533  -0.2013   True\n",
      "0_0_nbAOI3 0_0_nbAOI5   -5.867  0.001   -8.043   -3.691   True\n",
      "0_0_nbAOI3 0_1_nbAOI1  -8.2267  0.001 -10.4026  -6.0507   True\n",
      "0_0_nbAOI3 0_1_nbAOI2   2.9078  0.001   0.7318   5.0837   True\n",
      "0_0_nbAOI3 0_1_nbAOI3   5.6443  0.001   3.4683   7.8203   True\n",
      "0_0_nbAOI3 0_1_nbAOI4  -2.2908 0.0267  -4.4668  -0.1148   True\n",
      "0_0_nbAOI3 0_1_nbAOI5  -4.6191  0.001  -6.7951  -2.4431   True\n",
      "0_0_nbAOI3 1_0_nbAOI1   -8.525  0.001  -10.701  -6.3491   True\n",
      "0_0_nbAOI3 1_0_nbAOI2   9.8651  0.001   7.6891   12.041   True\n",
      "0_0_nbAOI3 1_0_nbAOI3  -4.9806  0.001  -7.1566  -2.8046   True\n",
      "0_0_nbAOI3 1_0_nbAOI4  -4.6264  0.001  -6.8024  -2.4505   True\n",
      "0_0_nbAOI3 1_0_nbAOI5   -6.107  0.001   -8.283   -3.931   True\n",
      "0_0_nbAOI3 1_1_nbAOI1  -8.1331  0.001 -10.3091  -5.9572   True\n",
      "0_0_nbAOI3 1_1_nbAOI2  12.2718  0.001  10.0958  14.4478   True\n",
      "0_0_nbAOI3 1_1_nbAOI3  -3.7557  0.001  -5.9316  -1.5797   True\n",
      "0_0_nbAOI3 1_1_nbAOI4   -4.983  0.001  -7.1589   -2.807   True\n",
      "0_0_nbAOI3 1_1_nbAOI5   -4.845  0.001   -7.021   -2.669   True\n",
      "0_0_nbAOI4 0_0_nbAOI5  -3.4897  0.001  -5.6657  -1.3137   True\n",
      "0_0_nbAOI4 0_1_nbAOI1  -5.8494  0.001  -8.0253  -3.6734   True\n",
      "0_0_nbAOI4 0_1_nbAOI2   5.2851  0.001   3.1091    7.461   True\n",
      "0_0_nbAOI4 0_1_nbAOI3   8.0216  0.001   5.8456  10.1976   True\n",
      "0_0_nbAOI4 0_1_nbAOI4   0.0865    0.9  -2.0895   2.2625  False\n",
      "0_0_nbAOI4 0_1_nbAOI5  -2.2418 0.0352  -4.4178  -0.0658   True\n",
      "0_0_nbAOI4 1_0_nbAOI1  -6.1477  0.001  -8.3237  -3.9718   True\n",
      "0_0_nbAOI4 1_0_nbAOI2  12.2424  0.001  10.0664  14.4183   True\n",
      "0_0_nbAOI4 1_0_nbAOI3  -2.6033 0.0038  -4.7793  -0.4273   True\n",
      "0_0_nbAOI4 1_0_nbAOI4  -2.2491 0.0338  -4.4251  -0.0731   True\n",
      "0_0_nbAOI4 1_0_nbAOI5  -3.7297  0.001  -5.9057  -1.5537   True\n",
      "0_0_nbAOI4 1_1_nbAOI1  -5.7558  0.001  -7.9318  -3.5799   True\n",
      "0_0_nbAOI4 1_1_nbAOI2  14.6491  0.001  12.4731  16.8251   True\n",
      "0_0_nbAOI4 1_1_nbAOI3  -1.3784 0.7326  -3.5543   0.7976  False\n",
      "0_0_nbAOI4 1_1_nbAOI4  -2.6057 0.0037  -4.7816  -0.4297   True\n",
      "0_0_nbAOI4 1_1_nbAOI5  -2.4677 0.0092  -4.6437  -0.2917   True\n",
      "0_0_nbAOI5 0_1_nbAOI1  -2.3596 0.0179  -4.5356  -0.1837   True\n",
      "0_0_nbAOI5 0_1_nbAOI2   8.7748  0.001   6.5988  10.9508   True\n",
      "0_0_nbAOI5 0_1_nbAOI3  11.5113  0.001   9.3353  13.6873   True\n",
      "0_0_nbAOI5 0_1_nbAOI4   3.5762  0.001   1.4003   5.7522   True\n",
      "0_0_nbAOI5 0_1_nbAOI5   1.2479 0.8724  -0.9281   3.4239  False\n",
      "0_0_nbAOI5 1_0_nbAOI1   -2.658 0.0026   -4.834  -0.4821   True\n",
      "0_0_nbAOI5 1_0_nbAOI2  15.7321  0.001  13.5561   17.908   True\n",
      "0_0_nbAOI5 1_0_nbAOI3   0.8864    0.9  -1.2896   3.0624  False\n",
      "0_0_nbAOI5 1_0_nbAOI4   1.2406 0.8802  -0.9354   3.4166  False\n",
      "0_0_nbAOI5 1_0_nbAOI5    -0.24    0.9   -2.416    1.936  False\n",
      "0_0_nbAOI5 1_1_nbAOI1  -2.2661 0.0307  -4.4421  -0.0902   True\n",
      "0_0_nbAOI5 1_1_nbAOI2  18.1388  0.001  15.9628  20.3148   True\n",
      "0_0_nbAOI5 1_1_nbAOI3   2.1113 0.0701  -0.0646   4.2873  False\n",
      "0_0_nbAOI5 1_1_nbAOI4   0.8841    0.9  -1.2919     3.06  False\n",
      "0_0_nbAOI5 1_1_nbAOI5    1.022    0.9  -1.1539    3.198  False\n",
      "0_1_nbAOI1 0_1_nbAOI2  11.1344  0.001   8.9585  13.3104   True\n",
      "0_1_nbAOI1 0_1_nbAOI3  13.8709  0.001   11.695  16.0469   True\n",
      "0_1_nbAOI1 0_1_nbAOI4   5.9359  0.001   3.7599   8.1118   True\n",
      "0_1_nbAOI1 0_1_nbAOI5   3.6075  0.001   1.4316   5.7835   True\n",
      "0_1_nbAOI1 1_0_nbAOI1  -0.2984    0.9  -2.4744   1.8776  False\n",
      "0_1_nbAOI1 1_0_nbAOI2  18.0917  0.001  15.9157  20.2677   True\n",
      "0_1_nbAOI1 1_0_nbAOI3   3.2461  0.001   1.0701    5.422   True\n",
      "0_1_nbAOI1 1_0_nbAOI4   3.6002  0.001   1.4243   5.7762   True\n",
      "0_1_nbAOI1 1_0_nbAOI5   2.1197 0.0672  -0.0563   4.2956  False\n",
      "0_1_nbAOI1 1_1_nbAOI1   0.0935    0.9  -2.0824   2.2695  False\n",
      "0_1_nbAOI1 1_1_nbAOI2  20.4984  0.001  18.3225  22.6744   True\n",
      "0_1_nbAOI1 1_1_nbAOI3    4.471  0.001    2.295    6.647   True\n",
      "0_1_nbAOI1 1_1_nbAOI4   3.2437  0.001   1.0677   5.4197   True\n",
      "0_1_nbAOI1 1_1_nbAOI5   3.3817  0.001   1.2057   5.5576   True\n",
      "0_1_nbAOI2 0_1_nbAOI3   2.7365 0.0015   0.5605   4.9125   True\n",
      "0_1_nbAOI2 0_1_nbAOI4  -5.1986  0.001  -7.3745  -3.0226   True\n",
      "0_1_nbAOI2 0_1_nbAOI5  -7.5269  0.001  -9.7029  -5.3509   True\n",
      "0_1_nbAOI2 1_0_nbAOI1 -11.4328  0.001 -13.6088  -9.2569   True\n",
      "0_1_nbAOI2 1_0_nbAOI2   6.9573  0.001   4.7813   9.1333   True\n",
      "0_1_nbAOI2 1_0_nbAOI3  -7.8884  0.001 -10.0643  -5.7124   True\n",
      "0_1_nbAOI2 1_0_nbAOI4  -7.5342  0.001  -9.7102  -5.3582   True\n",
      "0_1_nbAOI2 1_0_nbAOI5  -9.0148  0.001 -11.1907  -6.8388   True\n",
      "0_1_nbAOI2 1_1_nbAOI1 -11.0409  0.001 -13.2169  -8.8649   True\n",
      "0_1_nbAOI2 1_1_nbAOI2    9.364  0.001    7.188    11.54   True\n",
      "0_1_nbAOI2 1_1_nbAOI3  -6.6634  0.001  -8.8394  -4.4875   True\n",
      "0_1_nbAOI2 1_1_nbAOI4  -7.8907  0.001 -10.0667  -5.7148   True\n",
      "0_1_nbAOI2 1_1_nbAOI5  -7.7528  0.001  -9.9287  -5.5768   True\n",
      "0_1_nbAOI3 0_1_nbAOI4  -7.9351  0.001  -10.111  -5.7591   True\n",
      "0_1_nbAOI3 0_1_nbAOI5 -10.2634  0.001 -12.4394  -8.0874   True\n",
      "0_1_nbAOI3 1_0_nbAOI1 -14.1693  0.001 -16.3453 -11.9934   True\n",
      "0_1_nbAOI3 1_0_nbAOI2   4.2208  0.001   2.0448   6.3967   True\n",
      "0_1_nbAOI3 1_0_nbAOI3 -10.6249  0.001 -12.8008  -8.4489   True\n",
      "0_1_nbAOI3 1_0_nbAOI4 -10.2707  0.001 -12.4467  -8.0947   True\n",
      "0_1_nbAOI3 1_0_nbAOI5 -11.7513  0.001 -13.9272  -9.5753   True\n",
      "0_1_nbAOI3 1_1_nbAOI1 -13.7774  0.001 -15.9534 -11.6014   True\n",
      "0_1_nbAOI3 1_1_nbAOI2   6.6275  0.001   4.4515   8.8035   True\n",
      "0_1_nbAOI3 1_1_nbAOI3  -9.3999  0.001 -11.5759   -7.224   True\n",
      "0_1_nbAOI3 1_1_nbAOI4 -10.6272  0.001 -12.8032  -8.4513   True\n",
      "0_1_nbAOI3 1_1_nbAOI5 -10.4893  0.001 -12.6652  -8.3133   True\n",
      "0_1_nbAOI4 0_1_nbAOI5  -2.3283 0.0215  -4.5043  -0.1524   True\n",
      "0_1_nbAOI4 1_0_nbAOI1  -6.2343  0.001  -8.4102  -4.0583   True\n",
      "0_1_nbAOI4 1_0_nbAOI2  12.1558  0.001   9.9799  14.3318   True\n",
      "0_1_nbAOI4 1_0_nbAOI3  -2.6898 0.0021  -4.8658  -0.5138   True\n",
      "0_1_nbAOI4 1_0_nbAOI4  -2.3356 0.0206  -4.5116  -0.1597   True\n",
      "0_1_nbAOI4 1_0_nbAOI5  -3.8162  0.001  -5.9922  -1.6402   True\n",
      "0_1_nbAOI4 1_1_nbAOI1  -5.8424  0.001  -8.0183  -3.6664   True\n",
      "0_1_nbAOI4 1_1_nbAOI2  14.5626  0.001  12.3866  16.7385   True\n",
      "0_1_nbAOI4 1_1_nbAOI3  -1.4649 0.6398  -3.6409   0.7111  False\n",
      "0_1_nbAOI4 1_1_nbAOI4  -2.6922 0.0021  -4.8681  -0.5162   True\n",
      "0_1_nbAOI4 1_1_nbAOI5  -2.5542 0.0053  -4.7302  -0.3782   True\n",
      "0_1_nbAOI5 1_0_nbAOI1  -3.9059  0.001  -6.0819    -1.73   True\n",
      "0_1_nbAOI5 1_0_nbAOI2  14.4842  0.001  12.3082  16.6601   True\n",
      "0_1_nbAOI5 1_0_nbAOI3  -0.3615    0.9  -2.5374   1.8145  False\n",
      "0_1_nbAOI5 1_0_nbAOI4  -0.0073    0.9  -2.1833   2.1687  False\n",
      "0_1_nbAOI5 1_0_nbAOI5  -1.4879 0.6152  -3.6638   0.6881  False\n",
      "0_1_nbAOI5 1_1_nbAOI1   -3.514  0.001    -5.69   -1.338   True\n",
      "0_1_nbAOI5 1_1_nbAOI2  16.8909  0.001  14.7149  19.0669   True\n",
      "0_1_nbAOI5 1_1_nbAOI3   0.8635    0.9  -1.3125   3.0394  False\n",
      "0_1_nbAOI5 1_1_nbAOI4  -0.3638    0.9  -2.5398   1.8121  False\n",
      "0_1_nbAOI5 1_1_nbAOI5  -0.2259    0.9  -2.4018   1.9501  False\n",
      "1_0_nbAOI1 1_0_nbAOI2  18.3901  0.001  16.2141  20.5661   True\n",
      "1_0_nbAOI1 1_0_nbAOI3   3.5445  0.001   1.3685   5.7204   True\n",
      "1_0_nbAOI1 1_0_nbAOI4   3.8986  0.001   1.7227   6.0746   True\n",
      "1_0_nbAOI1 1_0_nbAOI5   2.4181 0.0126   0.2421    4.594   True\n",
      "1_0_nbAOI1 1_1_nbAOI1   0.3919    0.9  -1.7841   2.5679  False\n",
      "1_0_nbAOI1 1_1_nbAOI2  20.7968  0.001  18.6209  22.9728   True\n",
      "1_0_nbAOI1 1_1_nbAOI3   4.7694  0.001   2.5934   6.9454   True\n",
      "1_0_nbAOI1 1_1_nbAOI4   3.5421  0.001   1.3661   5.7181   True\n",
      "1_0_nbAOI1 1_1_nbAOI5   3.6801  0.001   1.5041    5.856   True\n",
      "1_0_nbAOI2 1_0_nbAOI3 -14.8456  0.001 -17.0216 -12.6697   True\n",
      "1_0_nbAOI2 1_0_nbAOI4 -14.4915  0.001 -16.6675 -12.3155   True\n",
      "1_0_nbAOI2 1_0_nbAOI5  -15.972  0.001  -18.148 -13.7961   True\n",
      "1_0_nbAOI2 1_1_nbAOI1 -17.9982  0.001 -20.1742 -15.8222   True\n",
      "1_0_nbAOI2 1_1_nbAOI2   2.4067 0.0135   0.2308   4.5827   True\n",
      "1_0_nbAOI2 1_1_nbAOI3 -13.6207  0.001 -15.7967 -11.4447   True\n",
      "1_0_nbAOI2 1_1_nbAOI4  -14.848  0.001  -17.024  -12.672   True\n",
      "1_0_nbAOI2 1_1_nbAOI5   -14.71  0.001  -16.886 -12.5341   True\n",
      "1_0_nbAOI3 1_0_nbAOI4   0.3542    0.9  -1.8218   2.5301  False\n",
      "1_0_nbAOI3 1_0_nbAOI5  -1.1264    0.9  -3.3024   1.0496  False\n",
      "1_0_nbAOI3 1_1_nbAOI1  -3.1525  0.001  -5.3285  -0.9766   True\n",
      "1_0_nbAOI3 1_1_nbAOI2  17.2524  0.001  15.0764  19.4284   True\n",
      "1_0_nbAOI3 1_1_nbAOI3   1.2249  0.897   -0.951   3.4009  False\n",
      "1_0_nbAOI3 1_1_nbAOI4  -0.0024    0.9  -2.1783   2.1736  False\n",
      "1_0_nbAOI3 1_1_nbAOI5   0.1356    0.9  -2.0404   2.3116  False\n",
      "1_0_nbAOI4 1_0_nbAOI5  -1.4806  0.623  -3.6565   0.6954  False\n",
      "1_0_nbAOI4 1_1_nbAOI1  -3.5067  0.001  -5.6827  -1.3307   True\n",
      "1_0_nbAOI4 1_1_nbAOI2  16.8982  0.001  14.7222  19.0742   True\n",
      "1_0_nbAOI4 1_1_nbAOI3   0.8708    0.9  -1.3052   3.0467  False\n",
      "1_0_nbAOI4 1_1_nbAOI4  -0.3565    0.9  -2.5325   1.8194  False\n",
      "1_0_nbAOI4 1_1_nbAOI5  -0.2186    0.9  -2.3945   1.9574  False\n",
      "1_0_nbAOI5 1_1_nbAOI1  -2.0261 0.1051  -4.2021   0.1498  False\n",
      "1_0_nbAOI5 1_1_nbAOI2  18.3788  0.001  16.2028  20.5548   True\n",
      "1_0_nbAOI5 1_1_nbAOI3   2.3513 0.0188   0.1754   4.5273   True\n",
      "1_0_nbAOI5 1_1_nbAOI4    1.124    0.9  -1.0519      3.3  False\n",
      "1_0_nbAOI5 1_1_nbAOI5    1.262 0.8573   -0.914    3.438  False\n",
      "1_1_nbAOI1 1_1_nbAOI2  20.4049  0.001   18.229  22.5809   True\n",
      "1_1_nbAOI1 1_1_nbAOI3   4.3775  0.001   2.2015   6.5534   True\n",
      "1_1_nbAOI1 1_1_nbAOI4   3.1502  0.001   0.9742   5.3262   True\n",
      "1_1_nbAOI1 1_1_nbAOI5   3.2882  0.001   1.1122   5.4641   True\n",
      "1_1_nbAOI2 1_1_nbAOI3 -16.0275  0.001 -18.2034 -13.8515   True\n",
      "1_1_nbAOI2 1_1_nbAOI4 -17.2547  0.001 -19.4307 -15.0788   True\n",
      "1_1_nbAOI2 1_1_nbAOI5 -17.1168  0.001 -19.2927 -14.9408   True\n",
      "1_1_nbAOI3 1_1_nbAOI4  -1.2273 0.8945  -3.4033   0.9487  False\n",
      "1_1_nbAOI3 1_1_nbAOI5  -1.0893    0.9  -3.2653   1.0867  False\n",
      "1_1_nbAOI4 1_1_nbAOI5    0.138    0.9   -2.038   2.3139  False\n",
      "--------------------------------------------------------------\n"
     ]
    },
    {
     "data": {
      "image/png": "[encoded data removed]",
      "text/plain": [
       "<Figure size 432x288 with 1 Axes>"
      ]
     },
     "metadata": {
      "needs_background": "light"
     },
     "output_type": "display_data"
    },
    {
     "name": "stdout",
     "output_type": "stream",
     "text": [
      "                 Anova\n",
      "========================================\n",
      "         F Value  Num DF  Den DF  Pr > F\n",
      "----------------------------------------\n",
      "AOI      614.6561 4.0000 284.0000 0.0000\n",
      "mode       0.0538 1.0000  71.0000 0.8172\n",
      "AOI:mode 310.0612 4.0000 284.0000 0.0000\n",
      "========================================\n",
      "\n",
      "#####################################################################\n",
      "3-WAY ANOVA H1: durFix is impacted by the AOI, the operation mode and the performance (label)\n",
      "                               sum_sq     df           F         PR(>F)\n",
      "Intercept                2.183388e+04    1.0    0.061067   8.048903e-01\n",
      "C(mode)                  4.191383e+03    1.0    0.011723   9.138111e-01\n",
      "C(label)                 9.370909e+04    1.0    0.262093   6.088475e-01\n",
      "C(AOI)                   3.062833e+08    4.0  214.159174  6.392899e-120\n",
      "C(mode):C(label)         5.507587e+02    1.0    0.001540   9.687039e-01\n",
      "C(mode):C(AOI)           1.110887e+08    4.0   77.675348   1.592641e-54\n",
      "C(label):C(AOI)          3.343879e+07    4.0   23.381042   3.665160e-18\n",
      "C(mode):C(label):C(AOI)  1.065688e+07    4.0    7.451495   7.018569e-06\n",
      "Residual                 2.502792e+08  700.0         NaN            NaN\n",
      "         Multiple Comparison of Means - Tukey HSD, FWER=0.05          \n",
      "======================================================================\n",
      "   group1      group2    meandiff  p-adj    lower      upper    reject\n",
      "----------------------------------------------------------------------\n",
      "0_0_durAOI1 0_0_durAOI2  3688.9829  0.001  3187.5585  4190.4073   True\n",
      "0_0_durAOI1 0_0_durAOI3  2219.9967  0.001  1718.5723  2721.4211   True\n",
      "0_0_durAOI1 0_0_durAOI4  1525.6784  0.001   1024.254  2027.1028   True\n",
      "0_0_durAOI1 0_0_durAOI5   506.9389 0.0441     5.5145  1008.3633   True\n",
      "0_0_durAOI1 0_1_durAOI1     72.153    0.9  -429.2714   573.5775  False\n",
      "0_0_durAOI1 0_1_durAOI2  2777.0518  0.001  2275.6274  3278.4762   True\n",
      "0_0_durAOI1 0_1_durAOI3  3159.4746  0.001  2658.0502   3660.899   True\n",
      "0_0_durAOI1 0_1_durAOI4   1207.984  0.001   706.5596  1709.4084   True\n",
      "0_0_durAOI1 0_1_durAOI5   700.4776  0.001   199.0531   1201.902   True\n",
      "0_0_durAOI1 1_0_durAOI1    15.2596    0.9  -486.1648    516.684  False\n",
      "0_0_durAOI1 1_0_durAOI2  5671.8882  0.001  5170.4638  6173.3126   True\n",
      "0_0_durAOI1 1_0_durAOI3   843.4963  0.001   342.0719  1344.9207   True\n",
      "0_0_durAOI1 1_0_durAOI4   941.5299  0.001   440.1055  1442.9544   True\n",
      "0_0_durAOI1 1_0_durAOI5   447.2482 0.1535   -54.1763   948.6726  False\n",
      "0_0_durAOI1 1_1_durAOI1    95.2354    0.9  -406.1891   596.6598  False\n",
      "0_0_durAOI1 1_1_durAOI2  5515.2588  0.001  5013.8344  6016.6833   True\n",
      "0_0_durAOI1 1_1_durAOI3  1000.2063  0.001   498.7819  1501.6307   True\n",
      "0_0_durAOI1 1_1_durAOI4   652.0643  0.001   150.6399  1153.4887   True\n",
      "0_0_durAOI1 1_1_durAOI5   650.9859  0.001   149.5615  1152.4103   True\n",
      "0_0_durAOI2 0_0_durAOI3 -1468.9862  0.001 -1970.4106  -967.5618   True\n",
      "0_0_durAOI2 0_0_durAOI4 -2163.3045  0.001 -2664.7289 -1661.8801   True\n",
      "0_0_durAOI2 0_0_durAOI5  -3182.044  0.001 -3683.4684 -2680.6196   True\n",
      "0_0_durAOI2 0_1_durAOI1 -3616.8298  0.001 -4118.2543 -3115.4054   True\n",
      "0_0_durAOI2 0_1_durAOI2   -911.931  0.001 -1413.3555  -410.5066   True\n",
      "0_0_durAOI2 0_1_durAOI3  -529.5083 0.0256 -1030.9327   -28.0839   True\n",
      "0_0_durAOI2 0_1_durAOI4 -2480.9989  0.001 -2982.4233 -1979.5745   True\n",
      "0_0_durAOI2 0_1_durAOI5 -2988.5053  0.001 -3489.9297 -2487.0809   True\n",
      "0_0_durAOI2 1_0_durAOI1 -3673.7233  0.001 -4175.1477 -3172.2989   True\n",
      "0_0_durAOI2 1_0_durAOI2  1982.9053  0.001  1481.4809  2484.3298   True\n",
      "0_0_durAOI2 1_0_durAOI3 -2845.4866  0.001  -3346.911 -2344.0622   True\n",
      "0_0_durAOI2 1_0_durAOI4 -2747.4529  0.001 -3248.8773 -2246.0285   True\n",
      "0_0_durAOI2 1_0_durAOI5 -3241.7347  0.001 -3743.1591 -2740.3103   True\n",
      "0_0_durAOI2 1_1_durAOI1 -3593.7475  0.001 -4095.1719 -3092.3231   True\n",
      "0_0_durAOI2 1_1_durAOI2   1826.276  0.001  1324.8516  2327.7004   True\n",
      "0_0_durAOI2 1_1_durAOI3 -2688.7766  0.001  -3190.201 -2187.3522   True\n",
      "0_0_durAOI2 1_1_durAOI4 -3036.9186  0.001  -3538.343 -2535.4941   True\n",
      "0_0_durAOI2 1_1_durAOI5  -3037.997  0.001 -3539.4214 -2536.5726   True\n",
      "0_0_durAOI3 0_0_durAOI4  -694.3183  0.001 -1195.7427  -192.8939   True\n",
      "0_0_durAOI3 0_0_durAOI5 -1713.0578  0.001 -2214.4822 -1211.6334   True\n",
      "0_0_durAOI3 0_1_durAOI1 -2147.8437  0.001 -2649.2681 -1646.4192   True\n",
      "0_0_durAOI3 0_1_durAOI2   557.0551 0.0126    55.6307  1058.4796   True\n",
      "0_0_durAOI3 0_1_durAOI3   939.4779  0.001   438.0535  1440.9023   True\n",
      "0_0_durAOI3 0_1_durAOI4 -1012.0127  0.001 -1513.4371  -510.5883   True\n",
      "0_0_durAOI3 0_1_durAOI5 -1519.5191  0.001 -2020.9436 -1018.0947   True\n",
      "0_0_durAOI3 1_0_durAOI1 -2204.7371  0.001 -2706.1615 -1703.3127   True\n",
      "0_0_durAOI3 1_0_durAOI2  3451.8915  0.001  2950.4671  3953.3159   True\n",
      "0_0_durAOI3 1_0_durAOI3 -1376.5004  0.001 -1877.9248   -875.076   True\n",
      "0_0_durAOI3 1_0_durAOI4 -1278.4668  0.001 -1779.8912  -777.0423   True\n",
      "0_0_durAOI3 1_0_durAOI5 -1772.7485  0.001  -2274.173 -1271.3241   True\n",
      "0_0_durAOI3 1_1_durAOI1 -2124.7613  0.001 -2626.1858 -1623.3369   True\n",
      "0_0_durAOI3 1_1_durAOI2  3295.2621  0.001  2793.8377  3796.6866   True\n",
      "0_0_durAOI3 1_1_durAOI3 -1219.7904  0.001 -1721.2148   -718.366   True\n",
      "0_0_durAOI3 1_1_durAOI4 -1567.9324  0.001 -2069.3568  -1066.508   True\n",
      "0_0_durAOI3 1_1_durAOI5 -1569.0108  0.001 -2070.4352 -1067.5864   True\n",
      "0_0_durAOI4 0_0_durAOI5 -1018.7395  0.001 -1520.1639  -517.3151   True\n",
      "0_0_durAOI4 0_1_durAOI1 -1453.5253  0.001 -1954.9498  -952.1009   True\n",
      "0_0_durAOI4 0_1_durAOI2  1251.3735  0.001    749.949  1752.7979   True\n",
      "0_0_durAOI4 0_1_durAOI3  1633.7962  0.001  1132.3718  2135.2206   True\n",
      "0_0_durAOI4 0_1_durAOI4  -317.6944 0.7323  -819.1188     183.73  False\n",
      "0_0_durAOI4 0_1_durAOI5  -825.2008  0.001 -1326.6252  -323.7764   True\n",
      "0_0_durAOI4 1_0_durAOI1 -1510.4188  0.001 -2011.8432 -1008.9944   True\n",
      "0_0_durAOI4 1_0_durAOI2  4146.2098  0.001  3644.7854  4647.6342   True\n",
      "0_0_durAOI4 1_0_durAOI3  -682.1821  0.001 -1183.6065  -180.7577   True\n",
      "0_0_durAOI4 1_0_durAOI4  -584.1484  0.006 -1085.5729    -82.724   True\n",
      "0_0_durAOI4 1_0_durAOI5 -1078.4302  0.001 -1579.8546  -577.0058   True\n",
      "0_0_durAOI4 1_1_durAOI1  -1430.443  0.001 -1931.8674  -929.0186   True\n",
      "0_0_durAOI4 1_1_durAOI2  3989.5805  0.001   3488.156  4491.0049   True\n",
      "0_0_durAOI4 1_1_durAOI3  -525.4721 0.0283 -1026.8965   -24.0477   True\n",
      "0_0_durAOI4 1_1_durAOI4  -873.6141  0.001 -1375.0385  -372.1897   True\n",
      "0_0_durAOI4 1_1_durAOI5  -874.6925  0.001 -1376.1169  -373.2681   True\n",
      "0_0_durAOI5 0_1_durAOI1  -434.7859 0.1917  -936.2103    66.6386  False\n",
      "0_0_durAOI5 0_1_durAOI2  2270.1129  0.001  1768.6885  2771.5374   True\n",
      "0_0_durAOI5 0_1_durAOI3  2652.5357  0.001  2151.1113  3153.9601   True\n",
      "0_0_durAOI5 0_1_durAOI4   701.0451  0.001   199.6207  1202.4695   True\n",
      "0_0_durAOI5 0_1_durAOI5   193.5387    0.9  -307.8858   694.9631  False\n",
      "0_0_durAOI5 1_0_durAOI1  -491.6793 0.0625  -993.1037     9.7451  False\n",
      "0_0_durAOI5 1_0_durAOI2  5164.9493  0.001  4663.5249  5666.3737   True\n",
      "0_0_durAOI5 1_0_durAOI3   336.5574 0.6445   -164.867   837.9818  False\n",
      "0_0_durAOI5 1_0_durAOI4   434.5911 0.1923   -66.8334   936.0155  False\n",
      "0_0_durAOI5 1_0_durAOI5   -59.6907    0.9  -561.1151   441.7337  False\n",
      "0_0_durAOI5 1_1_durAOI1  -411.7035 0.2802  -913.1279    89.7209  False\n",
      "0_0_durAOI5 1_1_durAOI2    5008.32  0.001  4506.8955  5509.7444   True\n",
      "0_0_durAOI5 1_1_durAOI3   493.2674 0.0603     -8.157   994.6918  False\n",
      "0_0_durAOI5 1_1_durAOI4   145.1254    0.9   -356.299   646.5498  False\n",
      "0_0_durAOI5 1_1_durAOI5    144.047    0.9  -357.3774   645.4714  False\n",
      "0_1_durAOI1 0_1_durAOI2  2704.8988  0.001  2203.4744  3206.3232   True\n",
      "0_1_durAOI1 0_1_durAOI3  3087.3215  0.001  2585.8971   3588.746   True\n",
      "0_1_durAOI1 0_1_durAOI4  1135.8309  0.001   634.4065  1637.2554   True\n",
      "0_1_durAOI1 0_1_durAOI5   628.3245 0.0016   126.9001  1129.7489   True\n",
      "0_1_durAOI1 1_0_durAOI1   -56.8935    0.9  -558.3179    444.531  False\n",
      "0_1_durAOI1 1_0_durAOI2  5599.7352  0.001  5098.3108  6101.1596   True\n",
      "0_1_durAOI1 1_0_durAOI3   771.3433  0.001   269.9188  1272.7677   True\n",
      "0_1_durAOI1 1_0_durAOI4   869.3769  0.001   367.9525  1370.8013   True\n",
      "0_1_durAOI1 1_0_durAOI5   375.0951 0.4636  -126.3293   876.5195  False\n",
      "0_1_durAOI1 1_1_durAOI1    23.0823    0.9  -478.3421   524.5067  False\n",
      "0_1_durAOI1 1_1_durAOI2  5443.1058  0.001  4941.6814  5944.5302   True\n",
      "0_1_durAOI1 1_1_durAOI3   928.0533  0.001   426.6288  1429.4777   True\n",
      "0_1_durAOI1 1_1_durAOI4   579.9113 0.0068    78.4868  1081.3357   True\n",
      "0_1_durAOI1 1_1_durAOI5   578.8329  0.007    77.4084  1080.2573   True\n",
      "0_1_durAOI2 0_1_durAOI3   382.4227 0.4254  -119.0017   883.8472  False\n",
      "0_1_durAOI2 0_1_durAOI4 -1569.0679  0.001 -2070.4923 -1067.6434   True\n",
      "0_1_durAOI2 0_1_durAOI5 -2076.5743  0.001 -2577.9987 -1575.1499   True\n",
      "0_1_durAOI2 1_0_durAOI1 -2761.7923  0.001 -3263.2167 -2260.3678   True\n",
      "0_1_durAOI2 1_0_durAOI2  2894.8364  0.001   2393.412  3396.2608   True\n",
      "0_1_durAOI2 1_0_durAOI3 -1933.5555  0.001   -2434.98 -1432.1311   True\n",
      "0_1_durAOI2 1_0_durAOI4 -1835.5219  0.001 -2336.9463 -1334.0975   True\n",
      "0_1_durAOI2 1_0_durAOI5 -2329.8037  0.001 -2831.2281 -1828.3793   True\n",
      "0_1_durAOI2 1_1_durAOI1 -2681.8165  0.001 -3183.2409 -2180.3921   True\n",
      "0_1_durAOI2 1_1_durAOI2   2738.207  0.001  2236.7826  3239.6314   True\n",
      "0_1_durAOI2 1_1_durAOI3 -1776.8455  0.001   -2278.27 -1275.4211   True\n",
      "0_1_durAOI2 1_1_durAOI4 -2124.9875  0.001 -2626.4119 -1623.5631   True\n",
      "0_1_durAOI2 1_1_durAOI5 -2126.0659  0.001 -2627.4904 -1624.6415   True\n",
      "0_1_durAOI3 0_1_durAOI4 -1951.4906  0.001  -2452.915 -1450.0662   True\n",
      "0_1_durAOI3 0_1_durAOI5  -2458.997  0.001 -2960.4214 -1957.5726   True\n",
      "0_1_durAOI3 1_0_durAOI1  -3144.215  0.001 -3645.6394 -2642.7906   True\n",
      "0_1_durAOI3 1_0_durAOI2  2512.4136  0.001  2010.9892  3013.8381   True\n",
      "0_1_durAOI3 1_0_durAOI3 -2315.9783  0.001 -2817.4027 -1814.5539   True\n",
      "0_1_durAOI3 1_0_durAOI4 -2217.9446  0.001 -2719.3691 -1716.5202   True\n",
      "0_1_durAOI3 1_0_durAOI5 -2712.2264  0.001 -3213.6508  -2210.802   True\n",
      "0_1_durAOI3 1_1_durAOI1 -3064.2392  0.001 -3565.6636 -2562.8148   True\n",
      "0_1_durAOI3 1_1_durAOI2  2355.7843  0.001  1854.3599  2857.2087   True\n",
      "0_1_durAOI3 1_1_durAOI3 -2159.2683  0.001 -2660.6927 -1657.8439   True\n",
      "0_1_durAOI3 1_1_durAOI4 -2507.4103  0.001 -3008.8347 -2005.9859   True\n",
      "0_1_durAOI3 1_1_durAOI5 -2508.4887  0.001 -3009.9131 -2007.0643   True\n",
      "0_1_durAOI4 0_1_durAOI5  -507.5064 0.0436 -1008.9308     -6.082   True\n",
      "0_1_durAOI4 1_0_durAOI1 -1192.7244  0.001 -1694.1488     -691.3   True\n",
      "0_1_durAOI4 1_0_durAOI2  4463.9042  0.001  3962.4798  4965.3286   True\n",
      "0_1_durAOI4 1_0_durAOI3  -364.4877 0.5146  -865.9121   136.9367  False\n",
      "0_1_durAOI4 1_0_durAOI4   -266.454    0.9  -767.8785   234.9704  False\n",
      "0_1_durAOI4 1_0_durAOI5  -760.7358  0.001 -1262.1602  -259.3114   True\n",
      "0_1_durAOI4 1_1_durAOI1 -1112.7486  0.001  -1614.173  -611.3242   True\n",
      "0_1_durAOI4 1_1_durAOI2  4307.2749  0.001  3805.8504  4808.6993   True\n",
      "0_1_durAOI4 1_1_durAOI3  -207.7777    0.9  -709.2021   293.6467  False\n",
      "0_1_durAOI4 1_1_durAOI4  -555.9197  0.013 -1057.3441   -54.4953   True\n",
      "0_1_durAOI4 1_1_durAOI5  -556.9981 0.0126 -1058.4225   -55.5737   True\n",
      "0_1_durAOI5 1_0_durAOI1   -685.218  0.001 -1186.6424  -183.7936   True\n",
      "0_1_durAOI5 1_0_durAOI2  4971.4107  0.001  4469.9862  5472.8351   True\n",
      "0_1_durAOI5 1_0_durAOI3   143.0187    0.9  -358.4057   644.4432  False\n",
      "0_1_durAOI5 1_0_durAOI4   241.0524    0.9   -260.372   742.4768  False\n",
      "0_1_durAOI5 1_0_durAOI5  -253.2294    0.9  -754.6538    248.195  False\n",
      "0_1_durAOI5 1_1_durAOI1  -605.2422 0.0032 -1106.6666  -103.8178   True\n",
      "0_1_durAOI5 1_1_durAOI2  4814.7813  0.001  4313.3569  5316.2057   True\n",
      "0_1_durAOI5 1_1_durAOI3   299.7287 0.8158  -201.6957   801.1532  False\n",
      "0_1_durAOI5 1_1_durAOI4   -48.4133    0.9  -549.8377   453.0112  False\n",
      "0_1_durAOI5 1_1_durAOI5   -49.4917    0.9  -550.9161   451.9328  False\n",
      "1_0_durAOI1 1_0_durAOI2  5656.6286  0.001  5155.2042  6158.0531   True\n",
      "1_0_durAOI1 1_0_durAOI3   828.2367  0.001   326.8123  1329.6611   True\n",
      "1_0_durAOI1 1_0_durAOI4   926.2704  0.001   424.8459  1427.6948   True\n",
      "1_0_durAOI1 1_0_durAOI5   431.9886 0.2013   -69.4358    933.413  False\n",
      "1_0_durAOI1 1_1_durAOI1    79.9758    0.9  -421.4486   581.4002  False\n",
      "1_0_durAOI1 1_1_durAOI2  5499.9993  0.001  4998.5749  6001.4237   True\n",
      "1_0_durAOI1 1_1_durAOI3   984.9467  0.001   483.5223  1486.3711   True\n",
      "1_0_durAOI1 1_1_durAOI4   636.8047 0.0012   135.3803  1138.2291   True\n",
      "1_0_durAOI1 1_1_durAOI5   635.7263 0.0013   134.3019  1137.1507   True\n",
      "1_0_durAOI2 1_0_durAOI3 -4828.3919  0.001 -5329.8163 -4326.9675   True\n",
      "1_0_durAOI2 1_0_durAOI4 -4730.3583  0.001 -5231.7827 -4228.9339   True\n",
      "1_0_durAOI2 1_0_durAOI5 -5224.6401  0.001 -5726.0645 -4723.2156   True\n",
      "1_0_durAOI2 1_1_durAOI1 -5576.6528  0.001 -6078.0773 -5075.2284   True\n",
      "1_0_durAOI2 1_1_durAOI2  -156.6294    0.9  -658.0538   344.7951  False\n",
      "1_0_durAOI2 1_1_durAOI3 -4671.6819  0.001 -5173.1063 -4170.2575   True\n",
      "1_0_durAOI2 1_1_durAOI4 -5019.8239  0.001 -5521.2483 -4518.3995   True\n",
      "1_0_durAOI2 1_1_durAOI5 -5020.9023  0.001 -5522.3267 -4519.4779   True\n",
      "1_0_durAOI3 1_0_durAOI4    98.0336    0.9  -403.3908   599.4581  False\n",
      "1_0_durAOI3 1_0_durAOI5  -396.2481 0.3519  -897.6726   105.1763  False\n",
      "1_0_durAOI3 1_1_durAOI1  -748.2609  0.001 -1249.6854  -246.8365   True\n",
      "1_0_durAOI3 1_1_durAOI2  4671.7625  0.001  4170.3381   5173.187   True\n",
      "1_0_durAOI3 1_1_durAOI3     156.71    0.9  -344.7144   658.1344  False\n",
      "1_0_durAOI3 1_1_durAOI4   -191.432    0.9  -692.8564   309.9924  False\n",
      "1_0_durAOI3 1_1_durAOI5  -192.5104    0.9  -693.9348    308.914  False\n",
      "1_0_durAOI4 1_0_durAOI5  -494.2818  0.059  -995.7062     7.1426  False\n",
      "1_0_durAOI4 1_1_durAOI1  -846.2946  0.001  -1347.719  -344.8702   True\n",
      "1_0_durAOI4 1_1_durAOI2  4573.7289  0.001  4072.3045  5075.1533   True\n",
      "1_0_durAOI4 1_1_durAOI3    58.6764    0.9  -442.7481   560.1008  False\n",
      "1_0_durAOI4 1_1_durAOI4  -289.4656 0.8635  -790.8901   211.9588  False\n",
      "1_0_durAOI4 1_1_durAOI5  -290.5441 0.8585  -791.9685   210.8804  False\n",
      "1_0_durAOI5 1_1_durAOI1  -352.0128 0.5726  -853.4372   149.4116  False\n",
      "1_0_durAOI5 1_1_durAOI2  5068.0107  0.001  4566.5863  5569.4351   True\n",
      "1_0_durAOI5 1_1_durAOI3   552.9581 0.0141    51.5337  1054.3825   True\n",
      "1_0_durAOI5 1_1_durAOI4   204.8161    0.9  -296.6083   706.2406  False\n",
      "1_0_durAOI5 1_1_durAOI5   203.7377    0.9  -297.6867   705.1621  False\n",
      "1_1_durAOI1 1_1_durAOI2  5420.0235  0.001  4918.5991  5921.4479   True\n",
      "1_1_durAOI1 1_1_durAOI3   904.9709  0.001   403.5465  1406.3953   True\n",
      "1_1_durAOI1 1_1_durAOI4   556.8289 0.0127    55.4045  1058.2534   True\n",
      "1_1_durAOI1 1_1_durAOI5   555.7505 0.0131    54.3261  1057.1749   True\n",
      "1_1_durAOI2 1_1_durAOI3 -4515.0526  0.001  -5016.477 -4013.6281   True\n",
      "1_1_durAOI2 1_1_durAOI4 -4863.1945  0.001  -5364.619 -4361.7701   True\n",
      "1_1_durAOI2 1_1_durAOI5  -4864.273  0.001 -5365.6974 -4362.8485   True\n",
      "1_1_durAOI3 1_1_durAOI4   -348.142 0.5906  -849.5664   153.2824  False\n",
      "1_1_durAOI3 1_1_durAOI5  -349.2204 0.5856  -850.6448    152.204  False\n",
      "1_1_durAOI4 1_1_durAOI5    -1.0784    0.9  -502.5028    500.346  False\n",
      "----------------------------------------------------------------------\n"
     ]
    },
    {
     "data": {
      "image/png": "[encoded data removed]",
      "text/plain": [
       "<Figure size 432x288 with 1 Axes>"
      ]
     },
     "metadata": {
      "needs_background": "light"
     },
     "output_type": "display_data"
    },
    {
     "data": {
      "image/png": "[encoded data removed]",
      "text/plain": [
       "<Figure size 432x288 with 1 Axes>"
      ]
     },
     "metadata": {
      "needs_background": "light"
     },
     "output_type": "display_data"
    },
    {
     "data": {
      "image/png": "[encoded data removed]",
      "text/plain": [
       "<Figure size 432x288 with 1 Axes>"
      ]
     },
     "metadata": {
      "needs_background": "light"
     },
     "output_type": "display_data"
    }
   ],
   "source": [
    "import pandas as pd\n",
    "import numpy as np\n",
    "import scipy.stats as stats\n",
    "import statsmodels.api as sm\n",
    "from statsmodels.formula.api import ols\n",
    "from statsmodels.stats.anova import anova_lm\n",
    "from statsmodels.stats.anova import AnovaRM\n",
    "from statsmodels.graphics.factorplots import interaction_plot\n",
    "from statsmodels.stats.multicomp import MultiComparison, pairwise_tukeyhsd, tukeyhsd\n",
    "import matplotlib.pyplot as plt\n",
    "import matplotlib.patches as mpatches\n",
    "import seaborn as sns\n",
    "\n",
    "#########################\n",
    "# Importing data\n",
    "dfaveraged_data = pd.read_csv('./data/averagedPMPVmode_w10_data.csv')\n",
    "#########################\n",
    "# Creating groups \"mode x label\" for multiple comparison purposes \n",
    "dfaveraged_data['modeperf'] = dfaveraged_data['mode'].map(str) + dfaveraged_data['label'].map(str)\n",
    "dfaveraged_data['submission'] = dfaveraged_data['subject'].map(str) + \"_\" + dfaveraged_data['mission'].map(str)\n",
    "print(dfaveraged_data.columns)\n",
    "\n",
    "#########################\n",
    "# EXAMPLE \n",
    "# ANOVA considering performance group and robot operation mode\n",
    "# NOTE: we have to assume that each mission is independent here because \n",
    "# some participants belong only to one performance group\n",
    "# (in reality intra-subject sample are dependent)\n",
    "\n",
    "# 1) We try to verify the hypothesis :\n",
    "# H0 : HRV is not impacted by the operation mode nor the performance group (label)\n",
    "# H1 : HRV is impacted by the operation mode or the performance group (label)\n",
    "print(\"#####################################################################\")\n",
    "print(\"2-WAY ANOVA H1: HRV is impacted by the operation mode and the performance (label)\")\n",
    "HRVmodel = ols('HRV ~ C(mode)*C(label)', dfaveraged_data).fit()\n",
    "print(f\"Overall model F({HRVmodel.df_model: .0f},{HRVmodel.df_resid: .0f}) = {HRVmodel.fvalue: .3f}, p = {HRVmodel.f_pvalue: .4f}\")\n",
    "print()\n",
    "print(HRVmodel.summary())\n",
    "res = sm.stats.anova_lm(HRVmodel, typ= 2)\n",
    "print()\n",
    "print(res)\n",
    "\n",
    "# perform multiple comparison (post-hoc Tukey HSD)\n",
    "m_comp = MultiComparison(dfaveraged_data['HRV'], groups=dfaveraged_data['modeperf']).tukeyhsd(alpha=0.05)\n",
    "print(m_comp)\n",
    "\n",
    "##################################################\n",
    "### PLEASE DO THE SAME ANALYSIS WITH HR JUST BELOW\n",
    "\n",
    "# H0 : HR is not impacted by the operation mode nor the performance group (label)\n",
    "# H1 : HR is impacted by the operation mode or the performance group (label)\n",
    "print(\"#####################################################################\")\n",
    "print(\"2-WAY ANOVA H1: HR is impacted by the operation mode and the performance (label)\")\n",
    "HRmodel = ols('HR ~ C(mode)*C(label)', dfaveraged_data).fit()\n",
    "print(f\"Overall model F({HRmodel.df_model: .0f},{HRmodel.df_resid: .0f}) = {HRmodel.fvalue: .3f}, p = {HRmodel.f_pvalue: .4f}\")\n",
    "print()\n",
    "print(HRmodel.summary())\n",
    "res1 = sm.stats.anova_lm(HRmodel, typ= 2)\n",
    "print()\n",
    "print(res1)\n",
    "\n",
    "# perform multiple comparison (post-hoc Tukey HSD)\n",
    "m_comp1 = MultiComparison(dfaveraged_data['HR'], groups=dfaveraged_data['modeperf']).tukeyhsd(alpha=0.05)\n",
    "print(m_comp1)\n",
    "\n",
    "\n",
    "\n",
    "#################################################################\n",
    "### NOW LET'S ANALYSE THE NUMBER OF FIXATIONS IN AOIs (nbFixAOIX)\n",
    "# for instance:\n",
    "# 2a) We try to verify the hypothesis : \n",
    "# H0 : the number of fixations is not affected by the AOI index nor the operation mode\n",
    "# H1 : the number of fixations is affected by the AOI index or the operation mode\n",
    "df = pd.melt(dfaveraged_data[[\"modeperf\",\"mode\",\"label\",\"submission\",\"subject\",\"nbAOI1\",\"nbAOI2\",\"nbAOI3\",\"nbAOI4\",\"nbAOI5\"]], \n",
    "             id_vars=[\"modeperf\",\"submission\",\"mode\",\"label\",\"subject\"], \n",
    "             value_vars=[\"nbAOI1\",\"nbAOI2\",\"nbAOI3\",\"nbAOI4\",\"nbAOI5\"])\n",
    "df = df.rename(columns={'value': 'nbFix'})\n",
    "df = df.rename(columns={'variable': 'AOI'})\n",
    "\n",
    "# NOTE: we use a repeated measures ANOVA design because data is dependent within subjects and missions\n",
    "res=AnovaRM(data=df,depvar=\"nbFix\",subject=\"submission\", within=[\"AOI\",\"mode\"]).fit()\n",
    "print(res)\n",
    "\n",
    "# 2b) We try to verify the hypothesis : \n",
    "# H0 : the number of fixations is not affected by the AOI index nor the operation mode nor the performance label\n",
    "# H1 : the number of fixations is affected by the AOI index or the operation mode or the performance label\n",
    "# NOTE: we can't use repeated measure ANOVA design in this case because:\n",
    "# all the conditions aren't repeated within subjects\n",
    "sns.boxenplot(x=\"AOI\", y=\"nbFix\", hue=\"modeperf\", linewidth=1, data=df)\n",
    "print(\"#####################################################################\")\n",
    "print(\"3-WAY ANOVA H1: nbFix is impacted by the AOI, the operation mode and the performance (label)\")\n",
    "nbFixModel = ols('nbFix ~ C(mode)*C(label)*C(AOI)', df).fit()\n",
    "res = sm.stats.anova_lm(nbFixModel, typ= 3)\n",
    "print(res)\n",
    "\n",
    "# perform multiple comparison (post-hoc Tukey HSD)\n",
    "df['modeperfAOI'] = df['mode'].map(str) + \"_\" + df['label'].map(str) + \"_\" + df['AOI'].map(str)\n",
    "m_comp_crossAOIs = MultiComparison(df['nbFix'], groups=df['modeperfAOI']).tukeyhsd(alpha=0.05)\n",
    "print(m_comp_crossAOIs)\n",
    "plt.show()\n",
    "\n",
    "###########################################################################\n",
    "### PLEASE DO THE SAME ANALYSIS WITH THE AOIs FIXATION DURATIONS JUST BELOW\n",
    "\n",
    "# 3a) We try to verify the hypothesis : \n",
    "# H0 : the AOIs fixation duration is not affected by the AOI index nor the operation mode\n",
    "# H1 : the AOIs fixation duration is affected by the AOI index or the operation mode\n",
    "df1 = pd.melt(dfaveraged_data[[\"modeperf\",\"mode\",\"label\",\"submission\",\"subject\",\"durAOI1\",\"durAOI2\",\"durAOI3\",\"durAOI4\",\"durAOI5\"]], \n",
    "             id_vars=[\"modeperf\",\"submission\",\"mode\",\"label\",\"subject\"], \n",
    "             value_vars=[\"durAOI1\",\"durAOI2\",\"durAOI3\",\"durAOI4\",\"durAOI5\"])\n",
    "df1 = df1.rename(columns={'value': 'durFix'})\n",
    "df1 = df1.rename(columns={'variable': 'AOI'})\n",
    "\n",
    "# NOTE: we use a repeated measures ANOVA design because data is dependent within subjects and missions\n",
    "res2=AnovaRM(data=df1,depvar=\"durFix\",subject=\"submission\", within=[\"AOI\",\"mode\"]).fit()\n",
    "print(res2)\n",
    "\n",
    "# 3b) We try to verify the hypothesis : \n",
    "# H0 : the number of fixations is not affected by the AOI index nor the operation mode nor the performance label\n",
    "# H1 : the number of fixations is affected by the AOI index or the operation mode or the performance label\n",
    "# NOTE: we can't use repeated measure ANOVA design in this case because:\n",
    "# all the conditions aren't repeated within subjects\n",
    "sns.boxenplot(x=\"AOI\", y=\"durFix\", hue=\"modeperf\", linewidth=1, data=df1)\n",
    "print(\"#####################################################################\")\n",
    "print(\"3-WAY ANOVA H1: durFix is impacted by the AOI, the operation mode and the performance (label)\")\n",
    "durFixModel = ols('durFix ~ C(mode)*C(label)*C(AOI)', df1).fit()\n",
    "res2 = sm.stats.anova_lm(durFixModel, typ= 3)\n",
    "print(res2)\n",
    "\n",
    "# perform multiple comparison (post-hoc Tukey HSD)\n",
    "df1['modeperfAOI'] = df1['mode'].map(str) + \"_\" + df1['label'].map(str) + \"_\" + df1['AOI'].map(str)\n",
    "m_comp_crossAOIs2 = MultiComparison(df1['durFix'], groups=df1['modeperfAOI']).tukeyhsd(alpha=0.05)\n",
    "print(m_comp_crossAOIs2)\n",
    "plt.show()\n",
    "\n",
    "\n",
    "####################################################################################\n",
    "### PLEASE DO THE SAME ANALYSIS WITH THE KEYSTROKES AND CLICKS (nav,tank) JUST BELOW\n",
    "\n",
    "## plotting operation mode x nav keystrokes grouped by the performance label\n",
    "plotting_data_per_perfgroup(dfaveraged_data, \"mode\", \"nav\")\n",
    "plt.show()\n",
    "#plt.clf()\n",
    "\n",
    "## plotting operation mode x tank keystrokes grouped by the performance label\n",
    "plotting_data_per_perfgroup(dfaveraged_data, \"mode\", \"tank\")\n",
    "plt.show()\n",
    "#plt.clf()\n"
   ]
  },
  {
   "cell_type": "markdown",
   "metadata": {
    "id": "RcAeuq_tLI3l"
   },
   "source": [
    "#### Draw your conclusions for the task 1.1.2 here:"
   ]
  },
  {
   "cell_type": "markdown",
   "metadata": {
    "id": "8sem1XPTLI3l"
   },
   "source": [
    "Answer: Lors de la question précédente, nous avions déjà remarqué que les marqueurs nav, nbAOI1, nbAOI3 et nbAOI5 étaient impactés par la performance du joueur. L'analyse ci-dessus nous permet de déterminer en plus dans quelle mesure les durées de fixation sur les AOIs sont impactées par la performance du joueur.\n",
    "Ainsi, les durées de fixation sur les AOI2 et AOI3 sont impactés par les performances du joueur."
   ]
  },
  {
   "cell_type": "markdown",
   "metadata": {
    "id": "kKIXfwuLLI3l"
   },
   "source": [
    "**Task 1.1.3: Based on the results obtained above, define the subdataset to be considered for classification**\n",
    "\n",
    "**Remark 1 :** note that the data file *df10labeled_data* will be used in this exercise, where all 10-second time windows are listed. The goal here is to produce a prediction for each sample built on a 10-second time window"
   ]
  },
  {
   "cell_type": "code",
   "execution_count": null,
   "metadata": {
    "id": "ha6T34j0LI3l",
    "outputId": "00b4c117-dc7e-4c90-d633-44a14f7b5782"
   },
   "outputs": [
    {
     "name": "stdout",
     "output_type": "stream",
     "text": [
      "      subject  mission  mode         HR       HRV   nav  tank  space  trees  \\\n",
      "0        19.0      1.0   0.0  72.568940 -0.066819  14.0   0.0    0.0    0.0   \n",
      "1        19.0      1.0   0.0  74.229865 -0.087446  18.0   2.0    0.0    0.0   \n",
      "2        19.0      1.0   1.0  73.304826 -0.070724   9.0   5.0    0.0    0.0   \n",
      "3        19.0      1.0   1.0  69.962687 -0.050697   0.0   8.0    0.0    0.0   \n",
      "4        19.0      1.0   1.0  70.771408 -0.076950   0.0   7.0    0.0    1.0   \n",
      "...       ...      ...   ...        ...       ...   ...   ...    ...    ...   \n",
      "3586     40.0      4.0   1.0  69.767442 -0.041904   0.0  24.0    0.0    0.0   \n",
      "3587     40.0      4.0   0.0  67.046597 -0.043276  12.0   8.0    0.0    0.0   \n",
      "3588     40.0      4.0   0.0  69.549090 -0.044936  10.0  14.0    0.0    0.0   \n",
      "3589     40.0      4.0   0.0  72.245635 -0.045260   6.0   8.0    1.0    0.0   \n",
      "3590     40.0      4.0   1.0  71.564885 -0.048838   2.0   9.0    0.0    0.0   \n",
      "\n",
      "      nbAOI1  ...  nbAOI4  nbAOI5  durAOI1   durAOI2  durAOI3   durAOI4  \\\n",
      "0        0.0  ...    17.0    13.0      0.0     0.000  396.012  4315.727   \n",
      "1        0.0  ...    14.0     8.0      0.0   799.830  616.039  5164.160   \n",
      "2        0.0  ...     6.0     2.0      0.0  4567.621  323.665  1076.000   \n",
      "3        0.0  ...     2.0     0.0      0.0  8334.850  507.983   404.020   \n",
      "4        0.0  ...     0.0     4.0      0.0  6839.057  288.020     0.000   \n",
      "...      ...  ...     ...     ...      ...       ...      ...       ...   \n",
      "3586     0.0  ...     5.0     2.0      0.0  8130.931    0.000   843.695   \n",
      "3587     0.0  ...    10.0     3.0      0.0  3607.340    0.000  3371.289   \n",
      "3588     0.0  ...    15.0     1.0      0.0  4155.458    0.000  4095.549   \n",
      "3589     0.0  ...     7.0     2.0      0.0  4499.490    0.000  4619.240   \n",
      "3590     0.0  ...    12.0     7.0      0.0  3847.525    0.000  3134.870   \n",
      "\n",
      "       durAOI5  tank_local_score    HRnorm  label  \n",
      "0     2627.351             0.000  6.185203    1.0  \n",
      "1     1296.772            -2.222  7.846128    1.0  \n",
      "2      411.970            -8.445  6.921088    1.0  \n",
      "3        0.000             4.555  3.578949    1.0  \n",
      "4     1471.901            19.032  4.387671    1.0  \n",
      "...        ...               ...       ...    ...  \n",
      "3586   339.979             7.286  3.992174    0.0  \n",
      "3587  1307.800             2.714  1.271330    0.0  \n",
      "3588   156.010             3.778  3.773822    0.0  \n",
      "3589   415.880            -0.334  6.470367    0.0  \n",
      "3590  1252.000            -1.111  5.789618    0.0  \n",
      "\n",
      "[3591 rows x 22 columns]\n",
      "      subject  mission  mode         HR       HRV   nav  tank  space  trees  \\\n",
      "232      20.0      1.0   0.0  81.753995 -0.024002   0.0   6.0    0.0    0.0   \n",
      "233      20.0      1.0   1.0  81.212777 -0.022410  37.0   1.0    0.0    0.0   \n",
      "234      20.0      1.0   1.0  82.259391 -0.013181   1.0   8.0    0.0    1.0   \n",
      "235      20.0      1.0   1.0  85.506627 -0.017608   0.0   7.0    0.0    1.0   \n",
      "236      20.0      1.0   0.0  86.767896 -0.024006  19.0   6.0    0.0    0.0   \n",
      "...       ...      ...   ...        ...       ...   ...   ...    ...    ...   \n",
      "3500     39.0      4.0   1.0  83.437630 -0.090905   0.0  20.0    0.0    0.0   \n",
      "3501     39.0      4.0   0.0  79.498916 -0.071000  27.0   0.0    2.0    2.0   \n",
      "3502     39.0      4.0   1.0  78.328982 -0.039412   6.0   0.0    0.0    0.0   \n",
      "3503     39.0      4.0   0.0  91.486658 -0.034352  33.0   0.0    0.0    0.0   \n",
      "3504     39.0      4.0   1.0  85.514382 -0.021361   4.0   0.0    0.0    0.0   \n",
      "\n",
      "      nbAOI1  ...  nbAOI4  nbAOI5  durAOI1   durAOI2   durAOI3   durAOI4  \\\n",
      "232      0.0  ...     3.0     0.0    0.000  5270.240   267.980  1203.800   \n",
      "233      0.0  ...     7.0     0.0    0.000  1147.790  5415.409  3251.690   \n",
      "234      0.0  ...     4.0     4.0    0.000  6031.067   947.860   819.810   \n",
      "235      0.0  ...     7.0     3.0    0.000  6143.030   471.870  1899.458   \n",
      "236      0.0  ...     8.0     4.0    0.000  5603.170  1111.940  2219.590   \n",
      "...      ...  ...     ...     ...      ...       ...       ...       ...   \n",
      "3500     4.0  ...     8.0     2.0  639.975  5383.590   531.880  1651.611   \n",
      "3501     6.0  ...     6.0     0.0  812.020   172.000  6643.306   975.864   \n",
      "3502     2.0  ...    21.0     6.0  356.020   764.020  2107.815  4007.739   \n",
      "3503     5.0  ...     6.0     7.0  923.933   587.890  4227.799  1507.870   \n",
      "3504     0.0  ...     8.0     4.0    0.000  1323.856  3195.732  1795.872   \n",
      "\n",
      "       durAOI5  tank_local_score     HRnorm  label  \n",
      "232      0.000            14.571   1.744660    0.0  \n",
      "233      0.000             9.207   1.203443    0.0  \n",
      "234    859.840            -2.000   2.250057    0.0  \n",
      "235    635.950            12.858   5.497292    0.0  \n",
      "236    587.960             4.230   6.758561    0.0  \n",
      "...        ...               ...        ...    ...  \n",
      "3500   275.990             6.611  13.290321    1.0  \n",
      "3501     0.000             0.000   9.351607    1.0  \n",
      "3502  1192.038            -2.333   8.181672    1.0  \n",
      "3503   939.931            -4.445  21.339349    1.0  \n",
      "3504   699.990            -4.444  15.367073    1.0  \n",
      "\n",
      "[2797 rows x 22 columns]\n",
      "       nav  nbAOI1  nbAOI3  nbAOI5   durAOI2   durAOI3  label\n",
      "232    0.0     0.0     1.0     0.0  5270.240   267.980    0.0\n",
      "233   37.0     0.0    17.0     0.0  1147.790  5415.409    0.0\n",
      "234    1.0     0.0     4.0     4.0  6031.067   947.860    0.0\n",
      "235    0.0     0.0     3.0     3.0  6143.030   471.870    0.0\n",
      "236   19.0     0.0     4.0     4.0  5603.170  1111.940    0.0\n",
      "...    ...     ...     ...     ...       ...       ...    ...\n",
      "3500   0.0     4.0     2.0     2.0  5383.590   531.880    1.0\n",
      "3501  27.0     6.0    25.0     0.0   172.000  6643.306    1.0\n",
      "3502   6.0     2.0    11.0     6.0   764.020  2107.815    1.0\n",
      "3503  33.0     5.0    21.0     7.0   587.890  4227.799    1.0\n",
      "3504   4.0     0.0    15.0     4.0  1323.856  3195.732    1.0\n",
      "\n",
      "[2797 rows x 7 columns]\n"
     ]
    }
   ],
   "source": [
    "import pandas as pd\n",
    "import numpy as np\n",
    "\n",
    "#########################################################\n",
    "# importing data\n",
    "df10labeled_data = pd.read_csv('./data/df10labeled_data.csv')\n",
    "print(df10labeled_data)\n",
    "\n",
    "#########################################################\n",
    "## Next, we propose to remove  data samples related to some subjects from the training data set:\n",
    "## note that it allows to verify that the framework is working with new subjects never used for \n",
    "## learning POMDP parameters.\n",
    "\n",
    "## EXAMPLE: we exclude here subjects 19, 23, 33 and 38\n",
    "subdf10labeled_data = df10labeled_data.loc[(df10labeled_data[\"subject\"]!=19)&\n",
    "                                           (df10labeled_data[\"subject\"]!=23)&\n",
    "                                           (df10labeled_data[\"subject\"]!=33)&\n",
    "                                           (df10labeled_data[\"subject\"]!=40)]\n",
    "print(subdf10labeled_data)\n",
    "\n",
    "##########################################################\n",
    "## EXAMPLE of feature selection \n",
    "## please select features according to your previous statistical analysis !!\n",
    "subdataset = subdf10labeled_data.loc[:, ['nav',  \n",
    "                                      'nbAOI1',  \n",
    "                                      'nbAOI3',  \n",
    "                                      'nbAOI5',\n",
    "                                      'durAOI2',\n",
    "                                      'durAOI3',   \n",
    "                                      'label']]\n",
    "\n",
    "print(subdataset)"
   ]
  },
  {
   "cell_type": "markdown",
   "metadata": {
    "id": "M7ay4uytLI3m"
   },
   "source": [
    "**Task 1.1.4 Classifier Setup**\n",
    "\n",
    "The goal here is to find the best classifier (i.e. the most accurate) to predict the human operator's mental state.\n",
    "\n",
    "Thus, we propose to:\n",
    "1. split the dataset into training and testing sets\n",
    "2. choose a classifier according to the sklearn map (https://scikit-learn.org/stable/tutorial/machine_learning_map/index.html)\n",
    "2. define a pipeline (https://scikit-learn.org/stable/modules/generated/sklearn.pipeline.Pipeline.html)\n",
    "3. select the hyper-paremeters to be cross-validated as well as the associated candidates for each hyper-parameter\n",
    "4. define the grid-search cross-validation classifier\n",
    "5. train it using the fit method on the training set\n",
    "6. evaluate the resulting classifier on the testing set\n",
    "7. go back to step 2\n",
    "\n"
   ]
  },
  {
   "cell_type": "code",
   "execution_count": null,
   "metadata": {
    "id": "Mc_-Z2ygLI3m",
    "outputId": "d191670e-31c6-4f43-ce32-afdea403010f"
   },
   "outputs": [
    {
     "name": "stdout",
     "output_type": "stream",
     "text": [
      "Available meta-parameters:  dict_keys(['algorithm', 'base_estimator', 'learning_rate', 'n_estimators', 'random_state'])\n",
      "Best parameters:  {'n_estimators': 15}\n",
      "Score 3 opt:  0.7091139158366049\n",
      "              precision    recall  f1-score   support\n",
      "\n",
      "         0.0       0.65      0.52      0.58       490\n",
      "         1.0       0.68      0.78      0.73       629\n",
      "\n",
      "    accuracy                           0.67      1119\n",
      "   macro avg       0.66      0.65      0.65      1119\n",
      "weighted avg       0.67      0.67      0.66      1119\n"
     ]
    }
   ],
   "source": [
    "#### PLEASE PUT YOUR CODE HERE\n",
    "\n",
    "### import libraries\n",
    "\n",
    "from sklearn.model_selection import train_test_split\n",
    "import numpy as np\n",
    "import matplotlib.pyplot as plt\n",
    "from matplotlib.pyplot import figure\n",
    "from matplotlib.colors import ListedColormap\n",
    "\n",
    "from sklearn.utils import all_estimators\n",
    "from sklearn.neural_network import MLPClassifier\n",
    "from sklearn.neighbors import KNeighborsClassifier\n",
    "from sklearn.svm import SVC\n",
    "from sklearn.gaussian_process import GaussianProcessClassifier\n",
    "from sklearn.gaussian_process.kernels import RBF\n",
    "from sklearn.tree import DecisionTreeClassifier\n",
    "from sklearn.ensemble import RandomForestClassifier, AdaBoostClassifier\n",
    "from sklearn.naive_bayes import GaussianNB\n",
    "from sklearn.discriminant_analysis import QuadraticDiscriminantAnalysis, LinearDiscriminantAnalysis\n",
    "\n",
    "from sklearn.metrics import classification_report\n",
    "from sklearn.metrics import confusion_matrix\n",
    "\n",
    "from sklearn.model_selection import GridSearchCV\n",
    "#from sklearn.grid_search import GridSearchCV\n",
    "\n",
    "### split dataset into training and testing sets\n",
    "\n",
    "\n",
    "v = subdataset.values\n",
    "X = v[:, 0:5]\n",
    "y = v[:,-1]\n",
    "\n",
    "\n",
    "X_train, X_test, y_train, y_test = train_test_split(X, y, test_size=.4)\n",
    "\n",
    "\n",
    "\n",
    "### define classifier\n",
    "\n",
    "# Nous avons entraîné trois classifieurs différents pour comparer leurs scores sur notre jeu de données. \n",
    "# Sans optimisation des paramètres des classifieurs, adaBoost est le plus performant.\n",
    "\n",
    "clf1 = SVC()\n",
    "\n",
    "clf2 = GaussianProcessClassifier (1.0 * RBF(1.0))\n",
    "clf3 = AdaBoostClassifier()\n",
    "\n",
    "#clf1.fit(X_train, y_train)\n",
    "#clf2.fit(X_train, y_train)\n",
    "#clf3.fit(X_train, y_train)\n",
    "\n",
    "#score1 = clf1.score(X_test, y_test)\n",
    "#score2 = clf2.score(X_test, y_test)\n",
    "#score3 = clf3.score(X_test, y_test)\n",
    "\n",
    "#print(\"Score SVC: \", score1)\n",
    "#print(\"Score Gaussian: \", score2)\n",
    "#print(\"Score Ada : \", score3)\n",
    "\n",
    "\n",
    "\n",
    "\n",
    "####### !!!!!! Utiliser adaboost plutot que SVC qui est trop lent !!!!!!!!!!!!!!!!!!!!!!!!\n",
    "\n",
    "\n",
    "### define pipeline\n",
    "\n",
    "### define hyper-parameters and associated candidates\n",
    "\n",
    "print(\"Available meta-parameters: \", clf3.get_params().keys())\n",
    "\n",
    "#meta_parameters = {\n",
    "    #'kernel': ['linear', 'rbf'],\n",
    "    #'C': [0.1,1,10]\n",
    "#}\n",
    "\n",
    "meta_parameters = {#\"base_estimator\" : [\"gini\", \"entropy\"],\n",
    "              #\"base_estimator\" :   [\"best\", \"random\"],\n",
    "              \"n_estimators\": [1, 2,3,15,20,30]\n",
    "             }\n",
    "\n",
    "opt_clf3 = GridSearchCV(clf3, meta_parameters, scoring = 'roc_auc')\n",
    "\n",
    "\n",
    "\n",
    "opt_clf3.fit(X_train, y_train)\n",
    "print(\"Best parameters: \", opt_clf3.best_params_)\n",
    "\n",
    "score3opt = opt_clf3.score(X_test, y_test)\n",
    "print(\"Score 3 opt: \", score3opt)\n",
    "\n",
    "### define the grid search cross-validation classifier\n",
    "\n",
    "\n",
    "\n",
    "### train using the fit method\n",
    "\n",
    "\n",
    "### evaluate the classifier and print results\n",
    "\n",
    "from sklearn.metrics import confusion_matrix\n",
    "y_pred = opt_clf3.predict(X_test)\n",
    "\n",
    "print(classification_report(y_test, y_pred))"
   ]
  },
  {
   "cell_type": "markdown",
   "metadata": {
    "id": "DbRdBiRcLI3m"
   },
   "source": [
    "**Task 1.1.5: Extract the confusion matrix of your classifier**\n",
    "\n",
    "**Remark 1 :** use the notions learnt in the Machine Learning introduction lecture\n",
    "\n"
   ]
  },
  {
   "cell_type": "code",
   "execution_count": null,
   "metadata": {
    "scrolled": false,
    "id": "er-ALGnALI3n",
    "outputId": "cc901633-9064-4ca5-e6a3-3c9685c22e51"
   },
   "outputs": [
    {
     "name": "stdout",
     "output_type": "stream",
     "text": [
      "[[255 235]\n",
      " [137 492]]\n"
     ]
    }
   ],
   "source": [
    "## Extract the confusion matrix of your classifier here\n",
    "\n",
    "#y_pred=y_pred[:len(y_pred)-1]\n",
    "Mconf = confusion_matrix(y_test, y_pred)\n",
    "print(Mconf)"
   ]
  },
  {
   "cell_type": "markdown",
   "metadata": {
    "id": "CxT4VVeDLI3n"
   },
   "source": [
    "**Task 1.1.6: Based on the confusion matrix, please formalize your POMDP observation function hereafter:**\n",
    "\n",
    "Answer : $Pr(o' \\mid s', a) = o(a,s',o')\n",
    "= \\begin{bmatrix} Pr(oe \\mid e) & Pr(one \\mid e) \\\\ Pr(one \\mid ne) & Pr(oe \\mid ne) \\end{bmatrix}\n",
    "= \\begin{bmatrix} TPR & FPR \\\\ FNR & TNR \\end{bmatrix}\n",
    "= \\begin{bmatrix} \\Phi_{00} & \\Phi_{01} \\\\ \\Phi_{10} & \\Phi_{11} \\end{bmatrix}$,\n",
    "$\\forall a \\in A$, \n",
    "\n",
    "and with\n",
    "$\\Phi_{00} = ?? $, $\\Phi_{01} = ?? $, $\\Phi_{10} = ?? $, and $\\Phi_{11} = ?? $.\n"
   ]
  },
  {
   "cell_type": "code",
   "execution_count": null,
   "metadata": {
    "id": "bfwcCgSYLI3n",
    "outputId": "a7babe21-9d7f-48e9-eaa4-baf9c1cc5fa5"
   },
   "outputs": [
    {
     "data": {
      "text/plain": [
       "array([[0.52040816, 0.47959184],\n",
       "       [0.21780604, 0.78219396]])"
      ]
     },
     "execution_count": 7,
     "metadata": {},
     "output_type": "execute_result"
    }
   ],
   "source": [
    "tot1 = sum(Mconf[0,:])\n",
    "tot2 = sum(Mconf[1,:])\n",
    "\n",
    "obsfunc = np.zeros((2,2))\n",
    "obsfunc[0,0] = Mconf[0,0]/tot1\n",
    "obsfunc[0,1] = Mconf[0,1]/tot1\n",
    "obsfunc[1,0] = Mconf[1,0]/tot2\n",
    "obsfunc[1,1] = Mconf[1,1]/tot2\n",
    "\n",
    "obsfunc"
   ]
  },
  {
   "cell_type": "markdown",
   "metadata": {
    "id": "FEbWu-CCLI3n"
   },
   "source": [
    "### Task 1.2 : Define the POMDP reward function\n",
    "\n",
    "An optimal policy maximizes the sum of rewards over time. \n",
    "The reward function therefore defines the criterion that the artificial agent seeks to optimize. \n",
    "Here we would like to define this reward function.\n",
    "\n",
    "Since the goal of the task is to put out as many fires as possible,\n",
    "the reward should be defined as the number of tree extinguished\n",
    "during the 10-second time window denoted by $R_t$: the value function is then:\n",
    "\n",
    "$ V = \\mathbb{E}\\big[ \\sum_t R_t \\big]\n",
    "= \\mathbb{E} \\Big[ \\sum_t  \\mathbb{E} \\big[ R_t \\mid s_t, a_t \\big] \\Big]\n",
    "= \\mathbb{E} \\Big[ \\sum_t  r(s_t, a_t) \\Big]$,\n",
    "\n",
    "where, $r(s,a) = \\mathbb{E} \\big[ R_t \\mid s_t=s, a_t=a \\big]$\n",
    "is the expectation of the reward given the system state and the agent action,\n",
    "that could be defined as the reward function.\n",
    "\n",
    "These expectations ($\\forall (s,a) \\in S \\times A)$ can be easily approximated using the dataset,\n",
    "and the resulting averages can then be used to define the reward function in practice.\n",
    "To this end, it is important to analyse again our averaged dataset. \n"
   ]
  },
  {
   "cell_type": "markdown",
   "metadata": {
    "id": "v6XPx4zQLI3n"
   },
   "source": [
    "**1.2.1. Given the state and action spaces defined above, please formalize your reward function:**\n"
   ]
  },
  {
   "cell_type": "code",
   "execution_count": null,
   "metadata": {
    "scrolled": true,
    "id": "3XCj3fhNLI3o",
    "outputId": "0d491ec6-d960-4066-c68c-f88030f9be00"
   },
   "outputs": [
    {
     "name": "stdout",
     "output_type": "stream",
     "text": [
      "            HR       HRV     HRnorm     durAOI1      durAOI2      durAOI3  \\\n",
      "8    82.295194 -0.011808   2.285859    9.052105  3411.254211  2662.639158   \n",
      "9    82.833853 -0.015138   2.824519   51.800400  5984.961700  1160.086400   \n",
      "10   82.448589 -0.011103   2.301653   52.878778  3048.446926  2957.604815   \n",
      "11   83.831082 -0.016444   3.684146   76.739937  4791.576750  1492.667406   \n",
      "12   84.516933 -0.027626   8.905743   93.947400  3010.153567  3175.275367   \n",
      "..         ...       ...        ...         ...          ...          ...   \n",
      "131  77.796189 -0.084523  12.028904  165.633828  6293.623069   984.899655   \n",
      "132  79.965476 -0.054221  10.763638  129.986393  2800.301321  3590.642643   \n",
      "133  80.086270 -0.048275  10.884432  242.803290  5875.506355  1322.870677   \n",
      "134  80.606207 -0.075121  10.458897  214.454885  3352.373462  3201.969385   \n",
      "135  80.395658 -0.063058  10.248348  109.075606  5557.652758  1190.550152   \n",
      "\n",
      "         durAOI4     durAOI5  mission  mode  ...     nbAOI3    nbAOI4  \\\n",
      "8    2024.707474  651.056895        1     0  ...  10.052632  8.736842   \n",
      "9     989.266750  761.048800        1     1  ...   4.850000  4.050000   \n",
      "10   1981.321333  757.186222        2     0  ...  11.370370  7.148148   \n",
      "11   1511.614812  839.359312        2     1  ...   6.281250  7.125000   \n",
      "12   1787.026167  694.546767        3     0  ...  12.100000  7.033333   \n",
      "..           ...         ...      ...   ...  ...        ...       ...   \n",
      "131   902.066793  325.784862        2     1  ...   3.620690  4.655172   \n",
      "132  1410.911286  456.077536        3     0  ...  17.464286  8.321429   \n",
      "133   796.951097  350.282161        3     1  ...   6.064516  4.967742   \n",
      "134  1306.153038  442.124846        4     0  ...  13.500000  6.692308   \n",
      "135  1519.516667  379.235939        4     1  ...   5.454545  7.333333   \n",
      "\n",
      "       nbAOI5     space  subject       tank  tank_local_score     trees  \\\n",
      "8    3.526316  0.631579       20   4.210526         -3.201743  0.473684   \n",
      "9    3.400000  0.250000       20   9.600000          2.360983  0.400000   \n",
      "10   3.555556  0.777778       20   3.518519         -2.031978  0.518519   \n",
      "11   3.468750  0.093750       20   5.937500          0.778544  0.406250   \n",
      "12   3.700000  0.633333       20   3.933333         -3.210790  0.533333   \n",
      "..        ...       ...      ...        ...               ...       ...   \n",
      "131  1.931034  0.137931       39  15.103448          5.590903  0.344828   \n",
      "132  2.928571  0.678571       39   7.000000        -12.091624  0.678571   \n",
      "133  2.129032  0.032258       39  15.354839          8.529877  0.451613   \n",
      "134  2.615385  0.653846       39   6.769231         -6.795173  0.653846   \n",
      "135  2.212121  0.121212       39  12.848485          5.819527  0.393939   \n",
      "\n",
      "     nbt_trees_mode  label  \n",
      "8                 9      0  \n",
      "9                 8      0  \n",
      "10               14      1  \n",
      "11               13      1  \n",
      "12               16      1  \n",
      "..              ...    ...  \n",
      "131              10      1  \n",
      "132              19      1  \n",
      "133              14      1  \n",
      "134              17      1  \n",
      "135              13      1  \n",
      "\n",
      "[112 rows x 23 columns]\n",
      "[[0.55484027 0.28190895]\n",
      " [0.41760041 0.35650864]]\n"
     ]
    }
   ],
   "source": [
    "import pandas as pd\n",
    "import numpy as np\n",
    "import matplotlib.pyplot as plt\n",
    "import matplotlib.patches as mpatches\n",
    "import seaborn as sns\n",
    "\n",
    "##################################################\n",
    "## importing data\n",
    "dfaveraged_data = pd.read_csv('./data/averagedPMPVmode_w10_data.csv')\n",
    "\n",
    "##################################################\n",
    "## excluding the same participants as before\n",
    "subdfaveraged_data = dfaveraged_data.loc[(dfaveraged_data[\"subject\"]!=19)&\n",
    "                                           (dfaveraged_data[\"subject\"]!=23)&\n",
    "                                           (dfaveraged_data[\"subject\"]!=33)&\n",
    "                                           (dfaveraged_data[\"subject\"]!=40)]\n",
    "print (subdfaveraged_data)\n",
    "\n",
    "##################################################\n",
    "### PLEASE proceed with computations of the four (4) reward function values\n",
    "### Remind that expectations can be easily approximated using the dataset, \n",
    "### and the resulting averages can then be used to define the reward function in practice.\n",
    "\n",
    "#2 états : engagé, désengagé\n",
    "#actions : manuel, auto\n",
    "#fonction de reward : matrice 2*2\n",
    "\n",
    "\n",
    "#Reward function\n",
    "R = np.zeros((2,2))\n",
    "\n",
    "\n",
    "mode = dfaveraged_data['mode'].tolist()\n",
    "trees = dfaveraged_data['trees'].tolist()\n",
    "label = dfaveraged_data['label'].tolist()\n",
    "\n",
    "\n",
    "\n",
    "countME =0\n",
    "countAE=0\n",
    "countMNE=0\n",
    "countANE=0\n",
    "\n",
    "#On décompte le nombre d'arbres éteints pour chaque couple (action, état)\n",
    "\n",
    "for k in range(len(mode)):\n",
    "    if mode[k]==0 and label[k]==1:\n",
    "        R[0,0]+=trees[k]\n",
    "        countME+=1\n",
    "    if mode[k]==0 and label[k]==0:\n",
    "         R[0,1]+=trees[k]\n",
    "         countMNE+=1\n",
    "    if mode[k]==1 and label[k]==1:\n",
    "         R[1,0]+=trees[k]\n",
    "         countAE+=1\n",
    "    if mode[k]==1 and label[k]==0:\n",
    "         R[1,1]+=trees[k]\n",
    "         countANE+=1\n",
    "        \n",
    "#Puis on fait la moyenne\n",
    "\n",
    "R[0,0]=R[0,0]/countME\n",
    "R[0,1]=R[0,1]/countMNE\n",
    "R[1,0]=R[1,0]/countAE\n",
    "R[1,1]=R[1,1]/countANE\n",
    "\n",
    "\n",
    "\n",
    "print(R)\n",
    "\n"
   ]
  },
  {
   "cell_type": "markdown",
   "metadata": {
    "id": "50Mhs9DULI3o"
   },
   "source": [
    "**1.2.2. State a necessary condition on reward function to enable a non trivial POMDP optimization.**\n",
    "\n",
    "For instance, what is the issue if r(s,manual) = r(s,auto) $\\forall s \\in S$"
   ]
  },
  {
   "cell_type": "markdown",
   "metadata": {
    "id": "FZjO2egMLI3o"
   },
   "source": [
    "#Answer: Si r(s,manual) = r(s,auto) pour tout s, impossible de distinguer une bonne action d'une mauvaise : la stratégie adoptée sera donc aléatoire. \n",
    "Une condition nécessaire pour éviter une stratégie aléatoire est d'avoir r(s,manual) != r(s,auto) pour tout s. Ainsi, dans un état donné, l'algo peut distinguer la meilleure action à entreprendre."
   ]
  },
  {
   "cell_type": "markdown",
   "metadata": {
    "id": "S04bg8OxLI3o"
   },
   "source": [
    "\n",
    "**1.2.3. Verify with descriptive statistics that the reward function changes with respect to state and action.**\n",
    "\n",
    "* **Is the score (number of extinguished trees) evolving differently with respect to the robot operation mode and human operator engagement (described by her/his mission performance)?**"
   ]
  },
  {
   "cell_type": "code",
   "execution_count": null,
   "metadata": {
    "id": "dgLFS2sJLI3p",
    "outputId": "3d8a5d00-2ccb-4bdf-9e36-08996c6880e9"
   },
   "outputs": [
    {
     "name": "stdout",
     "output_type": "stream",
     "text": [
      "[[0.55484027 0.28190895]\n",
      " [0.41760041 0.35650864]]\n"
     ]
    }
   ],
   "source": [
    "## get a look on how the number of fires extinguished  evolves\n",
    "## in function of the operation mode and mission performance\n",
    "## use plotting_data_per_mode function given in the begining of this notebook\n",
    "\n",
    "# we can also plot the frequency (or the expected number)\n",
    "\n",
    "#Réponse : \n",
    "\n",
    "print(R)\n",
    "plotting_data_per_mode(dfaveraged_data, \"label\", \"trees\")\n",
    "\n",
    "#La fonction de reward R codée en 1.2.1 montre que les récompenses évoluent en fonction de l'état et de l'action entreprise (les coefficients de la matrice étant tous différents).\n",
    "#Cependant, on remarque que r(ne, manual)=6.22 est proche de r(ne, auto) ce qui, comme évoqué dans la question précédente, peut induire \n",
    "#une décision d'action relativement aléatoire dans le cas d'un étant non engagé.\n",
    "\n",
    "#"
   ]
  },
  {
   "cell_type": "markdown",
   "metadata": {
    "id": "u_xCHOJQLI3p"
   },
   "source": [
    "**1.2.4. Please identify the greedy action $a \\in A = \\{manual, auto\\}$ (\"autonomous robot mode\" or \"manual mode\") for each hidden system state $s \\in S = \\{e, ne\\}$ (\"engagement\" or \"no engagement\").** \n",
    "\n",
    "Describe then the behavior of the artificial agent suggested by this reward function."
   ]
  },
  {
   "cell_type": "markdown",
   "metadata": {
    "id": "CFoDXavvLI3p"
   },
   "source": [
    "Answer:En s'intéressant à la première colonne de la matrice de reward, 16>12 donc dans un état engagé, la fonction tend à passer en manuel.\n",
    "En s'intéressant à la seconde colonne de la matrice de reward, 7>6.22 donc dans un état désengagé, la fonction tend à passer en automatique."
   ]
  },
  {
   "cell_type": "markdown",
   "metadata": {
    "id": "d25-bPlyLI3q"
   },
   "source": [
    "## Task 2: POMDP model solving and evaluation"
   ]
  },
  {
   "cell_type": "markdown",
   "metadata": {
    "id": "pfm6FmxRLI3q"
   },
   "source": [
    "### Task 2.1: POMDP model description using the Cassandra format\n",
    "\n",
    "In this task, please use the Cassandra format to decribe the POMDP model, in a way that the PyPOMDP library can interpret it and solve the problem.\n",
    "\n",
    "You can use the tiger-2D problem located at *.PyPOMDP/pypomdp/environments/pomdp/Tiger-2D.POMDP* as an example.\n",
    "\n",
    "Please save the created model in the same folder as the *Tiger-2D.POMDP*, and copy/paste your Cassandra file in the cell bellow:"
   ]
  },
  {
   "cell_type": "markdown",
   "metadata": {
    "id": "ag4r9ukJLI3q"
   },
   "source": [
    "Answer:\n",
    "\n",
    "#### EXAMPLE : Firefighter POMDP problem description in Cassandra format \n",
    "\n",
    "# Firefighter robot POMDP description in Cassandra format\n",
    "\n",
    "\n",
    "\n",
    "\n",
    "discount: 0.95\n",
    "\n",
    "values: reward\n",
    "\n",
    "states: notengaged engaged \n",
    "\n",
    "actions: manu auto\n",
    "\n",
    "observations: onotengaged oengaged\n",
    "\n",
    "start: 0.5 0.5\n",
    "\n",
    "T: manu\n",
    "0.98 0.02\n",
    "0.02 0.98\n",
    "\n",
    "T: auto\n",
    "0.98 0.02\n",
    "0.02 0.98\n",
    "\n",
    "O: manu\n",
    "0.4146 0.5854\n",
    "0.1355 0.8645\n",
    "\n",
    "O: auto\n",
    "0.4146 0.5854\n",
    "0.1355 0.8645\n",
    "\n",
    "\n",
    "R: manu : oengaged : * : * 0.55484027\n",
    "\n",
    "R: manu : onotengaged : * : * 0.28190895\n",
    "\n",
    "R: auto : oengaged : * : * 0.41760041\n",
    "\n",
    "R: auto : onotengaged : * : * 0.35650864\n",
    "\n",
    "\n"
   ]
  },
  {
   "cell_type": "markdown",
   "metadata": {
    "id": "6Vyf5e04LI3q"
   },
   "source": [
    "### Task 2.2: POMDP model solving using the customized PyPOMDP library "
   ]
  },
  {
   "cell_type": "markdown",
   "metadata": {
    "id": "hE9xQkYyLI3q"
   },
   "source": [
    "To solve the problem using the PyPOMDP library, you need to open a new terminal in the same folder as your jupyter-notebook.\n",
    "\n",
    "Then, go to the folder .PyPOMDP/pypomdp/ and launch the following command line:\n",
    "\n",
    "**python main.py pbvi --env Firefighter-2D.POMDP --logfile logFIREpbvi --option offsolve**\n",
    "\n",
    "where:\n",
    "\n",
    "pbvi is the algorithm to be used\n",
    "\n",
    "--env : gives the pomdp file name of your model\n",
    "\n",
    "--logfile : save the traces of policy computation and simulation (only one simulation)\n",
    "\n",
    "--option : offline or online solving, or simulate a policy file\n",
    "\n",
    "\n",
    "*Note a file called **alphavecfile.policy** is created. Please save this file with a more explicit name.*\n",
    "\n",
    "This file will be useful in the following steps."
   ]
  },
  {
   "cell_type": "markdown",
   "metadata": {
    "id": "aWUU4ZAYLI3r"
   },
   "source": [
    "### Task 2.3: POMDP model evaluation in simulation"
   ]
  },
  {
   "cell_type": "markdown",
   "metadata": {
    "id": "EOMAw9iQLI3r"
   },
   "source": [
    "To evaluate the value function and policy obtained, you need to go back to the terminal and launch the following command line:\n",
    "\n",
    "**python main.py pbvi --env Firefighter-2D.POMDP --policyfile alphavecfile.policy --logfile logFIREpbvi --max_play 60 --option simulate --sim 500**\n",
    "\n",
    "\n",
    "where:\n",
    "\n",
    "pbvi is the used algorithm\n",
    "\n",
    "--env : gives the pomdp file name of your model\n",
    "\n",
    "--logfile : save the traces of policy computation and simulation (only one simulation)\n",
    "\n",
    "--option simulate : simulate a policy using the model\n",
    "\n",
    "--policyfile : your policy file, default: alphavecfile.policy\n",
    "\n",
    "--max_play :  (60 steps = 10 minutes = 1 mission, following the the 10s-step time assumption)\n",
    "\n",
    "*Note that you will find a file named **YEAR-MONTH-DAY-H-MIN-S** in the logFile folder (\"logFIREpbvi\" here). Please have a look at this file to follow the performed simulations. At the end of this file there is a vector with all total rewards observed during the different simulations.*"
   ]
  },
  {
   "cell_type": "markdown",
   "metadata": {
    "id": "kqd3GFl6LI3r"
   },
   "source": [
    "**Please copy and paste policy simulation average results hereafter (what appears in the terminal):**\n"
   ]
  },
  {
   "cell_type": "markdown",
   "metadata": {
    "id": "K1or8sNkLI3r"
   },
   "source": [
    "Answer:\n",
    "500 simulations played.\n",
    "Exp total reward =  25.335703400000014\n",
    "Std Exp total reward =  0.8725609162737235"
   ]
  },
  {
   "cell_type": "markdown",
   "metadata": {
    "id": "cQNViXA8LI3r"
   },
   "source": [
    "### Task 2.4 : Quantitative and qualitative comparison with the random policy used during experiments\n",
    "\n",
    "In the following, another preprocessed dataset is given: **averagedPMPV_data.csv.** This dataset includes the global_score reached by each participant for each mission.\n",
    "\n",
    "#### Task 2.4.1: Quantitative comparison\n",
    "\n",
    "1. Compute the average number of trees extinguished following the random policy used during the experiments\n",
    "2. Compare this results with the observed results (total_rewards) at least 72 simulations of 60 steps (which is equivalent to 18 participants x 4 mission)\n",
    "3. Perform a statistical test to verify if the value reached by the optimized policy is significatively greater.\n",
    "\n",
    "**Remark**: we could also compute the expected value of a random policy on the POMDP model defined. To do this used the following command line:\n",
    "\n",
    "**python main.py pbvi --env Firefighter-2D.POMDP --logfile logFIREpbvi --max_play 60 --option simulate --sim 500 --random_policy 1**\n",
    "\n",
    "Note that this expected value can differs from the one obtained from dataset. Why?"
   ]
  },
  {
   "cell_type": "code",
   "execution_count": 1,
   "metadata": {
    "id": "RdMdd2YvLI3r",
    "executionInfo": {
     "status": "error",
     "timestamp": 1646989554341,
     "user_tz": 0,
     "elapsed": 1014,
     "user": {
      "displayName": "Quentin Bernaudon",
      "photoUrl": "https://lh3.googleusercontent.com/a/default-user=s64",
      "userId": "08827465376849456822"
     }
    },
    "outputId": "96add8b8-17d2-4fa1-97b5-7be960a8aec6",
    "colab": {
     "base_uri": "https://localhost:8080/",
     "height": 396
    }
   },
   "outputs": [
    {
     "output_type": "error",
     "ename": "FileNotFoundError",
     "evalue": "ignored",
     "traceback": [
      "\u001B[0;31m---------------------------------------------------------------------------\u001B[0m",
      "\u001B[0;31mFileNotFoundError\u001B[0m                         Traceback (most recent call last)",
      "\u001B[0;32m<ipython-input-1-c68fd16243af>\u001B[0m in \u001B[0;36m<module>\u001B[0;34m()\u001B[0m\n\u001B[1;32m      9\u001B[0m \u001B[0;31m#################################\u001B[0m\u001B[0;34m\u001B[0m\u001B[0;34m\u001B[0m\u001B[0;34m\u001B[0m\u001B[0m\n\u001B[1;32m     10\u001B[0m \u001B[0;31m# importing data\u001B[0m\u001B[0;34m\u001B[0m\u001B[0;34m\u001B[0m\u001B[0;34m\u001B[0m\u001B[0m\n\u001B[0;32m---> 11\u001B[0;31m \u001B[0mdfaveraged_data\u001B[0m \u001B[0;34m=\u001B[0m \u001B[0mpd\u001B[0m\u001B[0;34m.\u001B[0m\u001B[0mread_csv\u001B[0m\u001B[0;34m(\u001B[0m\u001B[0;34m'./data/averagedPMPV_data.csv'\u001B[0m\u001B[0;34m)\u001B[0m\u001B[0;34m\u001B[0m\u001B[0;34m\u001B[0m\u001B[0m\n\u001B[0m\u001B[1;32m     12\u001B[0m \u001B[0mdfaveraged_data\u001B[0m\u001B[0;34m.\u001B[0m\u001B[0mcolumns\u001B[0m\u001B[0;34m\u001B[0m\u001B[0;34m\u001B[0m\u001B[0m\n\u001B[1;32m     13\u001B[0m \u001B[0mprint\u001B[0m\u001B[0;34m(\u001B[0m\u001B[0;34m\"Avg. global scores from dataset : \"\u001B[0m\u001B[0;34m,\u001B[0m \u001B[0mnp\u001B[0m\u001B[0;34m.\u001B[0m\u001B[0mmean\u001B[0m\u001B[0;34m(\u001B[0m\u001B[0mdfaveraged_data\u001B[0m\u001B[0;34m[\u001B[0m\u001B[0;34m\"global_score\"\u001B[0m\u001B[0;34m]\u001B[0m\u001B[0;34m)\u001B[0m\u001B[0;34m)\u001B[0m\u001B[0;34m\u001B[0m\u001B[0;34m\u001B[0m\u001B[0m\n",
      "\u001B[0;32m/usr/local/lib/python3.7/dist-packages/pandas/util/_decorators.py\u001B[0m in \u001B[0;36mwrapper\u001B[0;34m(*args, **kwargs)\u001B[0m\n\u001B[1;32m    309\u001B[0m                     \u001B[0mstacklevel\u001B[0m\u001B[0;34m=\u001B[0m\u001B[0mstacklevel\u001B[0m\u001B[0;34m,\u001B[0m\u001B[0;34m\u001B[0m\u001B[0;34m\u001B[0m\u001B[0m\n\u001B[1;32m    310\u001B[0m                 )\n\u001B[0;32m--> 311\u001B[0;31m             \u001B[0;32mreturn\u001B[0m \u001B[0mfunc\u001B[0m\u001B[0;34m(\u001B[0m\u001B[0;34m*\u001B[0m\u001B[0margs\u001B[0m\u001B[0;34m,\u001B[0m \u001B[0;34m**\u001B[0m\u001B[0mkwargs\u001B[0m\u001B[0;34m)\u001B[0m\u001B[0;34m\u001B[0m\u001B[0;34m\u001B[0m\u001B[0m\n\u001B[0m\u001B[1;32m    312\u001B[0m \u001B[0;34m\u001B[0m\u001B[0m\n\u001B[1;32m    313\u001B[0m         \u001B[0;32mreturn\u001B[0m \u001B[0mwrapper\u001B[0m\u001B[0;34m\u001B[0m\u001B[0;34m\u001B[0m\u001B[0m\n",
      "\u001B[0;32m/usr/local/lib/python3.7/dist-packages/pandas/io/parsers/readers.py\u001B[0m in \u001B[0;36mread_csv\u001B[0;34m(filepath_or_buffer, sep, delimiter, header, names, index_col, usecols, squeeze, prefix, mangle_dupe_cols, dtype, engine, converters, true_values, false_values, skipinitialspace, skiprows, skipfooter, nrows, na_values, keep_default_na, na_filter, verbose, skip_blank_lines, parse_dates, infer_datetime_format, keep_date_col, date_parser, dayfirst, cache_dates, iterator, chunksize, compression, thousands, decimal, lineterminator, quotechar, quoting, doublequote, escapechar, comment, encoding, encoding_errors, dialect, error_bad_lines, warn_bad_lines, on_bad_lines, delim_whitespace, low_memory, memory_map, float_precision, storage_options)\u001B[0m\n\u001B[1;32m    584\u001B[0m     \u001B[0mkwds\u001B[0m\u001B[0;34m.\u001B[0m\u001B[0mupdate\u001B[0m\u001B[0;34m(\u001B[0m\u001B[0mkwds_defaults\u001B[0m\u001B[0;34m)\u001B[0m\u001B[0;34m\u001B[0m\u001B[0;34m\u001B[0m\u001B[0m\n\u001B[1;32m    585\u001B[0m \u001B[0;34m\u001B[0m\u001B[0m\n\u001B[0;32m--> 586\u001B[0;31m     \u001B[0;32mreturn\u001B[0m \u001B[0m_read\u001B[0m\u001B[0;34m(\u001B[0m\u001B[0mfilepath_or_buffer\u001B[0m\u001B[0;34m,\u001B[0m \u001B[0mkwds\u001B[0m\u001B[0;34m)\u001B[0m\u001B[0;34m\u001B[0m\u001B[0;34m\u001B[0m\u001B[0m\n\u001B[0m\u001B[1;32m    587\u001B[0m \u001B[0;34m\u001B[0m\u001B[0m\n\u001B[1;32m    588\u001B[0m \u001B[0;34m\u001B[0m\u001B[0m\n",
      "\u001B[0;32m/usr/local/lib/python3.7/dist-packages/pandas/io/parsers/readers.py\u001B[0m in \u001B[0;36m_read\u001B[0;34m(filepath_or_buffer, kwds)\u001B[0m\n\u001B[1;32m    480\u001B[0m \u001B[0;34m\u001B[0m\u001B[0m\n\u001B[1;32m    481\u001B[0m     \u001B[0;31m# Create the parser.\u001B[0m\u001B[0;34m\u001B[0m\u001B[0;34m\u001B[0m\u001B[0;34m\u001B[0m\u001B[0m\n\u001B[0;32m--> 482\u001B[0;31m     \u001B[0mparser\u001B[0m \u001B[0;34m=\u001B[0m \u001B[0mTextFileReader\u001B[0m\u001B[0;34m(\u001B[0m\u001B[0mfilepath_or_buffer\u001B[0m\u001B[0;34m,\u001B[0m \u001B[0;34m**\u001B[0m\u001B[0mkwds\u001B[0m\u001B[0;34m)\u001B[0m\u001B[0;34m\u001B[0m\u001B[0;34m\u001B[0m\u001B[0m\n\u001B[0m\u001B[1;32m    483\u001B[0m \u001B[0;34m\u001B[0m\u001B[0m\n\u001B[1;32m    484\u001B[0m     \u001B[0;32mif\u001B[0m \u001B[0mchunksize\u001B[0m \u001B[0;32mor\u001B[0m \u001B[0miterator\u001B[0m\u001B[0;34m:\u001B[0m\u001B[0;34m\u001B[0m\u001B[0;34m\u001B[0m\u001B[0m\n",
      "\u001B[0;32m/usr/local/lib/python3.7/dist-packages/pandas/io/parsers/readers.py\u001B[0m in \u001B[0;36m__init__\u001B[0;34m(self, f, engine, **kwds)\u001B[0m\n\u001B[1;32m    809\u001B[0m             \u001B[0mself\u001B[0m\u001B[0;34m.\u001B[0m\u001B[0moptions\u001B[0m\u001B[0;34m[\u001B[0m\u001B[0;34m\"has_index_names\"\u001B[0m\u001B[0;34m]\u001B[0m \u001B[0;34m=\u001B[0m \u001B[0mkwds\u001B[0m\u001B[0;34m[\u001B[0m\u001B[0;34m\"has_index_names\"\u001B[0m\u001B[0;34m]\u001B[0m\u001B[0;34m\u001B[0m\u001B[0;34m\u001B[0m\u001B[0m\n\u001B[1;32m    810\u001B[0m \u001B[0;34m\u001B[0m\u001B[0m\n\u001B[0;32m--> 811\u001B[0;31m         \u001B[0mself\u001B[0m\u001B[0;34m.\u001B[0m\u001B[0m_engine\u001B[0m \u001B[0;34m=\u001B[0m \u001B[0mself\u001B[0m\u001B[0;34m.\u001B[0m\u001B[0m_make_engine\u001B[0m\u001B[0;34m(\u001B[0m\u001B[0mself\u001B[0m\u001B[0;34m.\u001B[0m\u001B[0mengine\u001B[0m\u001B[0;34m)\u001B[0m\u001B[0;34m\u001B[0m\u001B[0;34m\u001B[0m\u001B[0m\n\u001B[0m\u001B[1;32m    812\u001B[0m \u001B[0;34m\u001B[0m\u001B[0m\n\u001B[1;32m    813\u001B[0m     \u001B[0;32mdef\u001B[0m \u001B[0mclose\u001B[0m\u001B[0;34m(\u001B[0m\u001B[0mself\u001B[0m\u001B[0;34m)\u001B[0m\u001B[0;34m:\u001B[0m\u001B[0;34m\u001B[0m\u001B[0;34m\u001B[0m\u001B[0m\n",
      "\u001B[0;32m/usr/local/lib/python3.7/dist-packages/pandas/io/parsers/readers.py\u001B[0m in \u001B[0;36m_make_engine\u001B[0;34m(self, engine)\u001B[0m\n\u001B[1;32m   1038\u001B[0m             )\n\u001B[1;32m   1039\u001B[0m         \u001B[0;31m# error: Too many arguments for \"ParserBase\"\u001B[0m\u001B[0;34m\u001B[0m\u001B[0;34m\u001B[0m\u001B[0;34m\u001B[0m\u001B[0m\n\u001B[0;32m-> 1040\u001B[0;31m         \u001B[0;32mreturn\u001B[0m \u001B[0mmapping\u001B[0m\u001B[0;34m[\u001B[0m\u001B[0mengine\u001B[0m\u001B[0;34m]\u001B[0m\u001B[0;34m(\u001B[0m\u001B[0mself\u001B[0m\u001B[0;34m.\u001B[0m\u001B[0mf\u001B[0m\u001B[0;34m,\u001B[0m \u001B[0;34m**\u001B[0m\u001B[0mself\u001B[0m\u001B[0;34m.\u001B[0m\u001B[0moptions\u001B[0m\u001B[0;34m)\u001B[0m  \u001B[0;31m# type: ignore[call-arg]\u001B[0m\u001B[0;34m\u001B[0m\u001B[0;34m\u001B[0m\u001B[0m\n\u001B[0m\u001B[1;32m   1041\u001B[0m \u001B[0;34m\u001B[0m\u001B[0m\n\u001B[1;32m   1042\u001B[0m     \u001B[0;32mdef\u001B[0m \u001B[0m_failover_to_python\u001B[0m\u001B[0;34m(\u001B[0m\u001B[0mself\u001B[0m\u001B[0;34m)\u001B[0m\u001B[0;34m:\u001B[0m\u001B[0;34m\u001B[0m\u001B[0;34m\u001B[0m\u001B[0m\n",
      "\u001B[0;32m/usr/local/lib/python3.7/dist-packages/pandas/io/parsers/c_parser_wrapper.py\u001B[0m in \u001B[0;36m__init__\u001B[0;34m(self, src, **kwds)\u001B[0m\n\u001B[1;32m     49\u001B[0m \u001B[0;34m\u001B[0m\u001B[0m\n\u001B[1;32m     50\u001B[0m         \u001B[0;31m# open handles\u001B[0m\u001B[0;34m\u001B[0m\u001B[0;34m\u001B[0m\u001B[0;34m\u001B[0m\u001B[0m\n\u001B[0;32m---> 51\u001B[0;31m         \u001B[0mself\u001B[0m\u001B[0;34m.\u001B[0m\u001B[0m_open_handles\u001B[0m\u001B[0;34m(\u001B[0m\u001B[0msrc\u001B[0m\u001B[0;34m,\u001B[0m \u001B[0mkwds\u001B[0m\u001B[0;34m)\u001B[0m\u001B[0;34m\u001B[0m\u001B[0;34m\u001B[0m\u001B[0m\n\u001B[0m\u001B[1;32m     52\u001B[0m         \u001B[0;32massert\u001B[0m \u001B[0mself\u001B[0m\u001B[0;34m.\u001B[0m\u001B[0mhandles\u001B[0m \u001B[0;32mis\u001B[0m \u001B[0;32mnot\u001B[0m \u001B[0;32mNone\u001B[0m\u001B[0;34m\u001B[0m\u001B[0;34m\u001B[0m\u001B[0m\n\u001B[1;32m     53\u001B[0m \u001B[0;34m\u001B[0m\u001B[0m\n",
      "\u001B[0;32m/usr/local/lib/python3.7/dist-packages/pandas/io/parsers/base_parser.py\u001B[0m in \u001B[0;36m_open_handles\u001B[0;34m(self, src, kwds)\u001B[0m\n\u001B[1;32m    227\u001B[0m             \u001B[0mmemory_map\u001B[0m\u001B[0;34m=\u001B[0m\u001B[0mkwds\u001B[0m\u001B[0;34m.\u001B[0m\u001B[0mget\u001B[0m\u001B[0;34m(\u001B[0m\u001B[0;34m\"memory_map\"\u001B[0m\u001B[0;34m,\u001B[0m \u001B[0;32mFalse\u001B[0m\u001B[0;34m)\u001B[0m\u001B[0;34m,\u001B[0m\u001B[0;34m\u001B[0m\u001B[0;34m\u001B[0m\u001B[0m\n\u001B[1;32m    228\u001B[0m             \u001B[0mstorage_options\u001B[0m\u001B[0;34m=\u001B[0m\u001B[0mkwds\u001B[0m\u001B[0;34m.\u001B[0m\u001B[0mget\u001B[0m\u001B[0;34m(\u001B[0m\u001B[0;34m\"storage_options\"\u001B[0m\u001B[0;34m,\u001B[0m \u001B[0;32mNone\u001B[0m\u001B[0;34m)\u001B[0m\u001B[0;34m,\u001B[0m\u001B[0;34m\u001B[0m\u001B[0;34m\u001B[0m\u001B[0m\n\u001B[0;32m--> 229\u001B[0;31m             \u001B[0merrors\u001B[0m\u001B[0;34m=\u001B[0m\u001B[0mkwds\u001B[0m\u001B[0;34m.\u001B[0m\u001B[0mget\u001B[0m\u001B[0;34m(\u001B[0m\u001B[0;34m\"encoding_errors\"\u001B[0m\u001B[0;34m,\u001B[0m \u001B[0;34m\"strict\"\u001B[0m\u001B[0;34m)\u001B[0m\u001B[0;34m,\u001B[0m\u001B[0;34m\u001B[0m\u001B[0;34m\u001B[0m\u001B[0m\n\u001B[0m\u001B[1;32m    230\u001B[0m         )\n\u001B[1;32m    231\u001B[0m \u001B[0;34m\u001B[0m\u001B[0m\n",
      "\u001B[0;32m/usr/local/lib/python3.7/dist-packages/pandas/io/common.py\u001B[0m in \u001B[0;36mget_handle\u001B[0;34m(path_or_buf, mode, encoding, compression, memory_map, is_text, errors, storage_options)\u001B[0m\n\u001B[1;32m    705\u001B[0m                 \u001B[0mencoding\u001B[0m\u001B[0;34m=\u001B[0m\u001B[0mioargs\u001B[0m\u001B[0;34m.\u001B[0m\u001B[0mencoding\u001B[0m\u001B[0;34m,\u001B[0m\u001B[0;34m\u001B[0m\u001B[0;34m\u001B[0m\u001B[0m\n\u001B[1;32m    706\u001B[0m                 \u001B[0merrors\u001B[0m\u001B[0;34m=\u001B[0m\u001B[0merrors\u001B[0m\u001B[0;34m,\u001B[0m\u001B[0;34m\u001B[0m\u001B[0;34m\u001B[0m\u001B[0m\n\u001B[0;32m--> 707\u001B[0;31m                 \u001B[0mnewline\u001B[0m\u001B[0;34m=\u001B[0m\u001B[0;34m\"\"\u001B[0m\u001B[0;34m,\u001B[0m\u001B[0;34m\u001B[0m\u001B[0;34m\u001B[0m\u001B[0m\n\u001B[0m\u001B[1;32m    708\u001B[0m             )\n\u001B[1;32m    709\u001B[0m         \u001B[0;32melse\u001B[0m\u001B[0;34m:\u001B[0m\u001B[0;34m\u001B[0m\u001B[0;34m\u001B[0m\u001B[0m\n",
      "\u001B[0;31mFileNotFoundError\u001B[0m: [Errno 2] No such file or directory: './data/averagedPMPV_data.csv'"
     ]
    }
   ],
   "source": [
    "import pandas as pd\n",
    "import numpy as np\n",
    "import matplotlib.pyplot as plt\n",
    "import matplotlib.patches as mpatches\n",
    "import seaborn as sns\n",
    "from scipy.stats import ttest_ind\n",
    "\n",
    "## Computing the average number of trees extinghuised following the random policy used during the experiments\n",
    "#################################\n",
    "# importing data\n",
    "dfaveraged_data = pd.read_csv('./data/averagedPMPV_data.csv')\n",
    "dfaveraged_data.columns\n",
    "print(\"Avg. global scores from dataset : \", np.mean(dfaveraged_data[\"global_score\"]))\n",
    "\n",
    "##################################\n",
    "### copy the total rewards observed on your 72 simulations here\n",
    "pomdp_obs_ttrew = [ ]\n",
    "print(\"Avg. global scores from simulations : \", np.mean(pomdp_obs_ttrew))\n",
    "\n",
    "##################################\n",
    "### perform a statistical test to check the hypothesis:\n",
    "## H0 : the mean score from dataset is equal to the mean score obtained from policy simulations\n",
    "## H1 : the mean score from dataset is different to the mean score obtained from policy simulations\n",
    "\n",
    "### perform a second statistical test to check the hypothesis:\n",
    "## H0 : the mean score from dataset is higher than the mean score obtained from policy simulations\n",
    "## H1 : the mean score from dataset is not higher than the mean score obtained from policy simulations\n",
    "\n"
   ]
  },
  {
   "cell_type": "markdown",
   "metadata": {
    "id": "zne9qcGQLI3s"
   },
   "source": [
    "**Draw your conclusion here :** "
   ]
  },
  {
   "cell_type": "markdown",
   "metadata": {
    "id": "4KW99vb5LI3s"
   },
   "source": [
    "Answer:"
   ]
  },
  {
   "cell_type": "markdown",
   "metadata": {
    "id": "1s1YYzpKLI3s"
   },
   "source": [
    "### Task 2.4.2: Qualitative comparison by performing a replay with collected data\n",
    "\n",
    "Save the classifier model you have designed. It will be used by a replay runner to rerun a mission.\n",
    "\n",
    "Our goal is to : \n",
    "1. follow the predictor outputs (the POMDP observations)\n",
    "2. visualize the belief state updates about the human operator's engagement\n",
    "3. check and describe what the POMDP policy would do given the current belief state"
   ]
  },
  {
   "cell_type": "markdown",
   "metadata": {
    "id": "d34b8NDWLI3s"
   },
   "source": [
    "***1. Save your the classifier model***\n",
    "\n",
    "see https://scikit-learn.org/stable/modules/model_persistence.html"
   ]
  },
  {
   "cell_type": "code",
   "execution_count": null,
   "metadata": {
    "id": "H_8q3MZVLI3s"
   },
   "outputs": [],
   "source": [
    "from joblib import dump, load\n",
    "\n",
    "#########################################\n",
    "# save the model named: classifier.joblib\n",
    "\n"
   ]
  },
  {
   "cell_type": "markdown",
   "metadata": {
    "id": "JTGdWHcjLI3t"
   },
   "source": [
    "Now, save this classifier.joblib file in \"PyPOMDP/pypompd/data/\" folder, and\n",
    "\n",
    "***2. Run the replay program in the same terminal as before***\n",
    "\n",
    "Note you may choose a subject file (one of the excluded participants for instance) to replay the experiment.\n",
    "\n",
    "For that, see this command line example:\n",
    "\n",
    "**python replay.py pbvi --env Firefighter-2D.POMDP --policyfile alphavecfile.policy --logfile logFIREpbvi --max_play 60 --option replay --sim 4 --expfile data/dfsub_33alldataproc.csv --classif YOUR_CLASSIFIER_MODEL --fnames THE_FEATURES_NAMES_YOU_USED**\n",
    "\n",
    "where THE_FEATURES_NAMES_YOU_USED can be for instance 'mode,nav,tank,nbAOI1', and YOUR_CLASSIFIER_MODEL something like 'data/classifier.joblib'.\n",
    "You may get a look in the log folder. \n",
    "\n",
    "The last logfile details the sequence of symbolic observations predicted from the selected features of the participant."
   ]
  },
  {
   "cell_type": "markdown",
   "metadata": {
    "id": "Ue9rEhqFLI3t"
   },
   "source": [
    "***3. Describe what the POMDP policy seems to do given the current belief state***\n",
    "\n",
    "**Draw your conclusions here:**"
   ]
  },
  {
   "cell_type": "markdown",
   "metadata": {
    "id": "52pep8rPLI3t"
   },
   "source": [
    "Answer:"
   ]
  },
  {
   "cell_type": "markdown",
   "metadata": {
    "id": "VXZlQkKGLI3t"
   },
   "source": [
    "## Task 3 : Refining the POMDP model"
   ]
  },
  {
   "cell_type": "markdown",
   "metadata": {
    "id": "Rtkh235jLI3t"
   },
   "source": [
    "### Refine the POMDP model to integrate a visible state variable $s_r$ to indicate the operation mode of the robot as part of the state\n",
    "\n",
    "In this task, the aim is to expand the state spape $S$ such as: $S = S_h \\times S_r$, with $S_h=\\{e, ne\\}$ and $S_r=\\{manu,auto\\}$, and to conditionnate the observation function with respect to the action taken.\n",
    "\n",
    "1. If you observe the replay of experiences, how could you model the fact that when the robot operation mode changes, there is a bigger/lower chance the state of the human operator changes as well ?\n",
    "\n",
    "2. If this fact is taken into account, it may changes the transition function. So, let's consider now two additionnal expert parameters $\\beta$ and $\\eta$ that will express the chance we have to obtain for instance : \n",
    "$$p(s'=(engaged,manual)|s=(engaged,auto),a=manual) = 1-\\beta$$\n",
    "$$p(s'=(notengaged,manual)|s=(engaged,auto),a=manual) = \\beta$$\n",
    "$$p(s'=(engaged,auto)|s=(engaged,manual),a=auto) = 1-\\eta$$\n",
    "$$p(s'=(notengaged,auto)|s=(engaged,manual),a=auto) = \\eta$$\n",
    "\n",
    "Note the transition function, now a $4x4$ matrix, need to be modified to integrate this new parameters. \n",
    "\n",
    "We will assume that the robot operation mode state variable has a deterministic dynamics. It means that when the action $auto$ is chosen, we are $100\\%$ sure that the operation mode switches to $auto$.\n",
    "\n",
    "If you have any problem with the grammar of the POMDP file description, please get a look at https://www.pomdp.org/code/pomdp-file-spec.html\n",
    "\n",
    "3. Note, you can learn an observation function now conditionned on the action, to be able to integrate this new probabilities through belief state updates, i.e. : $b^o_a(s') \\propto p(o|s',a)p(s'|s,a)b(s)$ \n",
    "\n",
    "4. Please revise some of the previous tasks in the cells bellow. "
   ]
  },
  {
   "cell_type": "markdown",
   "metadata": {
    "id": "DHoLgYa7LI3t"
   },
   "source": [
    "### Task 3.1. Revise task 1.1.3 to separate your dataset in two datasets depending on the robot operation mode "
   ]
  },
  {
   "cell_type": "code",
   "execution_count": null,
   "metadata": {
    "scrolled": false,
    "id": "4EoVTk8JLI3t",
    "outputId": "22c4c958-b6fe-4c06-87f2-8a45b8c7edfa"
   },
   "outputs": [
    {
     "ename": "SyntaxError",
     "evalue": "invalid syntax (<ipython-input-12-f7598a1ab535>, line 22)",
     "output_type": "error",
     "traceback": [
      "\u001B[1;36m  File \u001B[1;32m\"<ipython-input-12-f7598a1ab535>\"\u001B[1;36m, line \u001B[1;32m22\u001B[0m\n\u001B[1;33m    subsubdataset_manu = ?\u001B[0m\n\u001B[1;37m                         ^\u001B[0m\n\u001B[1;31mSyntaxError\u001B[0m\u001B[1;31m:\u001B[0m invalid syntax\n"
     ]
    }
   ],
   "source": [
    "import pandas as pd\n",
    "import numpy as np\n",
    "\n",
    "##############################\n",
    "# importing data\n",
    "df10labeled_data = pd.read_csv('./data/df10labeled_data.csv')\n",
    "print(df10labeled_data)\n",
    "\n",
    "##############################\n",
    "## excluding some subjects as before\n",
    "## we empirically choose to exclude subjects 19, 23, 33, 38\n",
    "subdf10labeled_data = df10labeled_data.loc[(df10labeled_data[\"subject\"]!=19)&\n",
    "                                           (df10labeled_data[\"subject\"]!=23)&\n",
    "                                           (df10labeled_data[\"subject\"]!=33)&\n",
    "                                           (df10labeled_data[\"subject\"]!=38)]\n",
    "print(subdf10labeled_data)\n",
    "\n",
    "######################################################\n",
    "# separate the dataset with respect to operation mode\n",
    "# and select the features to be used for classification\n",
    "\n",
    "subsubdataset_manu = ?\n",
    "\n",
    "subsubdataset_auto = ?\n",
    "\n"
   ]
  },
  {
   "cell_type": "markdown",
   "metadata": {
    "id": "NyMtmERFLI3u"
   },
   "source": [
    "### Task 3.2. Revise tasks 1.1.4 and 1.1.5 to train a classifier per dataset and then, extract their confusion matrix"
   ]
  },
  {
   "cell_type": "code",
   "execution_count": null,
   "metadata": {
    "id": "0JKVvxlrLI3u"
   },
   "outputs": [],
   "source": [
    "#### PUT YOUR CODE HERE"
   ]
  },
  {
   "cell_type": "markdown",
   "metadata": {
    "id": "3hJqUEkiLI3u"
   },
   "source": [
    "### Task 3.3. Revise task 2.1 to define your POMDP in the Cassandra file format\n",
    "\n",
    "Note you may probably have different transition and observations functions depending on the action manu/auto.\n",
    "\n",
    "Copy and paste your POMDP model in Cassandra format hereafter:"
   ]
  },
  {
   "cell_type": "markdown",
   "metadata": {
    "id": "q7bxG_UmLI3u"
   },
   "source": [
    "\n",
    "### Firefighter.4D.POMDP\n",
    "\n",
    "discount: 0.95\n",
    "\n",
    "values: reward\n",
    "\n",
    "states: notengagedmanu engagedmanu notengagedauto engagedauto \n",
    "\n",
    "actions: manu auto\n",
    "\n",
    "observations: onotengaged oengaged\n",
    "\n",
    "start: 0.25 0.25 0.25 0.25\n",
    "\n",
    "..."
   ]
  },
  {
   "cell_type": "markdown",
   "metadata": {
    "id": "PfAJ0DFPLI3v"
   },
   "source": [
    "### Task 3.4. Revise tasks 2.2 and 2.3"
   ]
  },
  {
   "cell_type": "markdown",
   "metadata": {
    "id": "rFWvNyu8LI3v"
   },
   "source": [
    "#### Copy and paste the used command lines for POMDP solving and the results obtained with 500 simulations for this new POMDP model and optimized policy\n"
   ]
  },
  {
   "cell_type": "markdown",
   "metadata": {
    "id": "prJeHyFHLI3v"
   },
   "source": [
    "Answer:"
   ]
  },
  {
   "cell_type": "markdown",
   "metadata": {
    "id": "PW45C0VyLI3v"
   },
   "source": [
    "## Champions' Question:\n",
    "\n",
    "**Is this new POMDP model presenting a significant improvement according to the expected cumulated rewards when compared with the random policy used during experiments?**\n",
    "\n",
    "\n",
    "**Is this new POMDP model presenting a significant improvement according to the expected cumulated rewards when compared with the policy optimized based on the previous POMDP model?**"
   ]
  },
  {
   "cell_type": "markdown",
   "metadata": {
    "id": "ykC_iwQTLI3v"
   },
   "source": [
    "Answer:"
   ]
  },
  {
   "cell_type": "code",
   "execution_count": null,
   "metadata": {
    "id": "5eW1F3uhLI3v"
   },
   "outputs": [],
   "source": []
  }
 ],
 "metadata": {
  "kernelspec": {
   "display_name": "Python 3",
   "language": "python",
   "name": "python3"
  },
  "language_info": {
   "codemirror_mode": {
    "name": "ipython",
    "version": 3
   },
   "file_extension": ".py",
   "mimetype": "text/x-python",
   "name": "python",
   "nbconvert_exporter": "python",
   "pygments_lexer": "ipython3",
   "version": "3.8.3"
  },
  "colab": {
   "name": "BE_Firefighter_Robot_Game_IETA.ipynb",
   "provenance": []
  }
 },
 "nbformat": 4,
 "nbformat_minor": 0
}
